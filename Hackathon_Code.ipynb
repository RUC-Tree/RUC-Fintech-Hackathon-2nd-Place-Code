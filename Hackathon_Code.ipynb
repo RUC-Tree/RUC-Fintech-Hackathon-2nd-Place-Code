{
 "cells": [
  {
   "cell_type": "markdown",
   "id": "cc639796-f5ea-4f77-996d-c58af94d5aac",
   "metadata": {},
   "source": [
    "## RUC Fintech Hackathon (2024) \n",
    "### RUC-Tree"
   ]
  },
  {
   "cell_type": "markdown",
   "id": "3c15d6d6-131b-42d9-9f9f-c441a154d555",
   "metadata": {},
   "source": [
    "### 1.Import the packages"
   ]
  },
  {
   "cell_type": "code",
   "execution_count": null,
   "id": "7d997b81-4970-4bab-9716-00b1e7f486b0",
   "metadata": {
    "tags": []
   },
   "outputs": [],
   "source": [
    "import numpy as np\n",
    "import pandas as pd\n",
    "import re\n",
    "import jieba\n",
    "from collections import Counter\n",
    "import matplotlib.pyplot as plt\n",
    "import seaborn as sns \n",
    "import plotly.express as px\n",
    "from graphviz import Digraph\n",
    "import matplotlib.cm as cm\n",
    "from sklearn import datasets, linear_model\n",
    "from sklearn.preprocessing import StandardScaler\n",
    "from sklearn.preprocessing import LabelEncoder\n",
    "from sklearn.preprocessing import OneHotEncoder\n",
    "from sklearn.preprocessing import PolynomialFeatures\n",
    "from sklearn.model_selection import train_test_split,KFold,LeaveOneOut,LeavePOut \n",
    "from sklearn.model_selection import cross_validate\n",
    "from sklearn.model_selection import cross_val_predict\n",
    "from sklearn.model_selection import cross_val_score\n",
    "from sklearn.linear_model import LinearRegression\n",
    "from sklearn.linear_model import Lasso, LassoCV\n",
    "from sklearn.linear_model import Ridge, RidgeCV\n",
    "from sklearn.linear_model import ElasticNet, ElasticNetCV\n",
    "from sklearn.linear_model import LogisticRegression\n",
    "from sklearn.linear_model import HuberRegressor\n",
    "from sklearn.metrics import mean_absolute_error, mean_squared_error, r2_score\n",
    "from sklearn.metrics import make_scorer\n",
    "from sklearn import neighbors,preprocessing  \n",
    "from sklearn.datasets import make_regression \n",
    "from sklearn.decomposition import PCA\n",
    "from keras.models import Sequential\n",
    "from keras.models import Model\n",
    "from keras.layers import Input,Dense\n",
    "import optuna\n",
    "from tensorflow import keras\n",
    "from tensorflow.keras import layers, models\n",
    "from sklearn.feature_selection import SelectKBest\n",
    "from sklearn.feature_selection import f_regression\n",
    "from sklearn.feature_selection import mutual_info_regression\n",
    "from keras.optimizers import SGD\n",
    "from keras.optimizers import Adam\n",
    "from keras.callbacks import EarlyStopping\n",
    "from sklearn.ensemble import RandomForestRegressor\n",
    "from sklearn.model_selection import GridSearchCV\n",
    "from sklearn.inspection import permutation_importance\n",
    "from sklearn.inspection import PartialDependenceDisplay\n",
    "from sklearn.neighbors import KNeighborsRegressor\n",
    "from sklearn.impute import KNNImputer\n",
    "import xgboost as xgb\n",
    "import catboost as cb\n",
    "import lightgbm as lgb\n",
    "from openfe import OpenFE, tree_to_formula, transform\n",
    "from autogluon.tabular import TabularPredictor\n",
    "from autogluon.tabular.configs.hyperparameter_configs import get_hyperparameter_config\n",
    "from autogluon.tabular import FeatureMetadata\n",
    "from transformers import BertTokenizer, BertModel\n",
    "import warnings\n",
    "warnings.filterwarnings(action = 'ignore')\n",
    "plt.rcParams['font.sans-serif']=['SimHei'] \n",
    "plt.rcParams['axes.unicode_minus']=False\n",
    "%matplotlib inline"
   ]
  },
  {
   "cell_type": "markdown",
   "id": "e5973dc1-dbff-4879-b110-0908b9dba3b1",
   "metadata": {},
   "source": [
    "### 2.Data Pre-processing\n",
    "#### 2.1 Read the file"
   ]
  },
  {
   "cell_type": "code",
   "execution_count": null,
   "id": "a446dd6e-087d-4ba2-b95c-242c7647cdfd",
   "metadata": {
    "tags": []
   },
   "outputs": [],
   "source": [
    "train_data = pd.read_excel(r'C:\\Users\\Manager.Mo\\Desktop\\房价预测\\raw_train_data.xlsx')\n",
    "test_data = pd.read_excel(r'C:\\Users\\Manager.Mo\\Desktop\\房价预测\\raw_test_data.xlsx')\n",
    "detail_data = pd.read_excel(r'C:\\Users\\Manager.Mo\\Desktop\\房价预测\\details.xlsx')\n",
    "train_data.drop_duplicates(inplace=True)\n",
    "# merge detail_data with train_data and test_data\n",
    "detail_data.rename(columns = {'名称':'小区名称','区县':'区域','建筑结构':'建筑结构（小区）'},inplace = True)\n",
    "train_data = pd.merge(train_data,detail_data.drop(['城市','板块','环线位置'],axis = 1),on = ['区域','小区名称'],how = 'left')\n",
    "test_data = pd.merge(test_data,detail_data.drop(['城市','板块','环线位置'],axis = 1),on = ['区域','小区名称'],how = 'left')"
   ]
  },
  {
   "cell_type": "markdown",
   "id": "9e3889e0-e487-4e68-89d9-fee83d44da6c",
   "metadata": {},
   "source": [
    "#### 2.2 Define the extraction function"
   ]
  },
  {
   "cell_type": "code",
   "execution_count": null,
   "id": "ba11fdcd-8eea-40cf-b3e2-ca8b67696cf3",
   "metadata": {
    "tags": []
   },
   "outputs": [],
   "source": [
    "def extract_numbers_inplace(series):  \n",
    "    \"\"\"extract the numbers in the raw data\"\"\"\n",
    "    def extract_numbers(s):  \n",
    "        if pd.notnull(s):  \n",
    "            match = re.search(r'(-?\\d+(\\.\\d+)?)', s)  \n",
    "            if match:  \n",
    "                return match.group()  \n",
    "        return np.nan  \n",
    "      \n",
    "    return series.apply(extract_numbers)  \n",
    "\n",
    "def extract_room_info(house_type):  \n",
    "    if pd.isnull(house_type):  \n",
    "        return (np.nan, np.nan, np.nan, np.nan)  \n",
    "    else:  \n",
    "        pattern = r'(\\d+)室(\\d+)厅(\\d+)厨(\\d+)卫'  \n",
    "        match = re.match(pattern, house_type)  \n",
    "        if match:  \n",
    "            return match.groups()  \n",
    "        else:  \n",
    "            return (np.nan, np.nan, np.nan, np.nan) \n",
    "        \n",
    "def extract_floor_info(floor_str):  \n",
    "    if pd.isnull(floor_str):  \n",
    "        return np.nan, np.nan  \n",
    "    match = re.search(r'(\\D+)\\s*\\(共(\\d+)层\\)', floor_str)  \n",
    "    if match:  \n",
    "        return match.group(1), int(match.group(2))  \n",
    "    else:  \n",
    "        return np.nan, np.nan  \n",
    "    \n",
    "# build a dictionary to convert Chinese numerals to Arabic numerals\n",
    "hanzi_to_digit = {  \n",
    "     '一': 1, '二': 2, '两': 2, '三': 3, '四': 4, '五': 5,  \n",
    "    '六': 6, '七': 7, '八': 8, '九': 9, '十': 10, '百': 100  \n",
    "}  \n",
    "  \n",
    "def hanzi_to_arabic(hanzi):  \n",
    "    \"\"\"Convert Chinese numerals to Arabic numerals.\"\"\"\n",
    "    result = 0  \n",
    "    tmp_result = 0  \n",
    "    for char in hanzi:  \n",
    "        if char in hanzi_to_digit:  \n",
    "            if char == '百':  \n",
    "                result += tmp_result * 100  \n",
    "                tmp_result = 0  \n",
    "            elif char == '十':  \n",
    "                if tmp_result == 0:  \n",
    "                    tmp_result = 10  \n",
    "                else:  \n",
    "                    tmp_result *= 10  \n",
    "            elif char == '零':  \n",
    "                pass  \n",
    "            else:  \n",
    "                tmp_result += hanzi_to_digit[char]  \n",
    "    result += tmp_result  \n",
    "    return result  \n",
    "\n",
    "def calculate_ratio(row):\n",
    "    return row['户'] / row['梯']\n",
    "def extract_fee(s):  \n",
    "    if pd.isnull(s) or s == '':  \n",
    "        return np.nan  \n",
    "    matches = re.findall(r\"\\d+\\.?\\d*\", s)  \n",
    "    if len(matches) == 0:  \n",
    "        return np.nan    \n",
    "    elif len(matches) == 1:  \n",
    "        return float(matches[0])  \n",
    "    else:  \n",
    "        return (float(matches[0]) + float(matches[1])) / 2  \n",
    "    \n",
    "def fenci(text_data):\n",
    "    text_data = text_data.astype(str) \n",
    "\n",
    "    words_list = []\n",
    "\n",
    "    with open(r'C:\\Users\\Manager.Mo\\Desktop\\房价预测\\hit_stopwords.txt', encoding='utf-8') as f: # HIT Stopwords\n",
    "        stop_words_raw = f.readlines() \n",
    "    stop_words = set(word.strip('\\n') for word in stop_words_raw) \n",
    "\n",
    "    #jieba.load_userdict('/home/mw/project/dict_real_estate.txt') # use the Sogou and Baidu Real Estate Dictionary\n",
    "\n",
    "    for text in text_data:\n",
    "        word_generator = jieba.cut(text)\n",
    "        words = [word for word in word_generator if word not in stop_words and len(word) > 1] \n",
    "        words = [word for word in words if re.match(r'[\\u4e00-\\u9fa5]+', word)]  # filter out non-Chinese characters\n",
    "        words_list.append(words)\n",
    "\n",
    "    return words_list    \n",
    "\n",
    "\n",
    "def gen_dummies(data):\n",
    "    \"\"\"\"Generate dummy variables for transportation, surrounding facilities, and layout features from the provided data.\"\"\"\n",
    "    transport_dummies_dict = {\n",
    "        '是否靠近公交站':['路站','公交','公交站','公交车','公交线路','公交路线','公交车站','公交站点'],\n",
    "        '是否靠近轻轨站':['轻轨','轻轨站'],\n",
    "        '是否靠近火车站/高铁站':['火车站','高铁'],\n",
    "        '是否靠近机场':['机场','空港']\n",
    "    } \n",
    "\n",
    "    transport_dummies = []\n",
    "\n",
    "    for index, words in enumerate(fenci(data['交通出行'])):\n",
    "        dummy = {key: 0 for key in transport_dummies_dict}\n",
    "        for key, value in transport_dummies_dict.items():\n",
    "            if any(word in words for word in value):\n",
    "                dummy[key] = 1\n",
    "        transport_dummies.append(dummy)\n",
    "  \n",
    "    surrouding_dummies_dict = {\n",
    "        '是否有医疗设施': ['医院', '三甲', '医疗', '诊所', '卫生院'],\n",
    "        '是否有银行网点': ['银行', '农行', '支行'], \n",
    "        '是否有娱乐休闲': ['电影院', '广场', '商场', '商城', '商圈', '饭店', '湿地', '步行街', '欢乐谷', '游乐场', 'KTV', '剧院','万达'],\n",
    "        '是否有教育机构（幼儿园）': ['幼儿园'],\n",
    "        '是否有市场商店': ['农贸市场', '便利店', '菜市场', '商场', '商城']\n",
    "    } \n",
    "\n",
    "    surrouding_dummies = []\n",
    "\n",
    "    for index, words in enumerate(fenci(data['周边配套'])):\n",
    "        dummy = {key: 0 for key in surrouding_dummies_dict}\n",
    "        for key, value in surrouding_dummies_dict.items():\n",
    "            if any(word in words for word in value):\n",
    "                dummy[key] = 1\n",
    "        surrouding_dummies.append(dummy)\n",
    "\n",
    "    layout_dummies_dict = {\n",
    "        '是否采光明亮':['阳面','明厨','明卫','采光','开阔','阳光','光线','敞亮','双阳','通透','明亮','朝阳'],\n",
    "        '是否有落地窗':['落地窗'],\n",
    "        '是否有飘窗':['飘窗'],\n",
    "        '是否为洋房':['洋房'],\n",
    "        '是否有储藏室':['储藏室'],\n",
    "        '是否有地下室':['地下室'],\n",
    "        '是否有露台':['露台'],\n",
    "        '是否有小院':['小院'],\n",
    "        '是否有儿童房':['儿童房'],\n",
    "        '是否户型方正':['方正'],\n",
    "        '是否公摊面积小':['小公摊','公摊小','无公摊','公摊面积小'],\n",
    "        '是否温馨舒适':['安静','干净','舒适','隐私','私密性','温馨','方便'],\n",
    "        '是否为自住房':['自住'],\n",
    "        '是否物业良好':['物业'],\n",
    "        '是否有天然气':['天然气'],\n",
    "        '是否民水民电':['民水民电', '民水', '民电'],\n",
    "        '是否临街':['临街'],\n",
    "        '是否急售':['急售']\n",
    "    }\n",
    "    \n",
    "    layout_dummies = []\n",
    "\n",
    "    for index, words in enumerate(fenci(data['户型介绍'])):  \n",
    "        dummy = {key: 0 for key in layout_dummies_dict}  \n",
    "        for key, value in layout_dummies_dict.items():\n",
    "            if any(word in words for word in value):\n",
    "                dummy[key] = 1 \n",
    "        layout_dummies.append(dummy)\n",
    "\n",
    "    transport_dummies_df = pd.DataFrame(transport_dummies, index=data.index).fillna(0)\n",
    "    surrouding_dummies_df = pd.DataFrame(surrouding_dummies, index=data.index).fillna(0)\n",
    "    layout_dummies_df = pd.DataFrame(layout_dummies, index=data.index).fillna(0)\n",
    "\n",
    "    dummies_df = pd.concat([transport_dummies_df, surrouding_dummies_df,layout_dummies_df], axis=1)\n",
    "\n",
    "    return dummies_df\n",
    "\n",
    "def add_na_columns(df, columns_to_check):  \n",
    "    \"\"\"  \n",
    "    Add the corresponding \"_NA\" column for the specified column to indicate whether the original column is empty.\n",
    "    \"\"\"  \n",
    "    # 遍历要检查的列名列表  \n",
    "    for column in columns_to_check:  \n",
    "        # 生成新的列名  \n",
    "        new_column_name = f\"{column}_NA\"  \n",
    "        # 检查原列是否为空，并生成对应的\"_NA\"列  \n",
    "        df[new_column_name] = df[column].isnull().astype(int)  \n",
    "      \n",
    "    return df  \n",
    "\n",
    "def add_subway_column(df):  \n",
    "    df['地铁'] = df['房屋优势'].str.contains('地铁', case=False, na=False).astype(int)\n",
    "    return df  "
   ]
  },
  {
   "cell_type": "markdown",
   "id": "5ea9f3c7-e010-4875-8a27-7e41fe7855f3",
   "metadata": {},
   "source": [
    "#### 2.3 clean the data"
   ]
  },
  {
   "cell_type": "code",
   "execution_count": null,
   "id": "c3d9154f-7f1e-4519-9478-9a64c4c56ee9",
   "metadata": {
    "tags": []
   },
   "outputs": [],
   "source": [
    "# handle the '房屋优势' column manually\n",
    "train_data['停车费用'] = train_data['停车费用'].replace('1800', '150') \n",
    "train_data['停车费用'] = train_data['停车费用'].replace('地下停车位物业收取管理费50', '50') \n",
    "train_data['停车费用'] = train_data['停车费用'].replace('1200元/年/位', '100') \n",
    "train_data['停车费用'] = train_data['停车费用'].replace('免费', '0') \n",
    "train_data['停车费用'] = train_data['停车费用'].replace('地上400-500', '450') \n",
    "train_data['停车费用'] = train_data['停车费用'].replace('租金350/月+50元管理费', '400') \n",
    "train_data['停车费用'] = train_data['停车费用'].replace('地下:400', '400') \n",
    "train_data['停车费用'] = train_data['停车费用'].replace('400-500', '450') \n",
    "train_data['停车费用'] = train_data['停车费用'].replace('90元/月/位', '90') \n",
    "train_data['停车费用'] = train_data['停车费用'].replace('100元一个月', '100') \n",
    "train_data['停车费用'] = train_data['停车费用'].replace('无固定车位不收费', '0') \n",
    "train_data['停车费用'] = train_data['停车费用'].replace('地上200', '200') \n",
    "train_data['停车费用'] = train_data['停车费用'].replace('地上100', '100') \n",
    "train_data['停车费用'] = train_data['停车费用'].replace('地下200', '200') \n",
    "train_data['停车费用'] = train_data['停车费用'].replace('地上100，地下200', '150') \n",
    "train_data['停车费用'] = train_data['停车费用'].replace('地上250，地下350', '300') \n",
    "train_data['停车费用'] = train_data['停车费用'].replace('200元/月/位', '200') \n",
    "train_data['停车费用'] = train_data['停车费用'].replace('无', '0') \n",
    "train_data['停车费用'] = train_data['停车费用'].replace('地上300；地下400', '350') \n",
    "train_data['停车费用'] = train_data['停车费用'].replace('地上350元/月/位，地下400元/月/位', '375') \n",
    "train_data['停车费用'] = train_data['停车费用'].replace('地下车库400', '400') \n",
    "train_data['停车费用'] = train_data['停车费用'].replace('地上250地下88', '169') \n",
    "train_data['停车费用'] = train_data['停车费用'].replace('地上100地下230', '165') \n",
    "train_data['停车费用'] = train_data['停车费用'].replace('暂无', '0') \n",
    "train_data['停车费用'] = train_data['停车费用'].replace('地上120地下200', '160') \n",
    "train_data['停车费用'] = train_data['停车费用'].replace('120/300', '210') \n",
    "train_data['停车费用'] = train_data['停车费用'].replace('地上:100', '100') \n",
    "train_data['停车费用'] = train_data['停车费用'].replace('600-800', '700') \n",
    "train_data['停车费用'] = train_data['停车费用'].replace('100地上', '100') \n",
    "train_data['停车费用'] = train_data['停车费用'].replace('月付180,年付150,地下260', '205') \n",
    "train_data['停车费用'] = train_data['停车费用'].replace('地上:150', '150') \n",
    "train_data['停车费用'] = train_data['停车费用'].replace('地下300', '300') \n",
    "train_data['停车费用'] = train_data['停车费用'].replace('地上免费', '0') \n",
    "train_data['停车费用'] = train_data['停车费用'].replace('80-100', '90') \n",
    "train_data['停车费用'] = train_data['停车费用'].replace('地上0元', '0') \n",
    "train_data['停车费用'] = train_data['停车费用'].replace('无停车费', '0') \n",
    "train_data['停车费用'] = train_data['停车费用'].replace('管理费120', '120') \n",
    "train_data['停车费用'] = train_data['停车费用'].replace('350-500', '425') \n",
    "train_data['停车费用'] = train_data['停车费用'].replace('地上100，地下250', '175') \n",
    "train_data['停车费用'] = train_data['停车费用'].replace('地上100地下三百', '200') \n",
    "train_data['停车费用'] = train_data['停车费用'].replace('地上1.6以下60/月，1/6到3.0是90/月，3.0以上是120/月', '90') \n",
    "train_data['停车费用'] = train_data['停车费用'].replace('地上:200', '200') \n",
    "train_data['停车费用'] = train_data['停车费用'].replace('地上10', '10') \n",
    "train_data['停车费用'] = train_data['停车费用'].replace('0n', '50') \n",
    "train_data['停车费用'] = train_data['停车费用'].replace('1200', '100') \n",
    "train_data['停车费用'] = train_data['停车费用'].replace('400~500', '450') \n",
    "train_data['停车费用'] = train_data['停车费用'].replace('500-600', '550') \n",
    "test_data['停车费用'] = test_data['停车费用'].replace('1800', '150') \n",
    "test_data['停车费用'] = test_data['停车费用'].replace('地下停车位物业收取管理费50', '50') \n",
    "test_data['停车费用'] = test_data['停车费用'].replace('1200元/年/位', '100') \n",
    "test_data['停车费用'] = test_data['停车费用'].replace('免费', '0') \n",
    "test_data['停车费用'] = test_data['停车费用'].replace('地上400-500', '450') \n",
    "test_data['停车费用'] = test_data['停车费用'].replace('租金350/月+50元管理费', '400') \n",
    "test_data['停车费用'] = test_data['停车费用'].replace('地下:400', '400') \n",
    "test_data['停车费用'] = test_data['停车费用'].replace('400-500', '450') \n",
    "test_data['停车费用'] = test_data['停车费用'].replace('90元/月/位', '90') \n",
    "test_data['停车费用'] = test_data['停车费用'].replace('100元一个月', '100') \n",
    "test_data['停车费用'] = test_data['停车费用'].replace('无固定车位不收费', '0') \n",
    "test_data['停车费用'] = test_data['停车费用'].replace('地上200', '200') \n",
    "test_data['停车费用'] = test_data['停车费用'].replace('地上100', '100') \n",
    "test_data['停车费用'] = test_data['停车费用'].replace('地下200', '200') \n",
    "test_data['停车费用'] = test_data['停车费用'].replace('地上100，地下200', '150') \n",
    "test_data['停车费用'] = test_data['停车费用'].replace('地上250，地下350', '300') \n",
    "test_data['停车费用'] = test_data['停车费用'].replace('200元/月/位', '200') \n",
    "test_data['停车费用'] = test_data['停车费用'].replace('无', '0') \n",
    "test_data['停车费用'] = test_data['停车费用'].replace('地上300；地下400', '350') \n",
    "test_data['停车费用'] = test_data['停车费用'].replace('地上350元/月/位，地下400元/月/位', '375') \n",
    "test_data['停车费用'] = test_data['停车费用'].replace('地下车库400', '400') \n",
    "test_data['停车费用'] = test_data['停车费用'].replace('地上250地下88', '169') \n",
    "test_data['停车费用'] = test_data['停车费用'].replace('地上100地下230', '165') \n",
    "test_data['停车费用'] = test_data['停车费用'].replace('暂无', '0') \n",
    "test_data['停车费用'] = test_data['停车费用'].replace('地上120地下200', '160') \n",
    "test_data['停车费用'] = test_data['停车费用'].replace('120/300', '210') \n",
    "test_data['停车费用'] = test_data['停车费用'].replace('地上:100', '100') \n",
    "test_data['停车费用'] = test_data['停车费用'].replace('600-800', '700') \n",
    "test_data['停车费用'] = test_data['停车费用'].replace('100地上', '100') \n",
    "test_data['停车费用'] = test_data['停车费用'].replace('月付180,年付150,地下260', '205') \n",
    "test_data['停车费用'] = test_data['停车费用'].replace('地上:150', '150') \n",
    "test_data['停车费用'] = test_data['停车费用'].replace('地下300', '300') \n",
    "test_data['停车费用'] = test_data['停车费用'].replace('地上免费', '0') \n",
    "test_data['停车费用'] = test_data['停车费用'].replace('80-100', '90') \n",
    "test_data['停车费用'] = test_data['停车费用'].replace('地上0元', '0') \n",
    "test_data['停车费用'] = test_data['停车费用'].replace('无停车费', '0') \n",
    "test_data['停车费用'] = test_data['停车费用'].replace('管理费120', '120') \n",
    "test_data['停车费用'] = test_data['停车费用'].replace('350-500', '425') \n",
    "test_data['停车费用'] = test_data['停车费用'].replace('地上100，地下250', '175') \n",
    "test_data['停车费用'] = test_data['停车费用'].replace('地上100地下三百', '200') \n",
    "test_data['停车费用'] = test_data['停车费用'].replace('地上1.6以下60/月，1/6到3.0是90/月，3.0以上是120/月', '90') \n",
    "test_data['停车费用'] = test_data['停车费用'].replace('地上:200', '200') \n",
    "test_data['停车费用'] = test_data['停车费用'].replace('地上10', '10') \n",
    "test_data['停车费用'] = test_data['停车费用'].replace('0n', '50') \n",
    "test_data['停车费用'] = test_data['停车费用'].replace('1200', '100') \n",
    "test_data['停车费用'] = test_data['停车费用'].replace('400~500', '450') \n",
    "test_data['停车费用'] = test_data['停车费用'].replace('500-600', '550') "
   ]
  },
  {
   "cell_type": "code",
   "execution_count": null,
   "id": "30f213b1-bcdc-4bed-a590-8b12e87d415d",
   "metadata": {
    "tags": []
   },
   "outputs": [],
   "source": [
    "keywords = ['无', '无开发商', '不知道']   \n",
    "train_data['开发商'].replace(keywords, np.nan, inplace=True) \n",
    "test_data['开发商'].replace(keywords, np.nan, inplace=True) "
   ]
  },
  {
   "cell_type": "code",
   "execution_count": null,
   "id": "e94a592b-d525-4e3a-bb48-f0f7bae7b14c",
   "metadata": {
    "tags": []
   },
   "outputs": [
    {
     "name": "stderr",
     "output_type": "stream",
     "text": [
      "Building prefix dict from the default dictionary ...\n",
      "Loading model from cache C:\\Users\\Manager.Mo\\AppData\\Local\\Temp\\jieba.cache\n",
      "Loading model cost 1.041 seconds.\n",
      "Prefix dict has been built successfully.\n"
     ]
    }
   ],
   "source": [
    "columns_to_check = [\"房屋户型\", \"所在楼层\", \"建筑面积\", \"套内面积\", \"梯户比例\", \"配备电梯\", \n",
    "                    \"上次交易\", \"房屋年限\", \"产权所属\",'物业类别','开发商','物业公司','绿 化 率','容 积 率',\n",
    "                   '物 业 费','建筑结构（小区）','物业办公电话','产权描述','燃气费','供热费','停车位']  \n",
    "# use the functions\n",
    "train_data['建筑面积'] = extract_numbers_inplace(train_data['建筑面积'])  \n",
    "train_data['房屋总数'] = extract_numbers_inplace(train_data['房屋总数'])  \n",
    "train_data['楼栋总数'] = extract_numbers_inplace(train_data['楼栋总数']) \n",
    "train_data['绿 化 率'] = extract_numbers_inplace(train_data['绿 化 率']) \n",
    "train_data['物 业 费'] = train_data['物 业 费'].apply(extract_fee)\n",
    "train_data['燃气费'] = train_data['燃气费'].apply(extract_fee)\n",
    "train_data['供热费'] = train_data['供热费'].apply(extract_fee)\n",
    "train_data[['卧室', '客厅', '厨房', '卫生间']] = pd.DataFrame(train_data['房屋户型'].apply(extract_room_info).tolist(), index=train_data.index) \n",
    "floor_info = train_data['所在楼层'].apply(extract_floor_info)   \n",
    "train_data['楼层位置'], train_data['总楼层数'] = zip(*floor_info)  \n",
    "train_dummies = gen_dummies(train_data).astype('Int64')\n",
    "train_data = add_na_columns(train_data, columns_to_check)  \n",
    "train_data = add_subway_column(train_data)  \n",
    "\n",
    "test_data['建筑面积'] = extract_numbers_inplace(test_data['建筑面积']) \n",
    "test_data['房屋总数'] = extract_numbers_inplace(test_data['房屋总数'])  \n",
    "test_data['楼栋总数'] = extract_numbers_inplace(test_data['楼栋总数'])  \n",
    "test_data['绿 化 率'] = extract_numbers_inplace(test_data['绿 化 率'])  \n",
    "test_data['物 业 费'] = test_data['物 业 费'].apply(extract_fee)\n",
    "test_data['燃气费'] = test_data['燃气费'].apply(extract_fee)\n",
    "test_data['供热费'] = test_data['供热费'].apply(extract_fee)\n",
    "test_data[['卧室', '客厅', '厨房', '卫生间']] = pd.DataFrame(test_data['房屋户型'].apply(extract_room_info).tolist(), index=test_data.index)\n",
    "floor_info = test_data['所在楼层'].apply(extract_floor_info)  \n",
    "test_data['楼层位置'], test_data['总楼层数'] = zip(*floor_info) \n",
    "test_dummies = gen_dummies(test_data).astype('Int64')\n",
    "test_data = add_na_columns(test_data, columns_to_check)  \n",
    "test_data = add_subway_column(test_data)  "
   ]
  },
  {
   "cell_type": "code",
   "execution_count": null,
   "id": "9693dbd3-8dcc-4624-979a-83f1ae702413",
   "metadata": {
    "tags": []
   },
   "outputs": [
    {
     "name": "stdout",
     "output_type": "stream",
     "text": [
      "Train独有的房屋用途类别: {'车库', '工业厂房', nan, '底商'}\n",
      "Test独有的房屋用途类别: set()\n"
     ]
    }
   ],
   "source": [
    "# keep the columns same\n",
    "train_unique_categories = train_data['房屋用途'].unique()  \n",
    "test_unique_categories = test_data['房屋用途'].unique()  \n",
    "categories_in_train_not_in_test = set(train_unique_categories) - set(test_unique_categories)   \n",
    "categories_in_test_not_in_train = set(test_unique_categories) - set(train_unique_categories)  \n",
    "print(f\"Train独有的房屋用途类别: {categories_in_train_not_in_test}\")  \n",
    "print(f\"Test独有的房屋用途类别: {categories_in_test_not_in_train}\")"
   ]
  },
  {
   "cell_type": "code",
   "execution_count": 8,
   "id": "dfe199e8-6a5e-4fbc-a966-dbed589c50ea",
   "metadata": {
    "tags": []
   },
   "outputs": [],
   "source": [
    "categories_to_remove = ['工业厂房', '底商', '车库']  \n",
    "mask = ~train_data['房屋用途'].isin(categories_to_remove)  \n",
    "train_data = train_data[mask]  "
   ]
  },
  {
   "cell_type": "code",
   "execution_count": null,
   "id": "e15aa915-bded-4fd9-9c33-1f1b5f63930d",
   "metadata": {
    "tags": []
   },
   "outputs": [],
   "source": [
    "# the orientation of the house\n",
    "train_data['南'] = 0  \n",
    "train_data['北'] = 0  \n",
    "train_data['西'] = 0  \n",
    "train_data['东'] = 0  \n",
    "train_data['南'] = train_data['房屋朝向'].str.contains('南', case=False, na=False).astype(int)  \n",
    "train_data['北'] = train_data['房屋朝向'].str.contains('北', case=False, na=False).astype(int)  \n",
    "train_data['西'] = train_data['房屋朝向'].str.contains('西', case=False, na=False).astype(int)  \n",
    "train_data['东'] = train_data['房屋朝向'].str.contains('东', case=False, na=False).astype(int) \n",
    "\n",
    "test_data['南'] = 0  \n",
    "test_data['北'] = 0  \n",
    "test_data['西'] = 0  \n",
    "test_data['东'] = 0  \n",
    "test_data['南'] = test_data['房屋朝向'].str.contains('南', case=False, na=False).astype(int)  \n",
    "test_data['北'] = test_data['房屋朝向'].str.contains('北', case=False, na=False).astype(int)  \n",
    "test_data['西'] = test_data['房屋朝向'].str.contains('西', case=False, na=False).astype(int)  \n",
    "test_data['东'] = test_data['房屋朝向'].str.contains('东', case=False, na=False).astype(int) "
   ]
  },
  {
   "cell_type": "code",
   "execution_count": null,
   "id": "2860659a-d3cc-4712-a3ae-774d549257ab",
   "metadata": {
    "tags": []
   },
   "outputs": [],
   "source": [
    "# the transaction time of house\n",
    "train_data['交易时间'] = pd.to_datetime(train_data['交易时间']) \n",
    "test_data['交易时间'] = pd.to_datetime(test_data['交易时间']) \n",
    "train_data['上次交易'] = pd.to_datetime(train_data['上次交易']) \n",
    "test_data['上次交易'] = pd.to_datetime(test_data['上次交易']) \n",
    "\n",
    "train_data['交易时间差'] = train_data.apply(\n",
    "    lambda row: (row['交易时间'] - row['上次交易']).days if not pd.isna(row['上次交易']) else 0,\n",
    "    axis=1)\n",
    "train_data['交易时间差'] = train_data['交易时间差'].apply(lambda x: max(x, 0))\n",
    "test_data['交易时间差'] = test_data.apply(\n",
    "    lambda row: (row['交易时间'] - row['上次交易']).days if not pd.isna(row['上次交易']) else 0,\n",
    "    axis=1)\n",
    "test_data['交易时间差'] = test_data['交易时间差'].apply(lambda x: max(x, 0))\n",
    "\n",
    "# generate year and month columns\n",
    "train_data['交易年份'] = train_data['交易时间'].dt.year\n",
    "train_data['交易月份'] = train_data['交易时间'].dt.month\n",
    "test_data['交易年份'] = test_data['交易时间'].dt.year\n",
    "test_data['交易月份'] = test_data['交易时间'].dt.month\n",
    "target_date = pd.Timestamp('2016-08-31')\n",
    "train_data['时间'] = (train_data['交易时间'].dt.year - target_date.year) * 12 + train_data['交易时间'].dt.month - target_date.month\n",
    "test_data['时间'] = (test_data['交易时间'].dt.year - target_date.year) * 12 + test_data['交易时间'].dt.month - target_date.month"
   ]
  },
  {
   "cell_type": "code",
   "execution_count": null,
   "id": "58d3c6a3-aa89-4a2a-8752-fbeaa288b2af",
   "metadata": {
    "tags": []
   },
   "outputs": [],
   "source": [
    "# handle the '梯户比例' column\n",
    "train_data[['梯', '户']] = pd.DataFrame(np.nan, index=train_data.index, columns=['梯', '户'])  \n",
    "  \n",
    "for index, value in train_data['梯户比例'].items():  \n",
    "    if pd.notnull(value): \n",
    "        split_values = value.split('梯')  \n",
    "        if len(split_values) > 1:  \n",
    "            train_data.at[index, '梯'] = split_values[0]  \n",
    "            train_data.at[index, '户'] = split_values[1].replace('户', '')  \n",
    "        else:  \n",
    "            train_data.at[index, '梯'] = split_values[0]  \n",
    "    \n",
    "    \n",
    "test_data[['梯', '户']] = pd.DataFrame(np.nan, index=test_data.index, columns=['梯', '户'])  \n",
    "for index, value in test_data['梯户比例'].items():  \n",
    "    if pd.notnull(value):  \n",
    "        split_values = value.split('梯')  \n",
    "        if len(split_values) > 1:  \n",
    "            test_data.at[index, '梯'] = split_values[0]  \n",
    "            test_data.at[index, '户'] = split_values[1].replace('户', '')  \n",
    "        else:  \n",
    "            test_data.at[index, '梯'] = split_values[0] \n",
    "\n",
    "train_data['梯'] = train_data['梯'].apply(lambda x: hanzi_to_arabic(x) if pd.notnull(x) else np.nan)  \n",
    "train_data['户'] = train_data['户'].apply(lambda x: hanzi_to_arabic(x) if pd.notnull(x) else np.nan)\n",
    "test_data['梯'] = test_data['梯'].apply(lambda x: hanzi_to_arabic(x) if pd.notnull(x) else np.nan)  \n",
    "test_data['户'] = test_data['户'].apply(lambda x: hanzi_to_arabic(x) if pd.notnull(x) else np.nan)"
   ]
  },
  {
   "cell_type": "code",
   "execution_count": null,
   "id": "f012be20-9d88-4825-bacf-d0f8190e05f3",
   "metadata": {
    "tags": []
   },
   "outputs": [],
   "source": [
    "# deal with the outliers in '建筑面积' column\n",
    "train_data['建筑面积'] = train_data['建筑面积'].astype(float)  \n",
    "test_data['建筑面积'] = test_data['建筑面积'].astype(float)  \n",
    "replacements = {  \n",
    "    1260: 126,  \n",
    "    8264: 82.64,  \n",
    "    1151: 115.1,  \n",
    "    9152: 91.52  \n",
    "}  \n",
    "train_data['建筑面积'] = train_data['建筑面积'].replace(replacements)  \n",
    "\n",
    "replacements = {  \n",
    "    9742: 97.42,  \n",
    "    1188.11: 118.811,  \n",
    "    1081.2: 108.12\n",
    "}    \n",
    "test_data['建筑面积'] = test_data['建筑面积'].replace(replacements)  "
   ]
  },
  {
   "cell_type": "markdown",
   "id": "39523ac6-710b-47cd-9f44-47e42f5ff6a6",
   "metadata": {},
   "source": [
    "#### 2.4 Feature Engineering\n",
    "##### To fill in the null values here, I used three methods: 1. Manual strategic filling (filling in the median of adjacent locations) 2. Without filling, directly run with XGBoost. 3. Use KNN interpolation for filling. Later, I will compare the effects of these three methods.\n",
    "##### Based on the original variables, I generated some key variables that I consider, such as logarithmic step-to-household ratio, distance from the center point, etc. Furthermore, I introduced macroeconomic variables; Finally, I called a package OpenFE that can generate Deep features."
   ]
  },
  {
   "cell_type": "markdown",
   "id": "5d1dd504-1a5e-45ba-9d36-d8d2f5b11618",
   "metadata": {
    "tags": []
   },
   "source": [
    "#### 2.4.1 Use macroeconomic index"
   ]
  },
  {
   "cell_type": "code",
   "execution_count": null,
   "id": "8821f625-d55c-483c-9b84-a5e00c788276",
   "metadata": {
    "tags": []
   },
   "outputs": [],
   "source": [
    "# read the data\n",
    "time_data = pd.read_excel(r\"C:\\Users\\Manager.Mo\\Desktop\\real_estate_climate_index.xlsx\")\n",
    "time_data['交易时间'] = pd.to_datetime(time_data['交易时间'])\n",
    "time_data['交易年份'] = time_data['交易时间'].dt.year\n",
    "time_data['交易月份'] = time_data['交易时间'].dt.month\n",
    "train_data = pd.merge(train_data, time_data, on=['交易年份', '交易月份'], how='left', suffixes=('', '_timedata'))\n",
    "test_data = pd.merge(test_data, time_data, on=['交易年份', '交易月份'], how='left', suffixes=('', '_timedata'))"
   ]
  },
  {
   "cell_type": "code",
   "execution_count": null,
   "id": "d410dd1e-38e0-43f9-be9e-ec89c32cc901",
   "metadata": {
    "tags": []
   },
   "outputs": [],
   "source": [
    "train_data.drop(columns='交易时间', inplace=True)\n",
    "test_data.drop(columns='交易时间', inplace=True)"
   ]
  },
  {
   "cell_type": "code",
   "execution_count": null,
   "id": "f1e8a8fb-4f84-4d4a-8183-53f1e838b4fb",
   "metadata": {
    "tags": []
   },
   "outputs": [],
   "source": [
    "nan_train_data = pd.get_dummies(train_data, columns=['城市','区域','建筑结构', '装修情况','别墅类型','交易权属','房屋用途','房屋年限','产权所属','楼层位置',\n",
    "                                                      '供水','供暖','供电']) \n",
    "nan_test_data = pd.get_dummies(test_data, columns=['城市','区域','建筑结构', '装修情况','别墅类型','交易权属','房屋用途','房屋年限','产权所属','楼层位置',\n",
    "                                                      '供水','供暖','供电'])  \n",
    "train_dummies = gen_dummies(train_data).astype('Int64')\n",
    "test_dummies = gen_dummies(test_data).astype('Int64')\n",
    "nan_train_data = pd.concat([nan_train_data, train_dummies], axis=1)  \n",
    "nan_test_data = pd.concat([nan_test_data, test_dummies], axis=1)  "
   ]
  },
  {
   "cell_type": "code",
   "execution_count": null,
   "id": "0e574c6d-e648-476f-81a1-ed48c5989ac4",
   "metadata": {
    "tags": []
   },
   "outputs": [],
   "source": [
    "# drop the columns that are not needed\n",
    "columns_to_drop = ['上次交易','抵押信息','房屋优势','核心卖点','户型介绍','周边配套','交通出行','交易时间_timedata',\n",
    "                   '小区地址','物业类别','建筑年代','开发商','物业公司','建筑结构（小区）','物业办公电话','产权描述',\n",
    "                  'coord_x','coord_y','板块','环线','小区名称','房屋户型','所在楼层','套内面积','房屋朝向','梯户比例']\n",
    "nan_test_data = nan_test_data.drop(columns=columns_to_drop, axis=1)  \n",
    "nan_train_data = nan_train_data.drop(columns=columns_to_drop, axis=1)  "
   ]
  },
  {
   "cell_type": "markdown",
   "id": "28291ba8-9fc0-4e29-8a2e-d55e971b49a7",
   "metadata": {
    "tags": []
   },
   "source": [
    "#### 2.4.2 Fill the null\n",
    "#### 2.4.2.1 Manual"
   ]
  },
  {
   "cell_type": "code",
   "execution_count": null,
   "id": "3071dd6f-694b-4ba0-83ca-ec317d145d26",
   "metadata": {
    "tags": []
   },
   "outputs": [],
   "source": [
    "# use the mode of '配备电梯' to fill the missing values in train_data\n",
    "merged_data = pd.merge(train_data[['小区名称', '配备电梯']],   \n",
    "                        test_data[['小区名称', '配备电梯']],   \n",
    "                        on='小区名称', how='left', suffixes=('_train', '_test'))  \n",
    "  \n",
    "def get_mode(series):  \n",
    "    non_null_values = series.dropna()  \n",
    "    if not non_null_values.empty:  \n",
    "        return non_null_values.mode().iloc[0]  \n",
    "    else:  \n",
    "        return None  \n",
    "   \n",
    "modes = merged_data.groupby('小区名称').apply(lambda x: get_mode(x['配备电梯_test']) if x['配备电梯_train'].isnull().all() else get_mode(x['配备电梯_train']))  \n",
    "train_data['配备电梯'].fillna(train_data['小区名称'].map(modes), inplace=True)  \n",
    "print(train_data['配备电梯'].isnull().sum())"
   ]
  },
  {
   "cell_type": "code",
   "execution_count": null,
   "id": "afaccacf-d4f0-4c2e-8c06-7fcecf6e1e6f",
   "metadata": {
    "tags": []
   },
   "outputs": [],
   "source": [
    "test_data['配备电梯'].fillna(test_data['小区名称'].map(modes), inplace=True)  \n",
    "print(test_data['配备电梯'].isnull().sum())"
   ]
  },
  {
   "cell_type": "code",
   "execution_count": null,
   "id": "824f51a4-b8f3-4ec6-9e9d-10e3e461bed1",
   "metadata": {
    "tags": []
   },
   "outputs": [],
   "source": [
    "train_data['配备电梯'].fillna(0, inplace=True)  \n",
    "test_data['配备电梯'].fillna(0, inplace=True)  "
   ]
  },
  {
   "cell_type": "code",
   "execution_count": null,
   "id": "d4cfc393-e2d6-4a56-90c6-d1a77e5bfbad",
   "metadata": {
    "tags": []
   },
   "outputs": [],
   "source": [
    "train_data.loc[train_data['配备电梯'] == 0, '梯'] = 0  \n",
    "test_data.loc[test_data['配备电梯'] == 0, '梯'] = 0  \n",
    "columns_to_convert = [\n",
    "    '房屋总数', '楼栋总数', '物 业 费', '燃气费', '供热费', \n",
    "    '绿 化 率', '容 积 率'\n",
    "]\n",
    "for column in columns_to_convert:\n",
    "    train_data[column] = pd.to_numeric(train_data[column], errors='coerce')\n",
    "    test_data[column] = pd.to_numeric(test_data[column], errors='coerce')"
   ]
  },
  {
   "cell_type": "code",
   "execution_count": null,
   "id": "4de1113c-41ce-4991-b73d-3682f0890195",
   "metadata": {
    "tags": []
   },
   "outputs": [],
   "source": [
    "combined_data = pd.concat([train_data[['区域', '房屋总数','楼栋总数','物 业 费','燃气费','供热费','绿 化 率','容 积 率']],   \n",
    "                         test_data[['区域', '房屋总数','楼栋总数','物 业 费','燃气费','供热费','绿 化 率','容 积 率']]],   \n",
    "                         ignore_index=True)  \n",
    "  \n",
    "# use the median\n",
    "medians = combined_data.groupby('区域').agg({  \n",
    "    '房屋总数': lambda x: x.dropna().median(),  \n",
    "    '楼栋总数': lambda x: x.dropna().median(),  \n",
    "    '物 业 费': lambda x: x.dropna().median(),  \n",
    "    '燃气费': lambda x: x.dropna().median(),\n",
    "    '供热费': lambda x: x.dropna().median(),\n",
    "    '绿 化 率': lambda x: x.dropna().median(),\n",
    "    '容 积 率': lambda x: x.dropna().median()\n",
    "})  \n",
    " \n",
    "for col in ['房屋总数', '楼栋总数', '物 业 费', '燃气费','供热费','绿 化 率','容 积 率']:  \n",
    "    train_data[col].fillna(train_data['区域'].map(medians[col]), inplace=True)  \n",
    "\n",
    "for col in ['房屋总数', '楼栋总数', '物 业 费', '燃气费','供热费','绿 化 率','容 积 率']:  \n",
    "    test_data[col].fillna(test_data['区域'].map(medians[col]), inplace=True)  \n",
    "train_data_nulls = train_data['房屋总数'].isnull().sum()  \n",
    "test_data_nulls = test_data['房屋总数'].isnull().sum()  \n",
    "train_data_nulls"
   ]
  },
  {
   "cell_type": "code",
   "execution_count": null,
   "id": "87e337c0-3e7e-4f31-a71d-25c1210f7add",
   "metadata": {
    "tags": []
   },
   "outputs": [],
   "source": [
    "combined_data = pd.concat([train_data[[ '房屋总数','楼栋总数','物 业 费','燃气费','供热费','绿 化 率','容 积 率']],   \n",
    "                         test_data[[ '房屋总数','楼栋总数','物 业 费','燃气费','供热费','绿 化 率','容 积 率']]],   \n",
    "                         ignore_index=True)  \n",
    "  \n",
    "medians = combined_data.median()\n",
    "for col in ['房屋总数','楼栋总数','物 业 费','燃气费','供热费','绿 化 率','容 积 率']:  \n",
    "    train_data[col].fillna(medians[col], inplace=True)  \n",
    "\n",
    "for col in ['房屋总数','楼栋总数','物 业 费','燃气费','供热费','绿 化 率','容 积 率']:  \n",
    "    test_data[col].fillna(medians[col], inplace=True)  \n",
    "\n",
    "train_data_nulls = train_data[['房屋总数','楼栋总数','物 业 费','燃气费','供热费','绿 化 率','容 积 率']].isnull().sum()  \n",
    "test_data_nulls = test_data[['房屋总数','楼栋总数','物 业 费','燃气费','供热费','绿 化 率','容 积 率']].isnull().sum()  \n",
    "  \n",
    "print(\"train_data 中的空值数量:\", train_data_nulls)  \n",
    "print(\"test_data 中的空值数量:\", test_data_nulls)"
   ]
  },
  {
   "cell_type": "code",
   "execution_count": null,
   "id": "9d576c53-0f9d-4db0-a4aa-d11003fd5021",
   "metadata": {
    "tags": []
   },
   "outputs": [],
   "source": [
    "merged_data = pd.concat([train_data[['小区名称', '建筑面积']],   \n",
    "                         test_data[['小区名称', '建筑面积']]],   \n",
    "                         ignore_index=True)  \n",
    "  \n",
    "median_area_per_community = merged_data.groupby('小区名称')['建筑面积'].median()  \n",
    "\n",
    "train_data['建筑面积'].fillna(train_data['小区名称'].map(median_area_per_community), inplace=True)  \n",
    "\n",
    "test_data['建筑面积'].fillna(test_data['小区名称'].map(median_area_per_community), inplace=True)  \n",
    " \n",
    "train_data_nulls = train_data['建筑面积'].isnull().sum()  \n",
    "test_data_nulls = test_data['建筑面积'].isnull().sum()  \n",
    " \n",
    "if train_data_nulls > 0 or test_data_nulls > 0:  \n",
    "    overall_median_area = merged_data['建筑面积'].dropna().median()  \n",
    "    train_data['建筑面积'].fillna(overall_median_area, inplace=True)  \n",
    "    test_data['建筑面积'].fillna(overall_median_area, inplace=True)  \n",
    "print(f\"train_data中建筑面积的空值数量: {train_data['建筑面积'].isnull().sum()}\")  \n",
    "print(f\"test_data中建筑面积的空值数量: {test_data['建筑面积'].isnull().sum()}\")\n"
   ]
  },
  {
   "cell_type": "code",
   "execution_count": null,
   "id": "2ba82907-a990-41e9-86cd-9bfdb31eef43",
   "metadata": {
    "tags": []
   },
   "outputs": [],
   "source": [
    "merged_data = pd.concat([train_data[['小区名称', '卧室', '客厅', '厨房', '卫生间']],  \n",
    "                         test_data[['小区名称', '卧室', '客厅', '厨房', '卫生间']]],  \n",
    "                         ignore_index=True)  \n",
    "median_per_community = merged_data.dropna(subset=['卧室', '客厅', '厨房', '卫生间']).groupby('小区名称')[['卧室', '客厅', '厨房', '卫生间']].median()  \n",
    "  \n",
    "\n",
    "def fill_missing_values(df, median_dict):  \n",
    "    \n",
    "    for column in ['卧室', '客厅', '厨房', '卫生间']:  \n",
    "        df[column].fillna(df['小区名称'].map(median_dict[column]), inplace=True)  \n",
    "    return df  \n",
    "  \n",
    "\n",
    "median_dict = {column: median_per_community[column] for column in ['卧室', '客厅', '厨房', '卫生间']}  \n",
    " \n",
    "train_data = fill_missing_values(train_data, median_dict)  \n",
    "test_data = fill_missing_values(test_data, median_dict)  \n",
    "  \n",
    "train_data_nulls = train_data[['卧室', '客厅', '厨房', '卫生间']].isnull().sum()  \n",
    "test_data_nulls = test_data[['卧室', '客厅', '厨房', '卫生间']].isnull().sum()  \n",
    " \n",
    "print(f\"train_data 中各房间类型的空值数量: {train_data_nulls}\")  \n",
    "print(f\"test_data 中各房间类型的空值数量: {test_data_nulls}\")"
   ]
  },
  {
   "cell_type": "code",
   "execution_count": null,
   "id": "54b99758-e58c-4868-822d-05be6c5a6548",
   "metadata": {
    "tags": []
   },
   "outputs": [],
   "source": [
    "all_medians = merged_data[['卧室', '客厅', '厨房', '卫生间']].median()  \n",
    "  \n",
    "def fill_missing_with_all_medians(df, all_medians):  \n",
    "    for column in ['卧室', '客厅', '厨房', '卫生间']:  \n",
    "        df[column].fillna(all_medians[column], inplace=True)  \n",
    "    return df  \n",
    "  \n",
    "train_data = fill_missing_with_all_medians(train_data, all_medians)  \n",
    "test_data = fill_missing_with_all_medians(test_data, all_medians)  \n",
    "  \n",
    "train_data_nulls = train_data[['卧室', '客厅', '厨房', '卫生间']].isnull().sum()  \n",
    "test_data_nulls = test_data[['卧室', '客厅', '厨房', '卫生间']].isnull().sum()  \n",
    "  \n",
    "print(f\"train_data 中各房间类型的空值数量: {train_data_nulls}\")  \n",
    "print(f\"test_data 中各房间类型的空值数量: {test_data_nulls}\")\n"
   ]
  },
  {
   "cell_type": "code",
   "execution_count": null,
   "id": "10b833ef-cd50-4296-ae88-712c27761b56",
   "metadata": {
    "tags": []
   },
   "outputs": [],
   "source": [
    "merged_data = pd.concat([train_data[['小区名称', '楼层位置', '总楼层数']], test_data[['小区名称', '楼层位置', '总楼层数']]])  \n",
    "  \n",
    "def fill_missing_floor_and_total_floors(df):  \n",
    "    fill_info = {}   \n",
    "    for community in df['小区名称'].unique():  \n",
    "        community_data = df[df['小区名称'] == community]   \n",
    "        mode_floor_position = community_data['楼层位置'].mode()[0] if not community_data['楼层位置'].isnull().all() else None  \n",
    "        median_total_floors = community_data['总楼层数'].median() if not community_data['总楼层数'].isnull().all() else None  \n",
    "        fill_info[community] = {'floor_position': mode_floor_position, 'total_floors': median_total_floors}  \n",
    "    df['楼层位置'].fillna(df['小区名称'].map(lambda x: fill_info[x]['floor_position']), inplace=True)  \n",
    "    df['总楼层数'].fillna(df['小区名称'].map(lambda x: fill_info[x]['total_floors']), inplace=True)  \n",
    "    df['楼层位置'].fillna('中楼层', inplace=True)  \n",
    "    global_median_total_floors = df['总楼层数'].dropna().median()  \n",
    "    df['总楼层数'].fillna(global_median_total_floors, inplace=True)  \n",
    "      \n",
    "    return df  \n",
    "  \n",
    "train_data = fill_missing_floor_and_total_floors(train_data)  \n",
    "test_data = fill_missing_floor_and_total_floors(test_data)  \n",
    "  \n",
    "print(f\"train_data 中 '楼层位置' 和 '总楼层数' 的空值数量: {train_data[['楼层位置', '总楼层数']].isnull().sum()}\")  \n",
    "print(f\"test_data 中 '楼层位置' 和 '总楼层数' 的空值数量: {test_data[['楼层位置', '总楼层数']].isnull().sum()}\")"
   ]
  },
  {
   "cell_type": "code",
   "execution_count": null,
   "id": "0b7f0075-5296-4dd2-b6e5-3066caf17f08",
   "metadata": {
    "tags": []
   },
   "outputs": [],
   "source": [
    "combined_data = pd.concat([train_data[['小区名称', '户', '梯']], test_data[['小区名称', '户', '梯']]])  \n",
    "  \n",
    "def get_mode_per_community(df, column):  \n",
    "    modes_per_community = df.groupby('小区名称')[column].agg(lambda x: x.mode().iloc[0] if x.mode().size > 0 else None)  \n",
    "    return modes_per_community  \n",
    "  \n",
    "modes_hu = get_mode_per_community(combined_data, '户')  \n",
    "modes_ti = get_mode_per_community(combined_data, '梯')  \n",
    "    \n",
    "def fill_missing_with_community_mode(df, column, modes):  \n",
    "    df[column].fillna(df['小区名称'].map(modes), inplace=True)  \n",
    "    return df  \n",
    "  \n",
    "test_data = fill_missing_with_community_mode(test_data, '户', modes_hu)  \n",
    "test_data = fill_missing_with_community_mode(test_data, '梯', modes_ti)  \n",
    "  \n",
    "train_data = fill_missing_with_community_mode(train_data, '户', modes_hu)  \n",
    "train_data = fill_missing_with_community_mode(train_data, '梯', modes_ti)  \n",
    "  \n",
    "def fill_remaining_with_overall_mode(df, column):  \n",
    "    overall_mode = df[column].dropna().mode().iloc[0]  \n",
    "    df[column].fillna(overall_mode, inplace=True)  \n",
    "    return df  \n",
    "  \n",
    "test_data = fill_remaining_with_overall_mode(test_data, '户')  \n",
    "test_data = fill_remaining_with_overall_mode(test_data, '梯')  \n",
    "   \n",
    "train_data = fill_remaining_with_overall_mode(train_data, '户')  \n",
    "train_data = fill_remaining_with_overall_mode(train_data, '梯')  \n",
    "  \n",
    "print(f\"test_data 中 '户' 和 '梯' 的空值数量: {test_data[['户', '梯']].isnull().sum()}\")  \n",
    "print(f\"train_data 中 '户' 和 '梯' 的空值数量: {train_data[['户', '梯']].isnull().sum()}\")\n"
   ]
  },
  {
   "cell_type": "code",
   "execution_count": null,
   "id": "af860f41-7843-458f-8e85-300e25f4c100",
   "metadata": {
    "tags": []
   },
   "outputs": [],
   "source": [
    "train_data['停车位'] = pd.to_numeric(train_data['停车位'], errors='coerce')    \n",
    "train_data['停车位'].fillna(0, inplace=True)   \n",
    "train_data['停车位'] = train_data['停车位'].astype(int)  \n",
    "test_data['停车位'] = pd.to_numeric(test_data['停车位'], errors='coerce')   \n",
    "test_data['停车位'].fillna(0, inplace=True)  \n",
    "test_data['停车位'] = test_data['停车位'].astype(int)  \n",
    "train_data.loc[train_data['停车位'] == 0, '停车费用'] = -1  \n",
    "test_data.loc[test_data['停车位'] == 0, '停车费用'] = -1  \n",
    "valid_parking_fees = pd.concat([  \n",
    "    train_data.loc[(train_data['停车位'] != 0) & (train_data['停车费用'].notnull()), '停车费用'],  \n",
    "    test_data.loc[(test_data['停车位'] != 0) & (test_data['停车费用'].notnull()), '停车费用']  \n",
    "])  \n",
    "\n",
    "median_parking_fee = valid_parking_fees.median()  \n",
    " \n",
    "train_data['停车费用'].fillna(median_parking_fee, inplace=True)  \n",
    "   \n",
    "test_data['停车费用'].fillna(median_parking_fee, inplace=True)  "
   ]
  },
  {
   "cell_type": "code",
   "execution_count": null,
   "id": "893339a0-922b-4287-92b1-49a096d0dcd6",
   "metadata": {
    "tags": []
   },
   "outputs": [],
   "source": [
    "train_data = pd.get_dummies(train_data, columns=['城市','区域','建筑结构', '装修情况','别墅类型','交易权属','房屋用途','房屋年限','产权所属','楼层位置',\n",
    "                                                      '供水','供暖','供电']) \n",
    "test_data = pd.get_dummies(test_data, columns=['城市','区域','建筑结构', '装修情况','别墅类型','交易权属','房屋用途','房屋年限','产权所属','楼层位置',\n",
    "                                                      '供水','供暖','供电'])  \n",
    "train_data = pd.concat([train_data, train_dummies], axis=1)  \n",
    "test_data = pd.concat([test_data, test_dummies], axis=1)  "
   ]
  },
  {
   "cell_type": "code",
   "execution_count": null,
   "id": "8dbe6b8c-7004-4d30-8b0b-8b0a689d875b",
   "metadata": {
    "tags": []
   },
   "outputs": [],
   "source": [
    "columns_to_drop = ['上次交易','抵押信息','房屋优势','核心卖点','户型介绍','周边配套','交通出行','交易时间_timedata',\n",
    "                   '小区地址','物业类别','建筑年代','开发商','物业公司','建筑结构（小区）','物业办公电话','产权描述',\n",
    "                  'coord_x','coord_y','板块','环线','小区名称','房屋户型','所在楼层','套内面积','房屋朝向','梯户比例']\n",
    "test_data = test_data.drop(columns=columns_to_drop, axis=1)  \n",
    "train_data = train_data.drop(columns=columns_to_drop, axis=1)  "
   ]
  },
  {
   "cell_type": "markdown",
   "id": "e0824a3c-8ec8-4574-828e-4c96d474d5d5",
   "metadata": {},
   "source": [
    "#### 2.4.2.2 KNN Imputer"
   ]
  },
  {
   "cell_type": "code",
   "execution_count": null,
   "id": "f794599a-5ce9-43f3-bf21-c6489162efac",
   "metadata": {
    "tags": []
   },
   "outputs": [],
   "source": [
    "nan_train_X = nan_train_data.drop(['价格'], axis=1)\n",
    "nan_test_X = nan_test_data.drop(['ID'], axis=1)\n",
    "data_all = pd.concat([nan_train_X, nan_test_X])\n",
    "# set the hyperparameter for KNNImputer\n",
    "knn_imputer = KNNImputer(n_neighbors=10)\n",
    "X_filled = knn_imputer.fit_transform(data_all.values)\n",
    "X_filled_df = pd.DataFrame(X_filled, index=data_all.index, columns=data_all.columns)\n",
    "split_index = nan_train_data.shape[0]\n"
   ]
  },
  {
   "cell_type": "code",
   "execution_count": null,
   "id": "afcc27c9-9da5-4103-b598-720cd5167f08",
   "metadata": {
    "tags": []
   },
   "outputs": [],
   "source": [
    "knn_train_data = X_filled_df.iloc[:split_index]\n",
    "knn_test_data = X_filled_df.iloc[split_index:]"
   ]
  },
  {
   "cell_type": "code",
   "execution_count": null,
   "id": "c3445c10-9de7-4d16-a7c9-13249adf2665",
   "metadata": {
    "tags": []
   },
   "outputs": [],
   "source": [
    "feature_columns = ['停车费用', '卧室', '客厅', '厨房', '卫生间','房屋总数','楼栋总数','绿 化 率']\n",
    "for column in feature_columns:\n",
    "    train_data[column] = pd.to_numeric(train_data[column], errors='coerce')\n",
    "    test_data[column] = pd.to_numeric(test_data[column], errors='coerce')\n",
    "    nan_train_data[column] = pd.to_numeric(train_data[column], errors='coerce')\n",
    "    nan_test_data[column] = pd.to_numeric(test_data[column], errors='coerce')\n",
    "    knn_train_data[column] = pd.to_numeric(train_data[column], errors='coerce')\n",
    "    knn_test_data[column] = pd.to_numeric(test_data[column], errors='coerce')"
   ]
  },
  {
   "cell_type": "markdown",
   "id": "26fac876-a6c1-42b4-a578-9832c7572d73",
   "metadata": {
    "tags": []
   },
   "source": [
    "#### 2.4.3 Compare different methods (with XGBoost Model)\n",
    "##### !need to set the same hyperparameters"
   ]
  },
  {
   "cell_type": "markdown",
   "id": "718fb45e-fedd-4723-b907-666fe899be4f",
   "metadata": {},
   "source": [
    "##### 2.4.3.1 Manual"
   ]
  },
  {
   "cell_type": "code",
   "execution_count": null,
   "id": "69357d09-6b61-44e1-852e-f2a3a415e7d5",
   "metadata": {
    "tags": []
   },
   "outputs": [],
   "source": [
    "X = train_data.drop(['价格'], axis=1)\n",
    "y = train_data['价格']  \n",
    "X_train, X_test, y_train, y_test = train_test_split(X, y, test_size=0.2, random_state=111)\n",
    "# define the model\n",
    "model = xgb.XGBRegressor(learning_rate = 0.025, reg_lambda = 0.04, reg_alpha = 65, gamma = 10, n_estimators = 2450, \n",
    "                         max_depth = 10, min_child_weight = 5, )\n",
    "\n",
    "\n",
    "# fit the model on the training data\n",
    "model.fit(X_train, y_train)\n",
    "\n",
    "# make predictions for the testing data\n",
    "y_pred = model.predict(X_test)\n",
    "\n",
    "# calculate the mean squared error of the predictions\n",
    "mae = mean_absolute_error(y_test, y_pred)\n",
    "\n",
    "print(\"Mean Absolute Error:\", mae)"
   ]
  },
  {
   "cell_type": "markdown",
   "id": "bb8a3084-3ed4-4fce-a070-ec3a1dc776a7",
   "metadata": {},
   "source": [
    "##### For robustness, use different sets of hyperparameters to test"
   ]
  },
  {
   "cell_type": "code",
   "execution_count": null,
   "id": "bf323765-44d4-44ae-896f-92b4c7c301ae",
   "metadata": {
    "tags": []
   },
   "outputs": [],
   "source": [
    "X = train_data.drop(['价格'], axis=1)\n",
    "y = train_data['价格']  \n",
    "X_train, X_test, y_train, y_test = train_test_split(X, y, test_size=0.2, random_state=111)\n",
    "# define the model\n",
    "model = xgb.XGBRegressor(learning_rate = 0.3, reg_lambda = 1, reg_alpha = 0.1, gamma = 0, n_estimators = 500, \n",
    "                         max_depth = 9, min_child_weight = 2 )\n",
    "\n",
    "\n",
    "# fit the model on the training data\n",
    "model.fit(X_train, y_train)\n",
    "\n",
    "# make predictions for the testing data\n",
    "y_pred = model.predict(X_test)\n",
    "\n",
    "# calculate the mean squared error of the predictions\n",
    "mae = mean_absolute_error(y_test, y_pred)\n",
    "\n",
    "print(\"Mean Absolute Error:\", mae)"
   ]
  },
  {
   "cell_type": "code",
   "execution_count": null,
   "id": "7de0b640-a835-40f1-b1dd-2f4a4ed08995",
   "metadata": {
    "tags": []
   },
   "outputs": [],
   "source": [
    "X = train_data.drop(['价格'], axis=1)\n",
    "y = train_data['价格']  \n",
    "X_train, X_test, y_train, y_test = train_test_split(X, y, test_size=0.2, random_state=111)\n",
    "# define the model\n",
    "model = xgb.XGBRegressor(learning_rate = 0.1, reg_lambda = 5, reg_alpha = 20, gamma = 5, n_estimators = 1500, \n",
    "                         max_depth = 11, min_child_weight = 2 )\n",
    "\n",
    "\n",
    "# fit the model on the training data\n",
    "model.fit(X_train, y_train)\n",
    "\n",
    "# make predictions for the testing data\n",
    "y_pred = model.predict(X_test)\n",
    "\n",
    "# calculate the mean squared error of the predictions\n",
    "mae = mean_absolute_error(y_test, y_pred)\n",
    "\n",
    "print(\"Mean Absolute Error:\", mae)"
   ]
  },
  {
   "cell_type": "code",
   "execution_count": null,
   "id": "0a32395c-3621-404b-a225-67f0410f2543",
   "metadata": {
    "tags": []
   },
   "outputs": [],
   "source": [
    "X = nan_train_data.drop(['价格'], axis=1)\n",
    "y = nan_train_data['价格']  \n",
    "X_train, X_test, y_train, y_test = train_test_split(X, y, test_size=0.2, random_state=111)\n",
    "# define the model\n",
    "model = xgb.XGBRegressor(learning_rate = 0.025, reg_lambda = 0.04, reg_alpha = 65, gamma = 10, n_estimators = 2450, \n",
    "                         max_depth = 10, min_child_weight = 5, )\n",
    "\n",
    "\n",
    "# fit the model on the training data\n",
    "model.fit(X_train, y_train)\n",
    "\n",
    "# make predictions for the testing data\n",
    "y_pred = model.predict(X_test)\n",
    "\n",
    "# calculate the mean squared error of the predictions\n",
    "mae = mean_absolute_error(y_test, y_pred)\n",
    "\n",
    "print(\"Mean Absolute Error:\", mae)"
   ]
  },
  {
   "cell_type": "code",
   "execution_count": null,
   "id": "816b2411-2b48-4b8e-a43a-47c8922a2403",
   "metadata": {
    "tags": []
   },
   "outputs": [],
   "source": [
    "X = nan_train_data.drop(['价格'], axis=1)\n",
    "y = nan_train_data['价格']  \n",
    "X_train, X_test, y_train, y_test = train_test_split(X, y, test_size=0.2, random_state=111)\n",
    "# define the model\n",
    "model = xgb.XGBRegressor(learning_rate = 0.3, reg_lambda = 1, reg_alpha = 0.1, gamma = 0, n_estimators = 500, \n",
    "                         max_depth = 9, min_child_weight = 2 )\n",
    "\n",
    "\n",
    "# fit the model on the training data\n",
    "model.fit(X_train, y_train)\n",
    "\n",
    "# make predictions for the testing data\n",
    "y_pred = model.predict(X_test)\n",
    "\n",
    "# calculate the mean squared error of the predictions\n",
    "mae = mean_absolute_error(y_test, y_pred)\n",
    "\n",
    "print(\"Mean Absolute Error:\", mae)"
   ]
  },
  {
   "cell_type": "code",
   "execution_count": null,
   "id": "5cf48dcb-4ddb-448f-bc65-dcf339b948f3",
   "metadata": {
    "tags": []
   },
   "outputs": [],
   "source": [
    "X = nan_train_data.drop(['价格'], axis=1)\n",
    "y = nan_train_data['价格']  \n",
    "X_train, X_test, y_train, y_test = train_test_split(X, y, test_size=0.2, random_state=111)\n",
    "# define the model\n",
    "model = xgb.XGBRegressor(learning_rate = 0.1, reg_lambda = 5, reg_alpha = 20, gamma = 5, n_estimators = 1500, \n",
    "                         max_depth = 11, min_child_weight = 2 )\n",
    "\n",
    "\n",
    "# fit the model on the training data\n",
    "model.fit(X_train, y_train)\n",
    "\n",
    "# make predictions for the testing data\n",
    "y_pred = model.predict(X_test)\n",
    "\n",
    "# calculate the mean squared error of the predictions\n",
    "mae = mean_absolute_error(y_test, y_pred)\n",
    "\n",
    "print(\"Mean Absolute Error:\", mae)"
   ]
  },
  {
   "cell_type": "code",
   "execution_count": 26,
   "id": "f6b9fc2c-6677-4a9f-b640-24a3032079c2",
   "metadata": {
    "tags": []
   },
   "outputs": [
    {
     "name": "stdout",
     "output_type": "stream",
     "text": [
      "Mean Absolute Error: 171274.79788249094\n"
     ]
    }
   ],
   "source": [
    "X = knn_train_data\n",
    "y = train_data['价格']  \n",
    "X_train, X_test, y_train, y_test = train_test_split(X, y, test_size=0.2, random_state=111)\n",
    "# define the model\n",
    "model = xgb.XGBRegressor(learning_rate = 0.025, reg_lambda = 0.04, reg_alpha = 65, gamma = 10, n_estimators = 2450, \n",
    "                         max_depth = 10, min_child_weight = 5, )\n",
    "\n",
    "\n",
    "# fit the model on the training data\n",
    "model.fit(X_train, y_train)\n",
    "\n",
    "# make predictions for the testing data\n",
    "y_pred = model.predict(X_test)\n",
    "\n",
    "# calculate the mean squared error of the predictions\n",
    "mae = mean_absolute_error(y_test, y_pred)\n",
    "\n",
    "print(\"Mean Absolute Error:\", mae)"
   ]
  },
  {
   "cell_type": "code",
   "execution_count": 27,
   "id": "65619647-3c0b-4060-a4dc-7f90ef7d866f",
   "metadata": {
    "tags": []
   },
   "outputs": [
    {
     "name": "stdout",
     "output_type": "stream",
     "text": [
      "Mean Absolute Error: 186781.03335328423\n"
     ]
    }
   ],
   "source": [
    "X = knn_train_data\n",
    "y = train_data['价格']  \n",
    "X_train, X_test, y_train, y_test = train_test_split(X, y, test_size=0.2, random_state=111)\n",
    "# define the model\n",
    "model = xgb.XGBRegressor(learning_rate = 0.3, reg_lambda = 1, reg_alpha = 0.1, gamma = 0, n_estimators = 500, \n",
    "                         max_depth = 9, min_child_weight = 2 )\n",
    "\n",
    "\n",
    "# fit the model on the training data\n",
    "model.fit(X_train, y_train)\n",
    "\n",
    "# make predictions for the testing data\n",
    "y_pred = model.predict(X_test)\n",
    "\n",
    "# calculate the mean squared error of the predictions\n",
    "mae = mean_absolute_error(y_test, y_pred)\n",
    "\n",
    "print(\"Mean Absolute Error:\", mae)"
   ]
  },
  {
   "cell_type": "code",
   "execution_count": 28,
   "id": "f1a1ff8c-8af3-484f-ad0e-2556696bfb35",
   "metadata": {
    "tags": []
   },
   "outputs": [
    {
     "name": "stdout",
     "output_type": "stream",
     "text": [
      "Mean Absolute Error: 174418.9106144881\n"
     ]
    }
   ],
   "source": [
    "X = knn_train_data\n",
    "y = train_data['价格']  \n",
    "X_train, X_test, y_train, y_test = train_test_split(X, y, test_size=0.2, random_state=111)\n",
    "# define the model\n",
    "model = xgb.XGBRegressor(learning_rate = 0.1, reg_lambda = 5, reg_alpha = 20, gamma = 5, n_estimators = 1500, \n",
    "                         max_depth = 11, min_child_weight = 2 )\n",
    "\n",
    "\n",
    "# fit the model on the training data\n",
    "model.fit(X_train, y_train)\n",
    "\n",
    "# make predictions for the testing data\n",
    "y_pred = model.predict(X_test)\n",
    "\n",
    "# calculate the mean squared error of the predictions\n",
    "mae = mean_absolute_error(y_test, y_pred)\n",
    "\n",
    "print(\"Mean Absolute Error:\", mae)"
   ]
  },
  {
   "cell_type": "markdown",
   "id": "753d1d89-1b6a-4a12-8f13-753e31892de4",
   "metadata": {
    "tags": []
   },
   "source": [
    "##### In terms of effect, Manual > no filling > KNN. Therefore, I will use the manual method."
   ]
  },
  {
   "cell_type": "markdown",
   "id": "3e824287-55c3-48e2-917e-5c0c15b63268",
   "metadata": {},
   "source": [
    "#### 2.5 Generate deep features\n",
    "##### 2.5.1 Ratio of elevators to households"
   ]
  },
  {
   "cell_type": "code",
   "execution_count": null,
   "id": "2ff2bab2-32ab-4c13-b198-dd7059f5109d",
   "metadata": {
    "tags": []
   },
   "outputs": [],
   "source": [
    "def calculate_ladder_ratios(df):\n",
    "    df['指数户梯比'] = np.where(\n",
    "        df['配备电梯'] == 0,\n",
    "        0,\n",
    "        np.where(\n",
    "            np.isnan(df['户']) | \n",
    "            np.isnan(df['总楼层数']) | \n",
    "            np.isnan(df['梯']),\n",
    "            np.nan,\n",
    "            np.exp(-df['户'] * df['总楼层数'] / df['梯'])\n",
    "        )\n",
    "    )\n",
    "    \n",
    "    df['梯户比'] = np.where(\n",
    "        df['配备电梯'] == 0,\n",
    "        0,\n",
    "        np.where(\n",
    "            np.isnan(df['户']) | \n",
    "            np.isnan(df['总楼层数']) | \n",
    "            np.isnan(df['梯']),\n",
    "            np.nan,\n",
    "            df['梯'] / (df['总楼层数'] * df['户'])\n",
    "        )\n",
    "    )\n",
    "    \n",
    "    df['别墅梯户比'] = np.where(\n",
    "        (df['房屋用途_别墅'] == 1) & \n",
    "        pd.notnull(df['梯']) & \n",
    "        pd.notnull(df['总楼层数']) & \n",
    "        pd.notnull(df['户']),\n",
    "        df['梯'] / (df['总楼层数'] * df['户']),\n",
    "        0\n",
    "    )\n",
    "    \n",
    "calculate_ladder_ratios(train_data)\n",
    "calculate_ladder_ratios(test_data) "
   ]
  },
  {
   "cell_type": "markdown",
   "id": "cd54690b-655e-401a-a4fe-6c4f318e04b1",
   "metadata": {},
   "source": [
    "#### 2.5.2 Geographical Information (Polar coordinates)"
   ]
  },
  {
   "cell_type": "code",
   "execution_count": null,
   "id": "87d27ad7-98b7-4319-b66a-e7e3b8ac82dc",
   "metadata": {
    "tags": []
   },
   "outputs": [],
   "source": [
    "# to draw the price heatmap, we convert the price to log unit price\n",
    "train_data['平米价格']=train_data['价格']/train_data['建筑面积']\n",
    "train_data['log平米价格'] = np.log(train_data['平米价格'])"
   ]
  },
  {
   "cell_type": "code",
   "execution_count": null,
   "id": "c7c52fff-b8dc-469e-b915-e8f5b061065a",
   "metadata": {
    "tags": []
   },
   "outputs": [
    {
     "data": {
      "image/png": "[encoded data removed]",
      "text/plain": [
       "<Figure size 1000x1200 with 11 Axes>"
      ]
     },
     "metadata": {},
     "output_type": "display_data"
    }
   ],
   "source": [
    "city_columns = ['城市_赵市', '城市_石头市', '城市_近畿市', '城市_津门市', '城市_天府市']\n",
    "nrows = 3\n",
    "ncols = 2\n",
    "fig, axs = plt.subplots(nrows=nrows, ncols=ncols, figsize=(10, 12))  \n",
    "axs = axs.ravel()\n",
    "\n",
    "# draw the scatter plot for each city\n",
    "for ax, city_column in zip(axs, city_columns):\n",
    "    data_city = train_data[train_data[city_column] == 1]\n",
    "    scatter = ax.scatter(data_city['lon'], data_city['lat'], \n",
    "                         c=data_city['log平米价格'],  \n",
    "                         edgecolors='w',  \n",
    "                         alpha=0.7)  \n",
    "\n",
    "    city_name = city_column.split('_')[-1]\n",
    "    ax.set_title(f'Scatter plot of Lon vs Lat with logPrice Heatmap in {city_name}')\n",
    "    ax.set_xlabel('Longitude (lon)')\n",
    "    ax.set_ylabel('Latitude (lat)')\n",
    "\n",
    "    plt.colorbar(scatter, ax=ax)\n",
    "plt.tight_layout()\n",
    "plt.show()"
   ]
  },
  {
   "cell_type": "markdown",
   "id": "26940f16-966d-4561-97d4-1af36ae4c811",
   "metadata": {},
   "source": [
    "##### House prices tend to be higher towards the center, so I created polar variables with the center of house prices as the origin: distance and Angle to describe the polar position of each house. Furthermore, we can observe that Shitou City, Zhao City and Tianfu City are single-center cities, while Tianjin City has two centers and Kinki City has multiple ones. Therefore, they need to be calculated separately."
   ]
  },
  {
   "cell_type": "code",
   "execution_count": null,
   "id": "a7b355f2-1f4c-493b-800b-2b898a17ca8c",
   "metadata": {
    "tags": []
   },
   "outputs": [],
   "source": [
    "def get_center_point(row):\n",
    "    if row['城市_赵市'] == 1:\n",
    "        return (114.515, 36.624)\n",
    "    elif row['城市_天府市'] == 1:\n",
    "        return (106.518, 29.612)\n",
    "    elif row['城市_石头市'] == 1:\n",
    "        return (114.536, 38.062)\n",
    "    elif row['城市_津门市'] == 1:\n",
    "        if row['区域_滨海新区'] == 1:\n",
    "            return (117.771, 39.135)\n",
    "        else:\n",
    "            return (117.197, 39.128)\n",
    "    elif row['城市_近畿市'] == 1:\n",
    "        if (row['区域_大厂'] == 1) or (row['区域_香河'] == 1) or (row['区域_燕郊'] == 1):\n",
    "            return (116.831, 39.957)\n",
    "        elif row['区域_固安'] == 1:\n",
    "            return (116.308, 39.477)\n",
    "        else:\n",
    "            return (116.714, 39.541)\n",
    "    else:\n",
    "        return (np.nan, np.nan)  \n",
    "lon_values = train_data.apply(lambda row: get_center_point(row)[0], axis=1)\n",
    "lat_values = train_data.apply(lambda row: get_center_point(row)[1], axis=1)\n",
    "\n",
    "train_data['中心点lon'] = lon_values\n",
    "train_data['中心点lat'] = lat_values"
   ]
  },
  {
   "cell_type": "code",
   "execution_count": null,
   "id": "a1b4c99e-40e1-4247-9081-6b02bc9086cd",
   "metadata": {
    "tags": []
   },
   "outputs": [],
   "source": [
    "test_lon_values = test_data.apply(lambda row: get_center_point(row)[0], axis=1)\n",
    "test_lat_values = test_data.apply(lambda row: get_center_point(row)[1], axis=1)\n",
    "\n",
    "test_data['中心点lon'] = test_lon_values\n",
    "test_data['中心点lat'] = test_lat_values\n",
    "\n",
    "train_data['距离'] = np.sqrt(((train_data['lon'] - train_data['中心点lon']) ** 2 + \n",
    "                                      (train_data['lat'] - train_data['中心点lat']) ** 2))\n",
    "test_data['距离'] = np.sqrt(((test_data['lon'] - test_data['中心点lon']) ** 2 + \n",
    "                                      (test_data['lat'] - test_data['中心点lat']) ** 2))\n"
   ]
  },
  {
   "cell_type": "code",
   "execution_count": null,
   "id": "2b9422cb-8f41-4739-a2ef-82e3446b509d",
   "metadata": {
    "tags": []
   },
   "outputs": [],
   "source": [
    "def calculate_angle(row):\n",
    "    if row['距离'] == 0:\n",
    "        return 0 \n",
    "    \n",
    "    angle_rad = np.arccos((row['lon'] - row['中心点lon']) / row['距离'])\n",
    "    angle_deg = np.degrees(angle_rad)\n",
    "    if row['lat'] < row['中心点lat']:\n",
    "        angle_deg = 360 - angle_deg\n",
    "    \n",
    "    return angle_deg\n",
    "\n",
    "train_data['角度'] = train_data.apply(calculate_angle, axis=1)\n",
    "test_data['角度'] = test_data.apply(calculate_angle, axis=1)"
   ]
  },
  {
   "cell_type": "code",
   "execution_count": 48,
   "id": "68072707-c99a-442b-a50d-e6c182be2c7e",
   "metadata": {
    "tags": []
   },
   "outputs": [],
   "source": [
    "train_data.to_csv('ML_train_data.csv', index =False)\n",
    "test_data.to_csv('ML_test_data.csv', index =False)"
   ]
  },
  {
   "cell_type": "code",
   "execution_count": 3,
   "id": "67af409a-bd10-41a4-8c1f-2c15b6ec2410",
   "metadata": {
    "tags": []
   },
   "outputs": [],
   "source": [
    "train_data = pd.read_csv(r'C:\\Users\\Manager.Mo\\Desktop\\房价预测\\ML_train_data.csv')\n",
    "test_data = pd.read_csv(r'C:\\Users\\Manager.Mo\\Desktop\\房价预测\\ML_test_data.csv')"
   ]
  },
  {
   "cell_type": "markdown",
   "id": "b1f845fb-5800-4c38-b66b-173bd0ea18e2",
   "metadata": {},
   "source": [
    "## 3. Feature Screening\n",
    "### 3.1 generate some interactions"
   ]
  },
  {
   "cell_type": "code",
   "execution_count": 4,
   "id": "88676614-3a8e-4078-85e8-bc6682d5e2fa",
   "metadata": {
    "tags": []
   },
   "outputs": [],
   "source": [
    "train_data['建筑面积_lon'] = train_data['建筑面积']*train_data['lon']\n",
    "train_data['建筑面积_lat'] = train_data['建筑面积']*train_data['lat']\n",
    "train_data['建筑面积_lonlat'] = train_data['建筑面积']*train_data['lon']*train_data['lat']\n",
    "train_data['distance']= np.sqrt(train_data['lon']**2 + train_data['lat']**2)\n",
    "train_data['建筑面积平方']= train_data['建筑面积']**2\n",
    "train_data['建筑面积_distance'] = train_data['建筑面积']*train_data['distance']\n",
    "train_data['lonlat'] = train_data['lat']*train_data['lon']\n",
    "\n",
    "test_data['建筑面积_lon'] = test_data['建筑面积']*test_data['lon']\n",
    "test_data['建筑面积_lat'] = test_data['建筑面积']*test_data['lat']\n",
    "test_data['建筑面积_lonlat'] = test_data['建筑面积']*test_data['lon']*test_data['lat']\n",
    "test_data['distance']= np.sqrt(test_data['lon']**2 + test_data['lat']**2)\n",
    "test_data['建筑面积平方']= test_data['建筑面积']**2\n",
    "test_data['建筑面积_distance'] = test_data['建筑面积']*test_data['distance']\n",
    "test_data['lonlat'] = test_data['lat']*test_data['lon']"
   ]
  },
  {
   "cell_type": "code",
   "execution_count": 5,
   "id": "36b30dd8-81f1-4564-b647-790f05f1c1f5",
   "metadata": {
    "tags": []
   },
   "outputs": [],
   "source": [
    "for col in train_data.columns:\n",
    "    train_data[col] = pd.to_numeric(train_data[col], errors='coerce')\n",
    "for col in test_data.columns:\n",
    "    test_data[col] = pd.to_numeric(test_data[col], errors='coerce')\n",
    "for col in train_data.columns:\n",
    "    if train_data[col].dtype == bool:\n",
    "        train_data[col] = train_data[col].astype(int)\n",
    "for col in test_data.columns:\n",
    "    if test_data[col].dtype == bool:\n",
    "        test_data[col] = test_data[col].astype(int)"
   ]
  },
  {
   "cell_type": "markdown",
   "id": "d40637d7-ba20-4698-9f44-02146ce483b2",
   "metadata": {},
   "source": [
    "### 3.2 PCA - 100 Principal Components"
   ]
  },
  {
   "cell_type": "code",
   "execution_count": 12,
   "id": "a43c8fba-79ac-4157-bdfd-65e72ef722e0",
   "metadata": {
    "tags": []
   },
   "outputs": [],
   "source": [
    "y = train_data['价格']\n",
    "X = train_data.drop(['价格','平米价格','log平米价格'], axis=1)\n",
    "\n",
    "X_train, X_test, y_train, y_test = train_test_split(X, y, test_size=0.2, random_state=111)\n",
    "\n",
    "pca = PCA(n_components=100)\n",
    "X_train_pca = pca.fit_transform(X_train)\n",
    "X_test_pca = pca.transform(X_test)"
   ]
  },
  {
   "cell_type": "markdown",
   "id": "97e7b82f-6791-4919-b4ec-874d28f29d23",
   "metadata": {
    "tags": []
   },
   "source": [
    "### 3.3 AutoEncoder"
   ]
  },
  {
   "cell_type": "code",
   "execution_count": null,
   "id": "50e7d507-1dd8-4008-8e5f-c2542d959370",
   "metadata": {
    "tags": []
   },
   "outputs": [
    {
     "name": "stdout",
     "output_type": "stream",
     "text": [
      "Epoch 1/5\n",
      "\u001b[1m406/406\u001b[0m \u001b[32m━━━━━━━━━━━━━━━━━━━━\u001b[0m\u001b[37m\u001b[0m \u001b[1m3s\u001b[0m 4ms/step - loss: 776103040.0000 - val_loss: 750207552.0000\n",
      "Epoch 2/5\n",
      "\u001b[1m406/406\u001b[0m \u001b[32m━━━━━━━━━━━━━━━━━━━━\u001b[0m\u001b[37m\u001b[0m \u001b[1m1s\u001b[0m 3ms/step - loss: 770800768.0000 - val_loss: 750207232.0000\n",
      "Epoch 3/5\n",
      "\u001b[1m406/406\u001b[0m \u001b[32m━━━━━━━━━━━━━━━━━━━━\u001b[0m\u001b[37m\u001b[0m \u001b[1m1s\u001b[0m 3ms/step - loss: 771354432.0000 - val_loss: 750206912.0000\n",
      "Epoch 4/5\n",
      "\u001b[1m406/406\u001b[0m \u001b[32m━━━━━━━━━━━━━━━━━━━━\u001b[0m\u001b[37m\u001b[0m \u001b[1m1s\u001b[0m 3ms/step - loss: 770959616.0000 - val_loss: 750207232.0000\n",
      "Epoch 5/5\n",
      "\u001b[1m406/406\u001b[0m \u001b[32m━━━━━━━━━━━━━━━━━━━━\u001b[0m\u001b[37m\u001b[0m \u001b[1m1s\u001b[0m 3ms/step - loss: 778073920.0000 - val_loss: 750207360.0000\n",
      "\u001b[1m3241/3241\u001b[0m \u001b[32m━━━━━━━━━━━━━━━━━━━━\u001b[0m\u001b[37m\u001b[0m \u001b[1m3s\u001b[0m 887us/step\n",
      "\u001b[1m811/811\u001b[0m \u001b[32m━━━━━━━━━━━━━━━━━━━━\u001b[0m\u001b[37m\u001b[0m \u001b[1m1s\u001b[0m 911us/step\n"
     ]
    }
   ],
   "source": [
    "y = train_data['价格']\n",
    "X = train_data.drop(['价格','平米价格','log平米价格'], axis=1)\n",
    "X_train, X_test, y_train, y_test = train_test_split(X, y, test_size=0.2, random_state=111)\n",
    "\n",
    "input_dim = X_train.shape[1]\n",
    "input_layer = Input(shape=(input_dim,))\n",
    "encoder1 = Dense(160, activation=\"tanh\")(input_layer)  \n",
    "encoder2 = Dense(80, activation=\"relu\")(encoder1) \n",
    "encoder3 = Dense(40, activation=\"relu\")(encoder2)  \n",
    "decoder1 = Dense(80, activation=\"relu\")(encoder3)  \n",
    "decoder2 = Dense(160, activation=\"relu\")(decoder1)  \n",
    "decoder3 = Dense(input_dim, activation=\"relu\")(decoder2)\n",
    "\n",
    "autoencoder = Model(inputs=input_layer, outputs=decoder3)\n",
    "autoencoder.compile(optimizer='adam', loss='mean_squared_error')\n",
    "\n",
    "autoencoder.fit(X_train, X_train,\n",
    "                epochs=5,\n",
    "                batch_size=256,\n",
    "                shuffle=True,\n",
    "                validation_data=(X_test, X_test))\n",
    "\n",
    "ae_X_train = autoencoder.predict(X_train)\n",
    "ae_X_test = autoencoder.predict(X_test)"
   ]
  },
  {
   "cell_type": "markdown",
   "id": "27ea056e-fc20-4554-b83c-c09a5bb09103",
   "metadata": {},
   "source": [
    "#### Test with different methods"
   ]
  },
  {
   "cell_type": "code",
   "execution_count": null,
   "id": "3a7c4ea7-f0f8-4e9e-868c-6fb04805981b",
   "metadata": {
    "tags": []
   },
   "outputs": [
    {
     "name": "stdout",
     "output_type": "stream",
     "text": [
      "Mean Absolute Error: 210010.39808278362\n"
     ]
    }
   ],
   "source": [
    "# PCA test\n",
    "model = xgb.XGBRegressor(learning_rate = 0.025, reg_lambda = 0.04, reg_alpha = 65, gamma = 10, n_estimators = 2450, \n",
    "                         max_depth = 10, min_child_weight = 5, )\n",
    "\n",
    "\n",
    "# fit the model on the training data\n",
    "model.fit(X_train_pca, y_train)\n",
    "\n",
    "# make predictions for the testing data\n",
    "y_pred = model.predict(X_test_pca)\n",
    "\n",
    "# calculate the mean squared error of the predictions\n",
    "mae = mean_absolute_error(y_test, y_pred)\n",
    "\n",
    "print(\"Mean Absolute Error:\", mae)"
   ]
  },
  {
   "cell_type": "code",
   "execution_count": null,
   "id": "8a58f4f5-286b-4e6e-a841-54b3090a5a49",
   "metadata": {
    "tags": []
   },
   "outputs": [
    {
     "name": "stdout",
     "output_type": "stream",
     "text": [
      "Mean Absolute Error: 166839.26173698308\n"
     ]
    }
   ],
   "source": [
    "# original data test\n",
    "X = train_data.drop(['价格','平米价格','log平米价格'], axis=1)\n",
    "y = train_data['价格']  \n",
    "X_train, X_test, y_train, y_test = train_test_split(X, y, test_size=0.2, random_state=111)\n",
    "# define the model\n",
    "model = xgb.XGBRegressor(learning_rate = 0.025, reg_lambda = 0.04, reg_alpha = 65, gamma = 10, n_estimators = 2450, \n",
    "                         max_depth = 10, min_child_weight = 5, )\n",
    "\n",
    "\n",
    "# fit the model on the training data\n",
    "model.fit(X_train, y_train)\n",
    "\n",
    "# make predictions for the testing data\n",
    "y_pred = model.predict(X_test)\n",
    "\n",
    "# calculate the mean squared error of the predictions\n",
    "mae = mean_absolute_error(y_test, y_pred)\n",
    "\n",
    "print(\"Mean Absolute Error:\", mae)"
   ]
  },
  {
   "cell_type": "code",
   "execution_count": null,
   "id": "421dee59-22f4-4f34-b9ae-6dee8d07edb8",
   "metadata": {
    "tags": []
   },
   "outputs": [
    {
     "name": "stdout",
     "output_type": "stream",
     "text": [
      "Mean Absolute Error: 665532.1968208733\n"
     ]
    }
   ],
   "source": [
    "#AutoEncoder test\n",
    "model = xgb.XGBRegressor(learning_rate = 0.025, reg_lambda = 0.04, reg_alpha = 65, gamma = 10, n_estimators = 2450, \n",
    "                         max_depth = 10, min_child_weight = 5, )\n",
    "\n",
    "\n",
    "# fit the model on the training data\n",
    "model.fit(ae_X_train, y_train)\n",
    "\n",
    "# make predictions for the testing data\n",
    "y_pred = model.predict(ae_X_test)\n",
    "\n",
    "# calculate the mean squared error of the predictions\n",
    "mae = mean_absolute_error(y_test, y_pred)\n",
    "\n",
    "print(\"Mean Absolute Error:\", mae)"
   ]
  },
  {
   "cell_type": "markdown",
   "id": "dddb35e6-0009-4521-a297-9017d03d6b62",
   "metadata": {},
   "source": [
    "#### the effect is: all data>PCA>AutoEncoder. Therefore, all data is selected subsequently"
   ]
  },
  {
   "cell_type": "markdown",
   "id": "9e6404a1-b412-4729-a510-52f87c55c9a4",
   "metadata": {},
   "source": [
    "## 4.Models"
   ]
  },
  {
   "cell_type": "markdown",
   "id": "9a69a736-65de-4830-94d3-c623da5ead31",
   "metadata": {},
   "source": [
    "#### 4.1 Random Forest"
   ]
  },
  {
   "cell_type": "code",
   "execution_count": null,
   "id": "653c7e77-d699-40b6-b62a-ec69fd3aea56",
   "metadata": {},
   "outputs": [],
   "source": [
    "# use GridSearch to find the best \"n_estimators\"\n",
    "X = train_data.drop(['价格','平米价格','log平米价格'], axis=1)\n",
    "y = train_data['价格']  \n",
    "# train_test_split\n",
    "X_train, X_test, y_train, y_test = train_test_split(X, y, test_size=0.2, random_state=111)  \n",
    "\n",
    "n_estimators_list = range(600,1500,100)\n",
    "mae_list = []\n",
    "\n",
    "for n_estimators in n_estimators_list:\n",
    "    rf = RandomForestRegressor(n_estimators=n_estimators)\n",
    "    rf.fit(X_train, y_train)\n",
    "    predictions = rf.predict(X_test)\n",
    "    mae = mean_absolute_error(y_test, predictions)\n",
    "    mae_list.append(mae)\n",
    "\n",
    "rf.fit(X_train, y_train)\n",
    "\n",
    "y_pred = rf.predict(X_test)\n"
   ]
  },
  {
   "cell_type": "code",
   "execution_count": null,
   "id": "1b0031a5-3aae-4fda-a1da-5e2695c6164a",
   "metadata": {},
   "outputs": [],
   "source": [
    "plt.figure(figsize=(12,8))\n",
    "plt.plot(n_estimators_list, mae_list)\n",
    "plt.xlabel('Number of Trees')\n",
    "plt.ylabel('MAE')\n",
    "plt.title('Random Forest Regression')\n",
    "plt.grid()\n",
    "plt.show()"
   ]
  },
  {
   "cell_type": "markdown",
   "id": "1c36c567-6d11-47e0-9d52-dc1016d835c0",
   "metadata": {},
   "source": [
    "##### found that the MAE is the smallest at 1300. Next, we optimize max_features on this basis"
   ]
  },
  {
   "cell_type": "code",
   "execution_count": null,
   "id": "111a8ba3-3c28-4d1e-a867-bc1eaa606b55",
   "metadata": {},
   "outputs": [],
   "source": [
    "# use GridSearch to find the best max_features\n",
    "rf = RandomForestRegressor(n_estimators=1300)\n",
    "\n",
    "# set the grid\n",
    "param_grid = {'max_features': [5, 10, 15, 20, 25, 30, 35, 40, 45, 50,55,60,65,70,75,80,85,90,95,100]}\n",
    "\n",
    "grid_search = GridSearchCV(rf, param_grid=param_grid, cv=6)\n",
    "grid_search.fit(X_train, y_train)\n",
    "\n",
    "print('Best parameters:', grid_search.best_params_)\n",
    "print('Best score:', grid_search.best_score_)\n",
    "\n",
    "y_pred = grid_search.predict(X_test)\n",
    "mae = mean_absolute_error(y_test, y_pred)\n",
    "print('Test set MAE:', mae)\n",
    "\n",
    "max_features_list = [5, 10, 15, 20, 25, 30, 35, 40, 45, 50,55,60,65,70,75,80,85,90,95,100]\n",
    "mae_list = []\n",
    "for max_features in max_features_list:\n",
    "    rf = RandomForestRegressor(n_estimators=1300,\n",
    "                                max_features=max_features)\n",
    "    rf.fit(X_train,y_train)\n",
    "    y_pred = rf.predict(X_test)\n",
    "    mae = mean_absolute_error(y_test,y_pred)\n",
    "    mae_list.append(mae)\n",
    "    print(\"We set max_features = \" + str(max_features))"
   ]
  },
  {
   "cell_type": "code",
   "execution_count": null,
   "id": "4cb05796-3793-4852-976c-984368b0cd73",
   "metadata": {},
   "outputs": [],
   "source": [
    "plt.figure(figsize=(12,8))\n",
    "plt.plot(max_features_list,mae_list)\n",
    "plt.xlabel('max_features')\n",
    "plt.ylabel('MAE')\n",
    "plt.grid()\n",
    "plt.show()"
   ]
  },
  {
   "cell_type": "markdown",
   "id": "0e5fc373-519d-432b-92ec-8f204b26ba93",
   "metadata": {},
   "source": [
    "#### From this, we obtained the optimal parameters of RandomForest, with MAE being 173390 on the test set"
   ]
  },
  {
   "cell_type": "markdown",
   "id": "ed66c87f-f148-40b2-be61-a936e4969d13",
   "metadata": {},
   "source": [
    "#### 4.2 XGBoost\n",
    "##### XGBoost has many hyperparameters，so I used Optuna to find the best set of hyperparameters"
   ]
  },
  {
   "cell_type": "code",
   "execution_count": 14,
   "id": "6306f877-cde3-4743-a470-d8d642581e25",
   "metadata": {},
   "outputs": [
    {
     "name": "stderr",
     "output_type": "stream",
     "text": [
      "[I 2024-06-03 13:35:35,881] A new study created in memory with name: no-name-bc15b7b6-be47-440c-b652-6a666446d901\n",
      "[I 2024-06-03 13:37:28,409] Trial 0 finished with value: 164312.42262150167 and parameters: {'n_estimators': 2730, 'max_depth': 8, 'learning_rate': 0.02747746656834326, 'subsample': 0.7177837517358743, 'colsample_bytree': 0.9605589087104269, 'gamma': 5.193112303017308, 'reg_alpha': 13.475654013462409, 'reg_lambda': 2.9228701157638417, 'min_child_weight': 2}. Best is trial 0 with value: 164312.42262150167.\n",
      "[I 2024-06-03 13:41:36,215] Trial 1 finished with value: 164559.30148902518 and parameters: {'n_estimators': 2359, 'max_depth': 13, 'learning_rate': 0.014219756286340732, 'subsample': 0.7442006568860164, 'colsample_bytree': 0.6187625314596963, 'gamma': 9.255846498083573, 'reg_alpha': 88.73157571338949, 'reg_lambda': 9.472905390422769, 'min_child_weight': 8}. Best is trial 0 with value: 164312.42262150167.\n",
      "[I 2024-06-03 13:49:22,689] Trial 2 finished with value: 165715.91978949678 and parameters: {'n_estimators': 3087, 'max_depth': 13, 'learning_rate': 0.027973413410155676, 'subsample': 0.710180926052032, 'colsample_bytree': 0.7853972918498632, 'gamma': 3.190639555831266, 'reg_alpha': 77.88176503938027, 'reg_lambda': 3.261458166818288, 'min_child_weight': 6}. Best is trial 0 with value: 164312.42262150167.\n",
      "[I 2024-06-03 13:50:54,140] Trial 3 finished with value: 181239.20169016172 and parameters: {'n_estimators': 2480, 'max_depth': 8, 'learning_rate': 0.0095660678956709, 'subsample': 0.9518015522448856, 'colsample_bytree': 0.8923545540034424, 'gamma': 9.801819687366272, 'reg_alpha': 30.25981416136601, 'reg_lambda': 7.417087591106506, 'min_child_weight': 3}. Best is trial 0 with value: 164312.42262150167.\n",
      "[I 2024-06-03 13:57:47,232] Trial 4 finished with value: 165681.89082450912 and parameters: {'n_estimators': 2454, 'max_depth': 13, 'learning_rate': 0.027883768935684252, 'subsample': 0.6317075417674166, 'colsample_bytree': 0.8189523124617548, 'gamma': 9.257027698677767, 'reg_alpha': 54.117488410340776, 'reg_lambda': 7.5239334107741955, 'min_child_weight': 4}. Best is trial 0 with value: 164312.42262150167.\n",
      "[I 2024-06-03 14:00:15,459] Trial 5 finished with value: 166882.59811599497 and parameters: {'n_estimators': 2996, 'max_depth': 9, 'learning_rate': 0.010726980511875976, 'subsample': 0.7593327747654055, 'colsample_bytree': 0.7772415647786851, 'gamma': 7.492273066266848, 'reg_alpha': 64.66105393082057, 'reg_lambda': 1.1336718475348275, 'min_child_weight': 4}. Best is trial 0 with value: 164312.42262150167.\n",
      "[I 2024-06-03 14:04:27,445] Trial 6 finished with value: 167200.25445911931 and parameters: {'n_estimators': 3126, 'max_depth': 12, 'learning_rate': 0.007332865214318613, 'subsample': 0.7318632677451027, 'colsample_bytree': 0.6116889487802705, 'gamma': 9.461633650213845, 'reg_alpha': 34.76040678410511, 'reg_lambda': 6.970057827042321, 'min_child_weight': 7}. Best is trial 0 with value: 164312.42262150167.\n",
      "[I 2024-06-03 14:08:55,954] Trial 7 finished with value: 163647.4211944991 and parameters: {'n_estimators': 2867, 'max_depth': 11, 'learning_rate': 0.022174814036639248, 'subsample': 0.8974788036971226, 'colsample_bytree': 0.9492948133681025, 'gamma': 7.6796978959253055, 'reg_alpha': 41.33956741065795, 'reg_lambda': 3.5599219168363394, 'min_child_weight': 5}. Best is trial 7 with value: 163647.4211944991.\n",
      "[I 2024-06-03 14:10:47,054] Trial 8 finished with value: 186061.85732475747 and parameters: {'n_estimators': 2771, 'max_depth': 8, 'learning_rate': 0.0060000286089307645, 'subsample': 0.9841816711602315, 'colsample_bytree': 0.8214955244200038, 'gamma': 8.559698487241093, 'reg_alpha': 74.771897633556, 'reg_lambda': 3.3511932556864927, 'min_child_weight': 3}. Best is trial 7 with value: 163647.4211944991.\n",
      "[I 2024-06-03 14:12:57,181] Trial 9 finished with value: 167221.11759646356 and parameters: {'n_estimators': 2396, 'max_depth': 10, 'learning_rate': 0.013373212131289332, 'subsample': 0.984611060110763, 'colsample_bytree': 0.7070356155813443, 'gamma': 4.215865651919957, 'reg_alpha': 56.07627162729977, 'reg_lambda': 7.550511689123598, 'min_child_weight': 7}. Best is trial 7 with value: 163647.4211944991.\n",
      "[I 2024-06-03 14:28:25,599] Trial 10 finished with value: 166030.90978631427 and parameters: {'n_estimators': 2919, 'max_depth': 15, 'learning_rate': 0.021432193932572303, 'subsample': 0.866454901127663, 'colsample_bytree': 0.9787960322001386, 'gamma': 6.549861386246041, 'reg_alpha': 3.5222644323376713, 'reg_lambda': 5.123071158177313, 'min_child_weight': 5}. Best is trial 7 with value: 163647.4211944991.\n",
      "[I 2024-06-03 14:31:55,575] Trial 11 finished with value: 162529.8087334365 and parameters: {'n_estimators': 2696, 'max_depth': 10, 'learning_rate': 0.022213231833878615, 'subsample': 0.8533310215529976, 'colsample_bytree': 0.993219712796998, 'gamma': 1.013948509646422, 'reg_alpha': 2.9314186873003507, 'reg_lambda': 3.0112400400330874, 'min_child_weight': 2}. Best is trial 11 with value: 162529.8087334365.\n",
      "[I 2024-06-03 14:38:11,914] Trial 12 finished with value: 162697.18511131525 and parameters: {'n_estimators': 2584, 'max_depth': 11, 'learning_rate': 0.02119919742261514, 'subsample': 0.8499246036513435, 'colsample_bytree': 0.900280622220934, 'gamma': 2.140603120284517, 'reg_alpha': 31.14895994310316, 'reg_lambda': 4.872542708931899, 'min_child_weight': 2}. Best is trial 11 with value: 162529.8087334365.\n",
      "[I 2024-06-03 14:42:28,029] Trial 13 finished with value: 162748.97891200622 and parameters: {'n_estimators': 2568, 'max_depth': 10, 'learning_rate': 0.02118501371763552, 'subsample': 0.8305535775003607, 'colsample_bytree': 0.9044787727201804, 'gamma': 1.0201272131342674, 'reg_alpha': 15.890303141384095, 'reg_lambda': 4.966719239140208, 'min_child_weight': 2}. Best is trial 11 with value: 162529.8087334365.\n",
      "[I 2024-06-03 14:47:46,658] Trial 14 finished with value: 162873.95593651148 and parameters: {'n_estimators': 2246, 'max_depth': 11, 'learning_rate': 0.017171803858251018, 'subsample': 0.8997302148117859, 'colsample_bytree': 0.8852253568303602, 'gamma': 1.0516482489679646, 'reg_alpha': 22.15993836808301, 'reg_lambda': 1.7128862625360861, 'min_child_weight': 2}. Best is trial 11 with value: 162529.8087334365.\n",
      "[I 2024-06-03 14:51:01,107] Trial 15 finished with value: 163018.75696775064 and parameters: {'n_estimators': 2610, 'max_depth': 10, 'learning_rate': 0.023952843837446475, 'subsample': 0.8021593398767042, 'colsample_bytree': 0.9987045498660806, 'gamma': 2.635191075753936, 'reg_alpha': 4.857508787800784, 'reg_lambda': 4.516505088053209, 'min_child_weight': 3}. Best is trial 11 with value: 162529.8087334365.\n",
      "[I 2024-06-03 14:56:31,370] Trial 16 finished with value: 163365.53476160168 and parameters: {'n_estimators': 2638, 'max_depth': 12, 'learning_rate': 0.01814975789222804, 'subsample': 0.8384882548412296, 'colsample_bytree': 0.924228121988628, 'gamma': 2.652068662230311, 'reg_alpha': 42.575021388533955, 'reg_lambda': 6.030470957795445, 'min_child_weight': 4}. Best is trial 11 with value: 162529.8087334365.\n",
      "[I 2024-06-03 15:24:12,108] Trial 17 finished with value: 166157.54723905894 and parameters: {'n_estimators': 2770, 'max_depth': 15, 'learning_rate': 0.024920978327975546, 'subsample': 0.919116358539066, 'colsample_bytree': 0.874573209053295, 'gamma': 2.059347901129918, 'reg_alpha': 23.543366351295735, 'reg_lambda': 2.195117643474039, 'min_child_weight': 2}. Best is trial 11 with value: 162529.8087334365.\n",
      "[I 2024-06-03 15:26:05,472] Trial 18 finished with value: 165878.22282064913 and parameters: {'n_estimators': 2243, 'max_depth': 9, 'learning_rate': 0.01848623491152459, 'subsample': 0.7849746077813007, 'colsample_bytree': 0.853398983856891, 'gamma': 4.3939112040284884, 'reg_alpha': 2.4606609246103903, 'reg_lambda': 4.248597006262074, 'min_child_weight': 3}. Best is trial 11 with value: 162529.8087334365.\n",
      "[I 2024-06-03 15:30:05,416] Trial 19 finished with value: 164694.2754859343 and parameters: {'n_estimators': 2529, 'max_depth': 11, 'learning_rate': 0.024947283864936692, 'subsample': 0.6553206327406769, 'colsample_bytree': 0.950523884874178, 'gamma': 1.6885008444182148, 'reg_alpha': 14.858976941353944, 'reg_lambda': 9.829272178160567, 'min_child_weight': 4}. Best is trial 11 with value: 162529.8087334365.\n",
      "[I 2024-06-03 15:32:24,549] Trial 20 finished with value: 164912.81615595947 and parameters: {'n_estimators': 2672, 'max_depth': 9, 'learning_rate': 0.015762780014683155, 'subsample': 0.829884625876838, 'colsample_bytree': 0.7388717191280288, 'gamma': 3.6234726474611714, 'reg_alpha': 31.75024008470563, 'reg_lambda': 6.007253825324265, 'min_child_weight': 2}. Best is trial 11 with value: 162529.8087334365.\n",
      "[I 2024-06-03 15:35:38,800] Trial 21 finished with value: 163267.8262751707 and parameters: {'n_estimators': 2563, 'max_depth': 10, 'learning_rate': 0.02035743682871291, 'subsample': 0.8466766384050682, 'colsample_bytree': 0.9216020484971545, 'gamma': 1.10216207349349, 'reg_alpha': 14.48833575662012, 'reg_lambda': 5.050154863800445, 'min_child_weight': 2}. Best is trial 11 with value: 162529.8087334365.\n",
      "[I 2024-06-03 15:39:13,397] Trial 22 finished with value: 163121.047319827 and parameters: {'n_estimators': 2791, 'max_depth': 10, 'learning_rate': 0.020118793334719515, 'subsample': 0.8087187799728977, 'colsample_bytree': 0.9963886836060677, 'gamma': 1.6817063561246055, 'reg_alpha': 21.619913385962896, 'reg_lambda': 4.189526270378321, 'min_child_weight': 3}. Best is trial 11 with value: 162529.8087334365.\n",
      "[I 2024-06-03 15:46:57,923] Trial 23 finished with value: 164483.7537774129 and parameters: {'n_estimators': 2587, 'max_depth': 12, 'learning_rate': 0.024651122171924958, 'subsample': 0.8739540562708387, 'colsample_bytree': 0.9166797382424883, 'gamma': 2.682888996785697, 'reg_alpha': 10.371228734560784, 'reg_lambda': 2.4462633819334765, 'min_child_weight': 2}. Best is trial 11 with value: 162529.8087334365.\n",
      "[I 2024-06-03 15:50:45,637] Trial 24 finished with value: 162536.21376829938 and parameters: {'n_estimators': 2345, 'max_depth': 11, 'learning_rate': 0.023009965570179685, 'subsample': 0.9225995682016566, 'colsample_bytree': 0.8484915198546373, 'gamma': 1.0386097130597036, 'reg_alpha': 24.041397805834002, 'reg_lambda': 5.9178189381833715, 'min_child_weight': 3}. Best is trial 11 with value: 162529.8087334365.\n",
      "[I 2024-06-03 15:54:31,467] Trial 25 finished with value: 162544.89932172926 and parameters: {'n_estimators': 2302, 'max_depth': 11, 'learning_rate': 0.022713069467928906, 'subsample': 0.9357312724123388, 'colsample_bytree': 0.848318378726514, 'gamma': 2.0826915647600917, 'reg_alpha': 44.08126231719157, 'reg_lambda': 6.308322122359952, 'min_child_weight': 3}. Best is trial 11 with value: 162529.8087334365.\n",
      "[I 2024-06-03 16:07:32,832] Trial 26 finished with value: 165248.85531248795 and parameters: {'n_estimators': 2327, 'max_depth': 14, 'learning_rate': 0.029506587145468034, 'subsample': 0.945926075879468, 'colsample_bytree': 0.8529558954500638, 'gamma': 3.788429598839718, 'reg_alpha': 43.85318639840839, 'reg_lambda': 6.345766951049119, 'min_child_weight': 3}. Best is trial 11 with value: 162529.8087334365.\n",
      "[I 2024-06-03 16:12:57,080] Trial 27 finished with value: 162831.8897299213 and parameters: {'n_estimators': 2203, 'max_depth': 12, 'learning_rate': 0.023353390191899703, 'subsample': 0.9418627750364097, 'colsample_bytree': 0.6833277246102054, 'gamma': 4.860798425843421, 'reg_alpha': 59.502432584918786, 'reg_lambda': 8.436114129925635, 'min_child_weight': 4}. Best is trial 11 with value: 162529.8087334365.\n",
      "[I 2024-06-03 16:16:28,436] Trial 28 finished with value: 163321.70249332156 and parameters: {'n_estimators': 2316, 'max_depth': 11, 'learning_rate': 0.026301268061917824, 'subsample': 0.9976598332388373, 'colsample_bytree': 0.739718886716183, 'gamma': 5.842666251447555, 'reg_alpha': 48.10387960930687, 'reg_lambda': 8.25989599562701, 'min_child_weight': 5}. Best is trial 11 with value: 162529.8087334365.\n",
      "[I 2024-06-03 16:18:23,831] Trial 29 finished with value: 163551.5201226951 and parameters: {'n_estimators': 2461, 'max_depth': 9, 'learning_rate': 0.02303112719903659, 'subsample': 0.9118988173872246, 'colsample_bytree': 0.8205487767746482, 'gamma': 1.7838027571506916, 'reg_alpha': 25.369473703827072, 'reg_lambda': 5.741993462815709, 'min_child_weight': 3}. Best is trial 11 with value: 162529.8087334365.\n",
      "[I 2024-06-03 16:20:43,022] Trial 30 finished with value: 164564.34458902327 and parameters: {'n_estimators': 2394, 'max_depth': 10, 'learning_rate': 0.019184149788660024, 'subsample': 0.8817035839933907, 'colsample_bytree': 0.8538913618486456, 'gamma': 3.1815442698816243, 'reg_alpha': 39.13645249401036, 'reg_lambda': 6.498071403544641, 'min_child_weight': 6}. Best is trial 11 with value: 162529.8087334365.\n",
      "[I 2024-06-03 16:25:59,798] Trial 31 finished with value: 163081.22912085793 and parameters: {'n_estimators': 2706, 'max_depth': 11, 'learning_rate': 0.026230248860397258, 'subsample': 0.9292970029108765, 'colsample_bytree': 0.9515464838296246, 'gamma': 2.231995869932673, 'reg_alpha': 33.50992487111034, 'reg_lambda': 5.395657309550128, 'min_child_weight': 2}. Best is trial 11 with value: 162529.8087334365.\n",
      "[I 2024-06-03 16:30:30,051] Trial 32 finished with value: 162873.4535945396 and parameters: {'n_estimators': 2494, 'max_depth': 11, 'learning_rate': 0.02240426294468911, 'subsample': 0.8597540925899925, 'colsample_bytree': 0.8668823562255429, 'gamma': 1.4562906544728285, 'reg_alpha': 49.641687016648035, 'reg_lambda': 3.8672180364916495, 'min_child_weight': 2}. Best is trial 11 with value: 162529.8087334365.\n",
      "[I 2024-06-03 16:35:48,525] Trial 33 finished with value: 162372.82620585483 and parameters: {'n_estimators': 2296, 'max_depth': 12, 'learning_rate': 0.016415173014772893, 'subsample': 0.9580064274285343, 'colsample_bytree': 0.7872187381617598, 'gamma': 2.33212912386361, 'reg_alpha': 9.336629711281429, 'reg_lambda': 2.765480605501998, 'min_child_weight': 3}. Best is trial 33 with value: 162372.82620585483.\n",
      "[I 2024-06-03 16:46:09,803] Trial 34 finished with value: 162877.7022257021 and parameters: {'n_estimators': 2280, 'max_depth': 13, 'learning_rate': 0.014422804825659209, 'subsample': 0.955984701104108, 'colsample_bytree': 0.7952148668866055, 'gamma': 3.1819953736531152, 'reg_alpha': 9.291587055081678, 'reg_lambda': 2.8996027109429527, 'min_child_weight': 3}. Best is trial 33 with value: 162372.82620585483.\n",
      "[I 2024-06-03 16:53:02,696] Trial 35 finished with value: 162690.2081464819 and parameters: {'n_estimators': 2384, 'max_depth': 12, 'learning_rate': 0.016641298643688393, 'subsample': 0.9766220254395237, 'colsample_bytree': 0.7672445551180496, 'gamma': 2.5192912562687595, 'reg_alpha': 8.684672365069645, 'reg_lambda': 2.832133952756248, 'min_child_weight': 4}. Best is trial 33 with value: 162372.82620585483.\n",
      "[I 2024-06-03 17:08:56,351] Trial 36 finished with value: 163608.01102182426 and parameters: {'n_estimators': 2340, 'max_depth': 14, 'learning_rate': 0.013303637986840372, 'subsample': 0.9677416697266905, 'colsample_bytree': 0.6735008967531083, 'gamma': 1.5465371330658173, 'reg_alpha': 18.420012202383212, 'reg_lambda': 1.5386825925380954, 'min_child_weight': 3}. Best is trial 33 with value: 162372.82620585483.\n",
      "[I 2024-06-03 17:16:57,998] Trial 37 finished with value: 164390.1281240356 and parameters: {'n_estimators': 2433, 'max_depth': 13, 'learning_rate': 0.02648750678345265, 'subsample': 0.9295689693060093, 'colsample_bytree': 0.8338001170448084, 'gamma': 3.036750840930493, 'reg_alpha': 71.70614836752603, 'reg_lambda': 6.854100920400114, 'min_child_weight': 4}. Best is trial 33 with value: 162372.82620585483.\n",
      "[I 2024-06-03 17:21:24,308] Trial 38 finished with value: 162859.97406562223 and parameters: {'n_estimators': 3056, 'max_depth': 12, 'learning_rate': 0.019643440054077133, 'subsample': 0.8925348112090494, 'colsample_bytree': 0.7485433348945797, 'gamma': 1.3833051474216305, 'reg_alpha': 8.410333893151966, 'reg_lambda': 8.282368576129896, 'min_child_weight': 8}. Best is trial 33 with value: 162372.82620585483.\n",
      "[I 2024-06-03 17:27:45,007] Trial 39 finished with value: 163924.4288035721 and parameters: {'n_estimators': 2206, 'max_depth': 14, 'learning_rate': 0.01139461247933708, 'subsample': 0.706200176103717, 'colsample_bytree': 0.7655689692331648, 'gamma': 5.645829765371166, 'reg_alpha': 86.76692620455256, 'reg_lambda': 2.2887086106012045, 'min_child_weight': 6}. Best is trial 33 with value: 162372.82620585483.\n",
      "[I 2024-06-03 17:29:20,056] Trial 40 finished with value: 171873.36711818413 and parameters: {'n_estimators': 2287, 'max_depth': 8, 'learning_rate': 0.01540813760044278, 'subsample': 0.9591625702888279, 'colsample_bytree': 0.8035919094184186, 'gamma': 3.6287290850205283, 'reg_alpha': 18.168568158612338, 'reg_lambda': 3.693446676920571, 'min_child_weight': 3}. Best is trial 33 with value: 162372.82620585483.\n",
      "[I 2024-06-03 18:08:19,185] Trial 41 finished with value: 162511.5474620752 and parameters: {'n_estimators': 2401, 'max_depth': 12, 'learning_rate': 0.01707205023744513, 'subsample': 0.9770781540301654, 'colsample_bytree': 0.7773847566850002, 'gamma': 2.4150012419319595, 'reg_alpha': 7.149461517267639, 'reg_lambda': 2.9404053557884375, 'min_child_weight': 4}. Best is trial 33 with value: 162372.82620585483.\n",
      "[I 2024-06-03 18:13:52,924] Trial 42 finished with value: 163404.2943434643 and parameters: {'n_estimators': 2371, 'max_depth': 12, 'learning_rate': 0.018141785131257478, 'subsample': 0.9993461588141874, 'colsample_bytree': 0.7147182369387787, 'gamma': 1.9576814617712457, 'reg_alpha': 1.3483439223916194, 'reg_lambda': 1.0138894119682265, 'min_child_weight': 4}. Best is trial 33 with value: 162372.82620585483.\n",
      "[I 2024-06-03 18:21:29,959] Trial 43 finished with value: 162924.60491045596 and parameters: {'n_estimators': 2416, 'max_depth': 13, 'learning_rate': 0.016292424551352203, 'subsample': 0.9380148013356606, 'colsample_bytree': 0.7875887188481157, 'gamma': 2.285429310098281, 'reg_alpha': 25.886783425056233, 'reg_lambda': 3.1412964183761396, 'min_child_weight': 3}. Best is trial 33 with value: 162372.82620585483.\n",
      "[I 2024-06-03 18:24:52,863] Trial 44 finished with value: 163373.90697751514 and parameters: {'n_estimators': 2515, 'max_depth': 11, 'learning_rate': 0.012478163329320047, 'subsample': 0.9101146287847877, 'colsample_bytree': 0.814643732506302, 'gamma': 1.2930786138215116, 'reg_alpha': 11.733886262951012, 'reg_lambda': 1.9679313123685782, 'min_child_weight': 4}. Best is trial 33 with value: 162372.82620585483.\n",
      "[I 2024-06-03 18:29:51,290] Trial 45 finished with value: 164062.79623367763 and parameters: {'n_estimators': 2877, 'max_depth': 12, 'learning_rate': 0.008478952618246535, 'subsample': 0.9654857097845191, 'colsample_bytree': 0.8291713845912285, 'gamma': 2.8303230165338165, 'reg_alpha': 98.21736667015526, 'reg_lambda': 2.6207034691018958, 'min_child_weight': 5}. Best is trial 33 with value: 162372.82620585483.\n",
      "[I 2024-06-03 18:33:09,188] Trial 46 finished with value: 162060.99080570342 and parameters: {'n_estimators': 2280, 'max_depth': 11, 'learning_rate': 0.021639418762207017, 'subsample': 0.8882443740422402, 'colsample_bytree': 0.7098585176062383, 'gamma': 2.2265496878426623, 'reg_alpha': 6.977446291115538, 'reg_lambda': 3.2766462994564374, 'min_child_weight': 3}. Best is trial 46 with value: 162060.99080570342.\n",
      "[I 2024-06-03 18:35:14,172] Trial 47 finished with value: 162874.8541335156 and parameters: {'n_estimators': 2253, 'max_depth': 10, 'learning_rate': 0.021695021266811762, 'subsample': 0.888346699572648, 'colsample_bytree': 0.6464906130976475, 'gamma': 7.195099709504907, 'reg_alpha': 6.70441955358211, 'reg_lambda': 3.3170486388621976, 'min_child_weight': 4}. Best is trial 46 with value: 162060.99080570342.\n",
      "[I 2024-06-03 18:43:30,399] Trial 48 finished with value: 164187.04307890194 and parameters: {'n_estimators': 2346, 'max_depth': 13, 'learning_rate': 0.020647409611094257, 'subsample': 0.7724485172674496, 'colsample_bytree': 0.7193422650252059, 'gamma': 8.634365861998134, 'reg_alpha': 1.2339409261439638, 'reg_lambda': 1.4639371912859982, 'min_child_weight': 3}. Best is trial 46 with value: 162060.99080570342.\n",
      "[I 2024-06-03 18:46:33,819] Trial 49 finished with value: 162424.58912874185 and parameters: {'n_estimators': 2955, 'max_depth': 10, 'learning_rate': 0.01490172439665126, 'subsample': 0.9054863361393762, 'colsample_bytree': 0.6246001893354791, 'gamma': 3.920437297654612, 'reg_alpha': 12.889863884058324, 'reg_lambda': 4.374778745174538, 'min_child_weight': 2}. Best is trial 46 with value: 162060.99080570342.\n"
     ]
    },
    {
     "name": "stdout",
     "output_type": "stream",
     "text": [
      "Best score: 162060.99081\n",
      "Best params: {'n_estimators': 2280, 'max_depth': 11, 'learning_rate': 0.021639418762207017, 'subsample': 0.8882443740422402, 'colsample_bytree': 0.7098585176062383, 'gamma': 2.2265496878426623, 'reg_alpha': 6.977446291115538, 'reg_lambda': 3.2766462994564374, 'min_child_weight': 3}\n"
     ]
    }
   ],
   "source": [
    "X = train_data.drop(['价格','平米价格','log平米价格'], axis=1)\n",
    "y = train_data['价格']  \n",
    "\n",
    "X_train, X_test, y_train, y_test = train_test_split(X, y, test_size=0.2, random_state=111)  \n",
    "\n",
    "def objective(trial):\n",
    "    params = {\n",
    "        'n_estimators': trial.suggest_int('n_estimators', 2200, 3200),\n",
    "        'max_depth': trial.suggest_int('max_depth', 8, 15),\n",
    "        'learning_rate': trial.suggest_uniform('learning_rate', 0.005,0.03),\n",
    "        'subsample': trial.suggest_uniform('subsample', 0.6,1),\n",
    "        'colsample_bytree': trial.suggest_uniform('colsample_bytree', 0.6,1),\n",
    "        'gamma': trial.suggest_uniform('gamma', 1, 10),\n",
    "        'reg_alpha': trial.suggest_uniform('reg_alpha',1, 100.0),\n",
    "        'reg_lambda': trial.suggest_uniform('reg_lambda', 1, 10),\n",
    "        'min_child_weight': trial.suggest_int('min_child_weight',2.0,8.0),\n",
    "        'grow_policy':'lossguide'\n",
    "    }\n",
    "    model = xgb.XGBRegressor(**params)\n",
    "    model.fit(X_train, y_train)\n",
    "\n",
    "    y_pred = model.predict(X_test)\n",
    "    return mean_absolute_error(y_test, y_pred)\n",
    "\n",
    "study = optuna.create_study(direction='minimize')\n",
    "study.optimize(objective, n_trials=50)\n",
    "\n",
    "print(f'Best score: {study.best_value:.5f}')\n",
    "print(f'Best params: {study.best_params}')"
   ]
  },
  {
   "cell_type": "markdown",
   "id": "4209c26f-addf-4ad2-b511-5b2c82c71ea7",
   "metadata": {},
   "source": [
    "##### In fact, I carried out this process many times and finally obtained the best parameters as follows:"
   ]
  },
  {
   "cell_type": "code",
   "execution_count": null,
   "id": "ed713c4d-03a8-478f-b029-5e55c66717c1",
   "metadata": {
    "tags": []
   },
   "outputs": [
    {
     "name": "stdout",
     "output_type": "stream",
     "text": [
      "Mean Absolute Error: 161688.95271362545\n"
     ]
    }
   ],
   "source": [
    "X = train_data.drop(['价格','平米价格','log平米价格'], axis=1)\n",
    "y = train_data['价格']  \n",
    "X_train, X_test, y_train, y_test = train_test_split(X, y, test_size=0.2, random_state=111)  \n",
    "\n",
    "xg1_model = xgb.XGBRegressor(learning_rate =   0.02865, reg_lambda =0.28023920838984356, reg_alpha = 93.26922092010518, gamma = 9.926790504999932, n_estimators = 2991, \n",
    "                         max_depth = 9, min_child_weight = 2,subsample = 0.8661393983774751, colsample_bytree =0.7088349633953773)\n",
    "\n",
    "\n",
    "# fit the model on the training data\n",
    "xg1_model.fit(X_train, y_train)\n",
    "y_pred = xg1_model.predict(X_test)\n",
    "\n",
    "# calculate the mean squared error of the predictions\n",
    "mae = mean_absolute_error(y_test, y_pred)\n",
    "\n",
    "print(\"Mean Absolute Error:\", mae)"
   ]
  },
  {
   "cell_type": "markdown",
   "id": "3efcf5d0-f16f-4ddc-a506-918fef1ed1ef",
   "metadata": {},
   "source": [
    "#### 4.3 LightGBM\n",
    "##### Both LGB and XGB are essentially gradient methods with a large number of parameters. Therefore, Optuna is also chosen for parameter tuning"
   ]
  },
  {
   "cell_type": "code",
   "execution_count": null,
   "id": "32168fd1-fb9a-4d94-99f4-538ae445f8f5",
   "metadata": {},
   "outputs": [
    {
     "name": "stderr",
     "output_type": "stream",
     "text": [
      "[I 2024-06-03 19:11:04,370] A new study created in memory with name: no-name-ca6b36b9-9f96-4141-b7a1-0c6b5d1526d0\n"
     ]
    },
    {
     "name": "stdout",
     "output_type": "stream",
     "text": [
      "Training until validation scores don't improve for 20 rounds\n",
      "Early stopping, best iteration is:\n",
      "[844]\ttrain's l1: 80838.5\ttest's l1: 165470\n"
     ]
    },
    {
     "name": "stderr",
     "output_type": "stream",
     "text": [
      "[I 2024-06-03 19:11:58,872] Trial 0 finished with value: 165469.6113809834 and parameters: {'num_leaves': 523, 'learning_rate': 0.027923306954500196, 'feature_fraction': 0.8080334666997546, 'bagging_fraction': 0.8856928044927155, 'bagging_freq': 11, 'reg_alpha': 28.175827041490432, 'reg_lambda': 5.052000013521497}. Best is trial 0 with value: 165469.6113809834.\n"
     ]
    },
    {
     "name": "stdout",
     "output_type": "stream",
     "text": [
      "Training until validation scores don't improve for 20 rounds\n",
      "Early stopping, best iteration is:\n",
      "[876]\ttrain's l1: 82353.9\ttest's l1: 165787\n"
     ]
    },
    {
     "name": "stderr",
     "output_type": "stream",
     "text": [
      "[I 2024-06-03 19:13:03,734] Trial 1 finished with value: 165786.84173511484 and parameters: {'num_leaves': 678, 'learning_rate': 0.022427619290932142, 'feature_fraction': 0.8052502174042163, 'bagging_fraction': 0.7685018507132382, 'bagging_freq': 7, 'reg_alpha': 2.4319002687801405, 'reg_lambda': 8.825183110561435}. Best is trial 0 with value: 165469.6113809834.\n"
     ]
    },
    {
     "name": "stdout",
     "output_type": "stream",
     "text": [
      "Training until validation scores don't improve for 20 rounds\n",
      "Early stopping, best iteration is:\n",
      "[771]\ttrain's l1: 85494.9\ttest's l1: 166999\n"
     ]
    },
    {
     "name": "stderr",
     "output_type": "stream",
     "text": [
      "[I 2024-06-03 19:14:12,663] Trial 2 finished with value: 166999.22950796512 and parameters: {'num_leaves': 926, 'learning_rate': 0.016543002954527777, 'feature_fraction': 0.8291749626377652, 'bagging_fraction': 0.6592863616861043, 'bagging_freq': 14, 'reg_alpha': 17.081085040148526, 'reg_lambda': 0.8113785705129906}. Best is trial 0 with value: 165469.6113809834.\n"
     ]
    },
    {
     "name": "stdout",
     "output_type": "stream",
     "text": [
      "Training until validation scores don't improve for 20 rounds\n",
      "Early stopping, best iteration is:\n",
      "[549]\ttrain's l1: 87030.6\ttest's l1: 166410\n"
     ]
    },
    {
     "name": "stderr",
     "output_type": "stream",
     "text": [
      "[I 2024-06-03 19:14:55,957] Trial 3 finished with value: 166409.78992181172 and parameters: {'num_leaves': 895, 'learning_rate': 0.029016017321241462, 'feature_fraction': 0.573700055808833, 'bagging_fraction': 0.6134630345054762, 'bagging_freq': 7, 'reg_alpha': 52.63289995797839, 'reg_lambda': 6.22569341955726}. Best is trial 0 with value: 165469.6113809834.\n"
     ]
    },
    {
     "name": "stdout",
     "output_type": "stream",
     "text": [
      "Training until validation scores don't improve for 20 rounds\n",
      "Early stopping, best iteration is:\n",
      "[1264]\ttrain's l1: 91597.2\ttest's l1: 166580\n"
     ]
    },
    {
     "name": "stderr",
     "output_type": "stream",
     "text": [
      "[I 2024-06-03 19:16:21,690] Trial 4 finished with value: 166579.50344371382 and parameters: {'num_leaves': 831, 'learning_rate': 0.011551032214898886, 'feature_fraction': 0.5323921980717335, 'bagging_fraction': 0.5219530980518952, 'bagging_freq': 8, 'reg_alpha': 87.99119350501132, 'reg_lambda': 1.857223707428386}. Best is trial 0 with value: 165469.6113809834.\n"
     ]
    },
    {
     "name": "stdout",
     "output_type": "stream",
     "text": [
      "Training until validation scores don't improve for 20 rounds\n",
      "Early stopping, best iteration is:\n",
      "[715]\ttrain's l1: 98912.9\ttest's l1: 168123\n"
     ]
    },
    {
     "name": "stderr",
     "output_type": "stream",
     "text": [
      "[I 2024-06-03 19:17:22,872] Trial 5 finished with value: 168123.48099454193 and parameters: {'num_leaves': 649, 'learning_rate': 0.02324253284179216, 'feature_fraction': 0.7928944204979912, 'bagging_fraction': 0.5489953297334138, 'bagging_freq': 13, 'reg_alpha': 73.75523565981752, 'reg_lambda': 8.714669027734764}. Best is trial 0 with value: 165469.6113809834.\n"
     ]
    },
    {
     "name": "stdout",
     "output_type": "stream",
     "text": [
      "Training until validation scores don't improve for 20 rounds\n",
      "Did not meet early stopping. Best iteration is:\n",
      "[1499]\ttrain's l1: 82523.6\ttest's l1: 166494\n"
     ]
    },
    {
     "name": "stderr",
     "output_type": "stream",
     "text": [
      "[I 2024-06-03 19:19:09,111] Trial 6 finished with value: 166494.22583776878 and parameters: {'num_leaves': 566, 'learning_rate': 0.013642545872799994, 'feature_fraction': 0.8981350267372312, 'bagging_fraction': 0.7908966416002903, 'bagging_freq': 13, 'reg_alpha': 73.70169131192516, 'reg_lambda': 3.3662605460689656}. Best is trial 0 with value: 165469.6113809834.\n"
     ]
    },
    {
     "name": "stdout",
     "output_type": "stream",
     "text": [
      "Training until validation scores don't improve for 20 rounds\n",
      "Early stopping, best iteration is:\n",
      "[676]\ttrain's l1: 78040.6\ttest's l1: 166300\n"
     ]
    },
    {
     "name": "stderr",
     "output_type": "stream",
     "text": [
      "[I 2024-06-03 19:19:59,183] Trial 7 finished with value: 166299.78747381002 and parameters: {'num_leaves': 786, 'learning_rate': 0.026906522616271786, 'feature_fraction': 0.714696360057161, 'bagging_fraction': 0.8096933064598628, 'bagging_freq': 14, 'reg_alpha': 6.206252498295939, 'reg_lambda': 5.7780058525238776}. Best is trial 0 with value: 165469.6113809834.\n"
     ]
    },
    {
     "name": "stdout",
     "output_type": "stream",
     "text": [
      "Training until validation scores don't improve for 20 rounds\n",
      "Early stopping, best iteration is:\n",
      "[1475]\ttrain's l1: 86046.8\ttest's l1: 165174\n"
     ]
    },
    {
     "name": "stderr",
     "output_type": "stream",
     "text": [
      "[I 2024-06-03 19:22:29,323] Trial 8 finished with value: 165173.99983980317 and parameters: {'num_leaves': 873, 'learning_rate': 0.010558676900070719, 'feature_fraction': 0.8074681767141723, 'bagging_fraction': 0.6648255164393452, 'bagging_freq': 6, 'reg_alpha': 38.31919946123187, 'reg_lambda': 8.776614493708436}. Best is trial 8 with value: 165173.99983980317.\n"
     ]
    },
    {
     "name": "stdout",
     "output_type": "stream",
     "text": [
      "Training until validation scores don't improve for 20 rounds\n",
      "Early stopping, best iteration is:\n",
      "[1393]\ttrain's l1: 70510.3\ttest's l1: 163887\n"
     ]
    },
    {
     "name": "stderr",
     "output_type": "stream",
     "text": [
      "[I 2024-06-03 19:23:56,291] Trial 9 finished with value: 163886.54233801062 and parameters: {'num_leaves': 545, 'learning_rate': 0.02168855509952613, 'feature_fraction': 0.5190872898893777, 'bagging_fraction': 0.8982628743096552, 'bagging_freq': 11, 'reg_alpha': 38.80985157571134, 'reg_lambda': 4.950583639663283}. Best is trial 9 with value: 163886.54233801062.\n"
     ]
    },
    {
     "name": "stdout",
     "output_type": "stream",
     "text": [
      "Training until validation scores don't improve for 20 rounds\n",
      "Early stopping, best iteration is:\n",
      "[1373]\ttrain's l1: 84394.3\ttest's l1: 164501\n"
     ]
    },
    {
     "name": "stderr",
     "output_type": "stream",
     "text": [
      "[I 2024-06-03 19:24:54,601] Trial 10 finished with value: 164501.3275679517 and parameters: {'num_leaves': 440, 'learning_rate': 0.018507789779677947, 'feature_fraction': 0.6165504830449604, 'bagging_fraction': 0.8995019016066783, 'bagging_freq': 10, 'reg_alpha': 52.53247915253109, 'reg_lambda': 3.529214592882555}. Best is trial 9 with value: 163886.54233801062.\n"
     ]
    },
    {
     "name": "stdout",
     "output_type": "stream",
     "text": [
      "Training until validation scores don't improve for 20 rounds\n",
      "Did not meet early stopping. Best iteration is:\n",
      "[1500]\ttrain's l1: 83713.8\ttest's l1: 164727\n"
     ]
    },
    {
     "name": "stderr",
     "output_type": "stream",
     "text": [
      "[I 2024-06-03 19:25:52,999] Trial 11 finished with value: 164726.70086720848 and parameters: {'num_leaves': 409, 'learning_rate': 0.01847364586899384, 'feature_fraction': 0.6138588614035733, 'bagging_fraction': 0.885004106239931, 'bagging_freq': 10, 'reg_alpha': 52.33351127622579, 'reg_lambda': 3.2577073469834987}. Best is trial 9 with value: 163886.54233801062.\n"
     ]
    },
    {
     "name": "stdout",
     "output_type": "stream",
     "text": [
      "Training until validation scores don't improve for 20 rounds\n",
      "Early stopping, best iteration is:\n",
      "[1407]\ttrain's l1: 79787.6\ttest's l1: 164642\n"
     ]
    },
    {
     "name": "stderr",
     "output_type": "stream",
     "text": [
      "[I 2024-06-03 19:26:47,915] Trial 12 finished with value: 164642.1485852473 and parameters: {'num_leaves': 405, 'learning_rate': 0.02197791329383002, 'feature_fraction': 0.647863442543585, 'bagging_fraction': 0.8512207700114861, 'bagging_freq': 10, 'reg_alpha': 38.98117817427145, 'reg_lambda': 3.5278563669612524}. Best is trial 9 with value: 163886.54233801062.\n"
     ]
    },
    {
     "name": "stdout",
     "output_type": "stream",
     "text": [
      "Training until validation scores don't improve for 20 rounds\n",
      "Early stopping, best iteration is:\n",
      "[1380]\ttrain's l1: 84487.5\ttest's l1: 164505\n"
     ]
    },
    {
     "name": "stderr",
     "output_type": "stream",
     "text": [
      "[I 2024-06-03 19:27:50,663] Trial 13 finished with value: 164505.06382739224 and parameters: {'num_leaves': 542, 'learning_rate': 0.017360061392507363, 'feature_fraction': 0.5045757426681292, 'bagging_fraction': 0.7397031586208814, 'bagging_freq': 11, 'reg_alpha': 65.54195606629806, 'reg_lambda': 6.956140580524463}. Best is trial 9 with value: 163886.54233801062.\n"
     ]
    },
    {
     "name": "stdout",
     "output_type": "stream",
     "text": [
      "Training until validation scores don't improve for 20 rounds\n",
      "Early stopping, best iteration is:\n",
      "[935]\ttrain's l1: 87381.8\ttest's l1: 166234\n"
     ]
    },
    {
     "name": "stderr",
     "output_type": "stream",
     "text": [
      "[I 2024-06-03 19:28:32,993] Trial 14 finished with value: 166234.08160388758 and parameters: {'num_leaves': 462, 'learning_rate': 0.02493430515356156, 'feature_fraction': 0.6698972775428306, 'bagging_fraction': 0.8208707471962783, 'bagging_freq': 12, 'reg_alpha': 99.15449491157698, 'reg_lambda': 4.288049078172167}. Best is trial 9 with value: 163886.54233801062.\n"
     ]
    },
    {
     "name": "stdout",
     "output_type": "stream",
     "text": [
      "Training until validation scores don't improve for 20 rounds\n",
      "Early stopping, best iteration is:\n",
      "[1144]\ttrain's l1: 74720.4\ttest's l1: 164075\n"
     ]
    },
    {
     "name": "stderr",
     "output_type": "stream",
     "text": [
      "[I 2024-06-03 19:29:34,146] Trial 15 finished with value: 164074.87234211186 and parameters: {'num_leaves': 604, 'learning_rate': 0.019859384207578535, 'feature_fraction': 0.5724667089601709, 'bagging_fraction': 0.8988193550649556, 'bagging_freq': 9, 'reg_alpha': 37.609935879791315, 'reg_lambda': 1.662227972681122}. Best is trial 9 with value: 163886.54233801062.\n"
     ]
    },
    {
     "name": "stdout",
     "output_type": "stream",
     "text": [
      "Training until validation scores don't improve for 20 rounds\n",
      "Early stopping, best iteration is:\n",
      "[900]\ttrain's l1: 75928.6\ttest's l1: 165358\n"
     ]
    },
    {
     "name": "stderr",
     "output_type": "stream",
     "text": [
      "[I 2024-06-03 19:30:30,285] Trial 16 finished with value: 165357.72090359966 and parameters: {'num_leaves': 748, 'learning_rate': 0.020467083257065838, 'feature_fraction': 0.5514290766719018, 'bagging_fraction': 0.7318717357153822, 'bagging_freq': 9, 'reg_alpha': 24.61542390964673, 'reg_lambda': 0.18993472410260748}. Best is trial 9 with value: 163886.54233801062.\n"
     ]
    },
    {
     "name": "stdout",
     "output_type": "stream",
     "text": [
      "Training until validation scores don't improve for 20 rounds\n",
      "Early stopping, best iteration is:\n",
      "[1437]\ttrain's l1: 77239.6\ttest's l1: 164294\n"
     ]
    },
    {
     "name": "stderr",
     "output_type": "stream",
     "text": [
      "[I 2024-06-03 19:31:42,743] Trial 17 finished with value: 164293.77315447462 and parameters: {'num_leaves': 600, 'learning_rate': 0.015523504675329234, 'feature_fraction': 0.5004221685612836, 'bagging_fraction': 0.8449998508531557, 'bagging_freq': 5, 'reg_alpha': 37.01928820130974, 'reg_lambda': 1.8366529361676829}. Best is trial 9 with value: 163886.54233801062.\n"
     ]
    },
    {
     "name": "stdout",
     "output_type": "stream",
     "text": [
      "Training until validation scores don't improve for 20 rounds\n",
      "Early stopping, best iteration is:\n",
      "[855]\ttrain's l1: 79810.8\ttest's l1: 165563\n"
     ]
    },
    {
     "name": "stderr",
     "output_type": "stream",
     "text": [
      "[I 2024-06-03 19:32:36,252] Trial 18 finished with value: 165563.401612704 and parameters: {'num_leaves': 632, 'learning_rate': 0.025019523470835192, 'feature_fraction': 0.7264499334797635, 'bagging_fraction': 0.8463199274342068, 'bagging_freq': 8, 'reg_alpha': 17.36600437513829, 'reg_lambda': 7.280417161757665}. Best is trial 9 with value: 163886.54233801062.\n"
     ]
    },
    {
     "name": "stdout",
     "output_type": "stream",
     "text": [
      "Training until validation scores don't improve for 20 rounds\n",
      "Early stopping, best iteration is:\n",
      "[775]\ttrain's l1: 74797.7\ttest's l1: 165705\n"
     ]
    },
    {
     "name": "stderr",
     "output_type": "stream",
     "text": [
      "[I 2024-06-03 19:33:40,241] Trial 19 finished with value: 165704.72948365388 and parameters: {'num_leaves': 993, 'learning_rate': 0.020015877332611835, 'feature_fraction': 0.5883974905489898, 'bagging_fraction': 0.7543360932320458, 'bagging_freq': 12, 'reg_alpha': 61.75958455005977, 'reg_lambda': 2.1618437558884795}. Best is trial 9 with value: 163886.54233801062.\n"
     ]
    },
    {
     "name": "stdout",
     "output_type": "stream",
     "text": [
      "Training until validation scores don't improve for 20 rounds\n",
      "Early stopping, best iteration is:\n",
      "[750]\ttrain's l1: 84017.9\ttest's l1: 166071\n"
     ]
    },
    {
     "name": "stderr",
     "output_type": "stream",
     "text": [
      "[I 2024-06-03 19:34:27,263] Trial 20 finished with value: 166071.2580882628 and parameters: {'num_leaves': 722, 'learning_rate': 0.02470415225495424, 'feature_fraction': 0.5443866723375568, 'bagging_fraction': 0.6896054441433065, 'bagging_freq': 15, 'reg_alpha': 43.79464376025874, 'reg_lambda': 4.760622010696637}. Best is trial 9 with value: 163886.54233801062.\n"
     ]
    },
    {
     "name": "stdout",
     "output_type": "stream",
     "text": [
      "Training until validation scores don't improve for 20 rounds\n",
      "Did not meet early stopping. Best iteration is:\n",
      "[1497]\ttrain's l1: 76504.5\ttest's l1: 164490\n"
     ]
    },
    {
     "name": "stderr",
     "output_type": "stream",
     "text": [
      "[I 2024-06-03 19:35:41,627] Trial 21 finished with value: 164489.57943322192 and parameters: {'num_leaves': 592, 'learning_rate': 0.015258918131493887, 'feature_fraction': 0.5081319613586366, 'bagging_fraction': 0.8531355859494841, 'bagging_freq': 5, 'reg_alpha': 31.286559971697155, 'reg_lambda': 1.7846056820055634}. Best is trial 9 with value: 163886.54233801062.\n"
     ]
    },
    {
     "name": "stdout",
     "output_type": "stream",
     "text": [
      "Training until validation scores don't improve for 20 rounds\n",
      "Did not meet early stopping. Best iteration is:\n",
      "[1499]\ttrain's l1: 86386.9\ttest's l1: 164510\n"
     ]
    },
    {
     "name": "stderr",
     "output_type": "stream",
     "text": [
      "[I 2024-06-03 19:36:47,788] Trial 22 finished with value: 164509.97182103552 and parameters: {'num_leaves': 503, 'learning_rate': 0.013735253472279581, 'feature_fraction': 0.5020067863461757, 'bagging_fraction': 0.8995242599142854, 'bagging_freq': 5, 'reg_alpha': 43.54980663909078, 'reg_lambda': 0.9020614505868614}. Best is trial 9 with value: 163886.54233801062.\n"
     ]
    },
    {
     "name": "stdout",
     "output_type": "stream",
     "text": [
      "Training until validation scores don't improve for 20 rounds\n",
      "Early stopping, best iteration is:\n",
      "[1130]\ttrain's l1: 74839.1\ttest's l1: 164814\n"
     ]
    },
    {
     "name": "stderr",
     "output_type": "stream",
     "text": [
      "[I 2024-06-03 19:37:49,819] Trial 23 finished with value: 164814.3766293801 and parameters: {'num_leaves': 614, 'learning_rate': 0.020394864488879547, 'feature_fraction': 0.5766373734169665, 'bagging_fraction': 0.8466003298198493, 'bagging_freq': 9, 'reg_alpha': 19.5972759979839, 'reg_lambda': 2.6445261109700184}. Best is trial 9 with value: 163886.54233801062.\n"
     ]
    },
    {
     "name": "stdout",
     "output_type": "stream",
     "text": [
      "Training until validation scores don't improve for 20 rounds\n",
      "Did not meet early stopping. Best iteration is:\n",
      "[1490]\ttrain's l1: 90444\ttest's l1: 164862\n"
     ]
    },
    {
     "name": "stderr",
     "output_type": "stream",
     "text": [
      "[I 2024-06-03 19:39:18,792] Trial 24 finished with value: 164861.58668356453 and parameters: {'num_leaves': 492, 'learning_rate': 0.015448912826553664, 'feature_fraction': 0.5311812199721994, 'bagging_fraction': 0.8073981113888323, 'bagging_freq': 6, 'reg_alpha': 32.22134177309849, 'reg_lambda': 9.852788557365098}. Best is trial 9 with value: 163886.54233801062.\n"
     ]
    },
    {
     "name": "stdout",
     "output_type": "stream",
     "text": [
      "Training until validation scores don't improve for 20 rounds\n",
      "Early stopping, best iteration is:\n",
      "[965]\ttrain's l1: 78707.6\ttest's l1: 164740\n"
     ]
    },
    {
     "name": "stderr",
     "output_type": "stream",
     "text": [
      "[I 2024-06-03 19:40:18,634] Trial 25 finished with value: 164740.41339228142 and parameters: {'num_leaves': 673, 'learning_rate': 0.01850373597499923, 'feature_fraction': 0.6138444704395858, 'bagging_fraction': 0.8691923196122819, 'bagging_freq': 9, 'reg_alpha': 60.46551503121853, 'reg_lambda': 0.04543348223417176}. Best is trial 9 with value: 163886.54233801062.\n"
     ]
    },
    {
     "name": "stdout",
     "output_type": "stream",
     "text": [
      "Training until validation scores don't improve for 20 rounds\n",
      "Did not meet early stopping. Best iteration is:\n",
      "[1500]\ttrain's l1: 80599.6\ttest's l1: 164447\n"
     ]
    },
    {
     "name": "stderr",
     "output_type": "stream",
     "text": [
      "[I 2024-06-03 19:41:33,772] Trial 26 finished with value: 164447.04204449637 and parameters: {'num_leaves': 586, 'learning_rate': 0.013723889244122713, 'feature_fraction': 0.5573125898425855, 'bagging_fraction': 0.824507664964969, 'bagging_freq': 11, 'reg_alpha': 45.111482655328786, 'reg_lambda': 1.328031037539664}. Best is trial 9 with value: 163886.54233801062.\n"
     ]
    },
    {
     "name": "stdout",
     "output_type": "stream",
     "text": [
      "Training until validation scores don't improve for 20 rounds\n",
      "Early stopping, best iteration is:\n",
      "[967]\ttrain's l1: 83596.7\ttest's l1: 165499\n"
     ]
    },
    {
     "name": "stderr",
     "output_type": "stream",
     "text": [
      "[I 2024-06-03 19:42:25,619] Trial 27 finished with value: 165499.0250034073 and parameters: {'num_leaves': 556, 'learning_rate': 0.0214458841155328, 'feature_fraction': 0.6750849017444345, 'bagging_fraction': 0.7763072524226274, 'bagging_freq': 8, 'reg_alpha': 11.481730212329552, 'reg_lambda': 2.7071979493559337}. Best is trial 9 with value: 163886.54233801062.\n"
     ]
    },
    {
     "name": "stdout",
     "output_type": "stream",
     "text": [
      "Training until validation scores don't improve for 20 rounds\n",
      "Early stopping, best iteration is:\n",
      "[973]\ttrain's l1: 68483.4\ttest's l1: 164628\n"
     ]
    },
    {
     "name": "stderr",
     "output_type": "stream",
     "text": [
      "[I 2024-06-03 19:43:28,455] Trial 28 finished with value: 164627.65075356388 and parameters: {'num_leaves': 743, 'learning_rate': 0.023451757252742417, 'feature_fraction': 0.5987641186231034, 'bagging_fraction': 0.8681763934731802, 'bagging_freq': 6, 'reg_alpha': 33.84168118514903, 'reg_lambda': 4.258636901376613}. Best is trial 9 with value: 163886.54233801062.\n"
     ]
    },
    {
     "name": "stdout",
     "output_type": "stream",
     "text": [
      "Training until validation scores don't improve for 20 rounds\n",
      "Early stopping, best iteration is:\n",
      "[1436]\ttrain's l1: 80447.8\ttest's l1: 164298\n"
     ]
    },
    {
     "name": "stderr",
     "output_type": "stream",
     "text": [
      "[I 2024-06-03 19:44:34,683] Trial 29 finished with value: 164298.32078929798 and parameters: {'num_leaves': 527, 'learning_rate': 0.017401046920571706, 'feature_fraction': 0.5280259563474504, 'bagging_fraction': 0.8828195579053193, 'bagging_freq': 11, 'reg_alpha': 25.05824499715915, 'reg_lambda': 5.304402019530185}. Best is trial 9 with value: 163886.54233801062.\n"
     ]
    },
    {
     "name": "stdout",
     "output_type": "stream",
     "text": [
      "Training until validation scores don't improve for 20 rounds\n",
      "Early stopping, best iteration is:\n",
      "[817]\ttrain's l1: 84120\ttest's l1: 165645\n"
     ]
    },
    {
     "name": "stderr",
     "output_type": "stream",
     "text": [
      "[I 2024-06-03 19:45:24,274] Trial 30 finished with value: 165645.2819504394 and parameters: {'num_leaves': 476, 'learning_rate': 0.027474861223494684, 'feature_fraction': 0.7679344609705017, 'bagging_fraction': 0.830864767283324, 'bagging_freq': 12, 'reg_alpha': 37.64944413128471, 'reg_lambda': 0.9771265365976962}. Best is trial 9 with value: 163886.54233801062.\n"
     ]
    },
    {
     "name": "stdout",
     "output_type": "stream",
     "text": [
      "Training until validation scores don't improve for 20 rounds\n",
      "Early stopping, best iteration is:\n",
      "[1177]\ttrain's l1: 87983.4\ttest's l1: 164906\n"
     ]
    },
    {
     "name": "stderr",
     "output_type": "stream",
     "text": [
      "[I 2024-06-03 19:46:20,751] Trial 31 finished with value: 164905.71173271388 and parameters: {'num_leaves': 541, 'learning_rate': 0.01740680478459345, 'feature_fraction': 0.5275775975049677, 'bagging_fraction': 0.8785306508840348, 'bagging_freq': 11, 'reg_alpha': 26.571973710421197, 'reg_lambda': 5.550194550902916}. Best is trial 9 with value: 163886.54233801062.\n"
     ]
    },
    {
     "name": "stdout",
     "output_type": "stream",
     "text": [
      "Training until validation scores don't improve for 20 rounds\n",
      "Early stopping, best iteration is:\n",
      "[1451]\ttrain's l1: 75958.1\ttest's l1: 164266\n"
     ]
    },
    {
     "name": "stderr",
     "output_type": "stream",
     "text": [
      "[I 2024-06-03 19:47:29,833] Trial 32 finished with value: 164266.09319084545 and parameters: {'num_leaves': 529, 'learning_rate': 0.019281602978434332, 'feature_fraction': 0.562617660545401, 'bagging_fraction': 0.8752622910201371, 'bagging_freq': 12, 'reg_alpha': 23.211150825011472, 'reg_lambda': 6.821269841227924}. Best is trial 9 with value: 163886.54233801062.\n"
     ]
    },
    {
     "name": "stdout",
     "output_type": "stream",
     "text": [
      "Training until validation scores don't improve for 20 rounds\n",
      "Early stopping, best iteration is:\n",
      "[1214]\ttrain's l1: 78503.1\ttest's l1: 164541\n"
     ]
    },
    {
     "name": "stderr",
     "output_type": "stream",
     "text": [
      "[I 2024-06-03 19:48:34,678] Trial 33 finished with value: 164541.45796475685 and parameters: {'num_leaves': 613, 'learning_rate': 0.01917570895786963, 'feature_fraction': 0.5603352623722094, 'bagging_fraction': 0.8633484392272572, 'bagging_freq': 13, 'reg_alpha': 22.16758695599025, 'reg_lambda': 7.388029827496969}. Best is trial 9 with value: 163886.54233801062.\n"
     ]
    },
    {
     "name": "stdout",
     "output_type": "stream",
     "text": [
      "Training until validation scores don't improve for 20 rounds\n",
      "Early stopping, best iteration is:\n",
      "[998]\ttrain's l1: 97076.2\ttest's l1: 166031\n"
     ]
    },
    {
     "name": "stderr",
     "output_type": "stream",
     "text": [
      "[I 2024-06-03 19:49:33,028] Trial 34 finished with value: 166030.6595304106 and parameters: {'num_leaves': 693, 'learning_rate': 0.015775775826679637, 'feature_fraction': 0.633205067360199, 'bagging_fraction': 0.5988590074935676, 'bagging_freq': 12, 'reg_alpha': 8.659571974918329, 'reg_lambda': 8.139264098122338}. Best is trial 9 with value: 163886.54233801062.\n"
     ]
    },
    {
     "name": "stdout",
     "output_type": "stream",
     "text": [
      "Training until validation scores don't improve for 20 rounds\n",
      "Early stopping, best iteration is:\n",
      "[1215]\ttrain's l1: 70155\ttest's l1: 164617\n"
     ]
    },
    {
     "name": "stderr",
     "output_type": "stream",
     "text": [
      "[I 2024-06-03 19:50:42,182] Trial 35 finished with value: 164617.28235770745 and parameters: {'num_leaves': 653, 'learning_rate': 0.021170020477643527, 'feature_fraction': 0.5754378327883664, 'bagging_fraction': 0.8997618162529215, 'bagging_freq': 7, 'reg_alpha': 13.42331819062491, 'reg_lambda': 6.316515642119549}. Best is trial 9 with value: 163886.54233801062.\n"
     ]
    },
    {
     "name": "stdout",
     "output_type": "stream",
     "text": [
      "Training until validation scores don't improve for 20 rounds\n",
      "Early stopping, best iteration is:\n",
      "[1024]\ttrain's l1: 82078.6\ttest's l1: 165001\n"
     ]
    },
    {
     "name": "stderr",
     "output_type": "stream",
     "text": [
      "[I 2024-06-03 19:51:32,690] Trial 36 finished with value: 165001.26844383878 and parameters: {'num_leaves': 578, 'learning_rate': 0.022640263735482204, 'feature_fraction': 0.5216543894382434, 'bagging_fraction': 0.7885273935881669, 'bagging_freq': 14, 'reg_alpha': 48.44588982242276, 'reg_lambda': 6.239366968439154}. Best is trial 9 with value: 163886.54233801062.\n"
     ]
    },
    {
     "name": "stdout",
     "output_type": "stream",
     "text": [
      "Training until validation scores don't improve for 20 rounds\n",
      "Early stopping, best iteration is:\n",
      "[1393]\ttrain's l1: 77990.5\ttest's l1: 164731\n"
     ]
    },
    {
     "name": "stderr",
     "output_type": "stream",
     "text": [
      "[I 2024-06-03 19:52:36,970] Trial 37 finished with value: 164730.68344383885 and parameters: {'num_leaves': 512, 'learning_rate': 0.019338818922353656, 'feature_fraction': 0.552860555351819, 'bagging_fraction': 0.8263298316662742, 'bagging_freq': 13, 'reg_alpha': 29.59376785376647, 'reg_lambda': 4.753403818619675}. Best is trial 9 with value: 163886.54233801062.\n"
     ]
    },
    {
     "name": "stdout",
     "output_type": "stream",
     "text": [
      "Training until validation scores don't improve for 20 rounds\n",
      "Early stopping, best iteration is:\n",
      "[1145]\ttrain's l1: 85811.4\ttest's l1: 165138\n"
     ]
    },
    {
     "name": "stderr",
     "output_type": "stream",
     "text": [
      "[I 2024-06-03 19:53:42,628] Trial 38 finished with value: 165138.43831034598 and parameters: {'num_leaves': 612, 'learning_rate': 0.016463894281075857, 'feature_fraction': 0.5725964594405413, 'bagging_fraction': 0.7159995137920079, 'bagging_freq': 9, 'reg_alpha': 35.60703938795976, 'reg_lambda': 2.697358629110236}. Best is trial 9 with value: 163886.54233801062.\n"
     ]
    },
    {
     "name": "stdout",
     "output_type": "stream",
     "text": [
      "Training until validation scores don't improve for 20 rounds\n",
      "Early stopping, best iteration is:\n",
      "[780]\ttrain's l1: 74574.2\ttest's l1: 166371\n"
     ]
    },
    {
     "name": "stderr",
     "output_type": "stream",
     "text": [
      "[I 2024-06-03 19:54:51,760] Trial 39 finished with value: 166370.56974377434 and parameters: {'num_leaves': 660, 'learning_rate': 0.02952785648769872, 'feature_fraction': 0.8567752608944771, 'bagging_fraction': 0.8009409900583385, 'bagging_freq': 15, 'reg_alpha': 3.217595241537367, 'reg_lambda': 6.647764861992716}. Best is trial 9 with value: 163886.54233801062.\n"
     ]
    },
    {
     "name": "stdout",
     "output_type": "stream",
     "text": [
      "Training until validation scores don't improve for 20 rounds\n",
      "Did not meet early stopping. Best iteration is:\n",
      "[1500]\ttrain's l1: 90658.3\ttest's l1: 164632\n"
     ]
    },
    {
     "name": "stderr",
     "output_type": "stream",
     "text": [
      "[I 2024-06-03 20:11:34,168] Trial 40 finished with value: 164631.78061844414 and parameters: {'num_leaves': 561, 'learning_rate': 0.012779853060533763, 'feature_fraction': 0.5934686323490891, 'bagging_fraction': 0.8389757361675488, 'bagging_freq': 7, 'reg_alpha': 57.55158840903175, 'reg_lambda': 7.9775327099094335}. Best is trial 9 with value: 163886.54233801062.\n"
     ]
    },
    {
     "name": "stdout",
     "output_type": "stream",
     "text": [
      "Training until validation scores don't improve for 20 rounds\n",
      "Did not meet early stopping. Best iteration is:\n",
      "[1500]\ttrain's l1: 79881.8\ttest's l1: 164571\n"
     ]
    },
    {
     "name": "stderr",
     "output_type": "stream",
     "text": [
      "[I 2024-06-03 20:12:39,133] Trial 41 finished with value: 164570.65284870504 and parameters: {'num_leaves': 530, 'learning_rate': 0.016899155502966584, 'feature_fraction': 0.5206314408008842, 'bagging_fraction': 0.880544897974908, 'bagging_freq': 11, 'reg_alpha': 25.702515436232247, 'reg_lambda': 5.594044523390572}. Best is trial 9 with value: 163886.54233801062.\n"
     ]
    },
    {
     "name": "stdout",
     "output_type": "stream",
     "text": [
      "Training until validation scores don't improve for 20 rounds\n",
      "Did not meet early stopping. Best iteration is:\n",
      "[1500]\ttrain's l1: 90256.5\ttest's l1: 164628\n"
     ]
    },
    {
     "name": "stderr",
     "output_type": "stream",
     "text": [
      "[I 2024-06-03 20:13:37,998] Trial 42 finished with value: 164627.63897109212 and parameters: {'num_leaves': 459, 'learning_rate': 0.01465639990477318, 'feature_fraction': 0.5363074577531862, 'bagging_fraction': 0.8778871481483662, 'bagging_freq': 11, 'reg_alpha': 40.82620330101153, 'reg_lambda': 4.178540244531241}. Best is trial 9 with value: 163886.54233801062.\n"
     ]
    },
    {
     "name": "stdout",
     "output_type": "stream",
     "text": [
      "Training until validation scores don't improve for 20 rounds\n",
      "Early stopping, best iteration is:\n",
      "[1302]\ttrain's l1: 83409.6\ttest's l1: 164693\n"
     ]
    },
    {
     "name": "stderr",
     "output_type": "stream",
     "text": [
      "[I 2024-06-03 20:14:39,741] Trial 43 finished with value: 164692.95439026644 and parameters: {'num_leaves': 525, 'learning_rate': 0.017824748811589578, 'feature_fraction': 0.5185092249609332, 'bagging_fraction': 0.8984479274445638, 'bagging_freq': 10, 'reg_alpha': 14.585352335437669, 'reg_lambda': 5.134779632432179}. Best is trial 9 with value: 163886.54233801062.\n"
     ]
    },
    {
     "name": "stdout",
     "output_type": "stream",
     "text": [
      "Training until validation scores don't improve for 20 rounds\n",
      "Did not meet early stopping. Best iteration is:\n",
      "[1488]\ttrain's l1: 74110.4\ttest's l1: 164275\n"
     ]
    },
    {
     "name": "stderr",
     "output_type": "stream",
     "text": [
      "[I 2024-06-03 20:15:50,599] Trial 44 finished with value: 164274.67543932045 and parameters: {'num_leaves': 582, 'learning_rate': 0.01628847804993152, 'feature_fraction': 0.5415964413532885, 'bagging_fraction': 0.8728872063371632, 'bagging_freq': 10, 'reg_alpha': 21.044323603626545, 'reg_lambda': 1.816758404345571}. Best is trial 9 with value: 163886.54233801062.\n"
     ]
    },
    {
     "name": "stdout",
     "output_type": "stream",
     "text": [
      "Training until validation scores don't improve for 20 rounds\n",
      "Did not meet early stopping. Best iteration is:\n",
      "[1500]\ttrain's l1: 84093.7\ttest's l1: 164566\n"
     ]
    },
    {
     "name": "stderr",
     "output_type": "stream",
     "text": [
      "[I 2024-06-03 20:17:06,742] Trial 45 finished with value: 164565.54659738843 and parameters: {'num_leaves': 638, 'learning_rate': 0.01185523940141731, 'feature_fraction': 0.5032796806755863, 'bagging_fraction': 0.8586412235786286, 'bagging_freq': 10, 'reg_alpha': 19.835101717146593, 'reg_lambda': 1.6185654919944503}. Best is trial 9 with value: 163886.54233801062.\n"
     ]
    },
    {
     "name": "stdout",
     "output_type": "stream",
     "text": [
      "Training until validation scores don't improve for 20 rounds\n",
      "Early stopping, best iteration is:\n",
      "[939]\ttrain's l1: 92367.4\ttest's l1: 167071\n"
     ]
    },
    {
     "name": "stderr",
     "output_type": "stream",
     "text": [
      "[I 2024-06-03 20:17:46,593] Trial 46 finished with value: 167071.39270705942 and parameters: {'num_leaves': 431, 'learning_rate': 0.023623019092086472, 'feature_fraction': 0.6407979084895044, 'bagging_fraction': 0.6223451235111445, 'bagging_freq': 12, 'reg_alpha': 49.1128184283141, 'reg_lambda': 0.48997689515862497}. Best is trial 9 with value: 163886.54233801062.\n"
     ]
    },
    {
     "name": "stdout",
     "output_type": "stream",
     "text": [
      "Training until validation scores don't improve for 20 rounds\n",
      "Early stopping, best iteration is:\n",
      "[1392]\ttrain's l1: 76502.3\ttest's l1: 164729\n"
     ]
    },
    {
     "name": "stderr",
     "output_type": "stream",
     "text": [
      "[I 2024-06-03 20:19:00,495] Trial 47 finished with value: 164729.33793896128 and parameters: {'num_leaves': 593, 'learning_rate': 0.016241841901858803, 'feature_fraction': 0.5695567348316711, 'bagging_fraction': 0.862903469810294, 'bagging_freq': 13, 'reg_alpha': 28.677836034015083, 'reg_lambda': 2.180592466040847}. Best is trial 9 with value: 163886.54233801062.\n"
     ]
    },
    {
     "name": "stdout",
     "output_type": "stream",
     "text": [
      "Training until validation scores don't improve for 20 rounds\n",
      "Early stopping, best iteration is:\n",
      "[1073]\ttrain's l1: 83867.7\ttest's l1: 164728\n"
     ]
    },
    {
     "name": "stderr",
     "output_type": "stream",
     "text": [
      "[I 2024-06-03 20:19:51,057] Trial 48 finished with value: 164727.833986767 and parameters: {'num_leaves': 483, 'learning_rate': 0.021295016829154072, 'feature_fraction': 0.6033304378736599, 'bagging_fraction': 0.8388369293451248, 'bagging_freq': 10, 'reg_alpha': 34.739013609215554, 'reg_lambda': 1.4049847799145443}. Best is trial 9 with value: 163886.54233801062.\n"
     ]
    },
    {
     "name": "stdout",
     "output_type": "stream",
     "text": [
      "Training until validation scores don't improve for 20 rounds\n",
      "Early stopping, best iteration is:\n",
      "[772]\ttrain's l1: 97130.3\ttest's l1: 166967\n"
     ]
    },
    {
     "name": "stderr",
     "output_type": "stream",
     "text": [
      "[I 2024-06-03 20:20:35,071] Trial 49 finished with value: 166967.01082192134 and parameters: {'num_leaves': 708, 'learning_rate': 0.019408612753992034, 'feature_fraction': 0.5423251079771136, 'bagging_fraction': 0.550701347646723, 'bagging_freq': 14, 'reg_alpha': 40.189801625115365, 'reg_lambda': 3.153864993365255}. Best is trial 9 with value: 163886.54233801062.\n"
     ]
    },
    {
     "name": "stdout",
     "output_type": "stream",
     "text": [
      "Best score: 163886.54234\n",
      "Best params: {'num_leaves': 545, 'learning_rate': 0.02168855509952613, 'feature_fraction': 0.5190872898893777, 'bagging_fraction': 0.8982628743096552, 'bagging_freq': 11, 'reg_alpha': 38.80985157571134, 'reg_lambda': 4.950583639663283}\n"
     ]
    }
   ],
   "source": [
    "X = train_data.drop(['价格','平米价格','log平米价格'], axis=1)  \n",
    "y = train_data['价格']  \n",
    "X_train, X_test, y_train, y_test = train_test_split(X, y, test_size=0.2, random_state=111)  \n",
    "\n",
    "def objective(trial):  \n",
    "    params = {  \n",
    "        'boosting_type': 'gbdt',  \n",
    "        'objective': 'regression',  \n",
    "        'metric': 'mae',  \n",
    "        'num_leaves': trial.suggest_int('num_leaves', 400, 1000),  \n",
    "        'learning_rate': trial.suggest_uniform('learning_rate', 0.01, 0.03), \n",
    "        'feature_fraction': trial.suggest_uniform('feature_fraction', 0.5, 0.9),  \n",
    "        'bagging_fraction': trial.suggest_uniform('bagging_fraction', 0.5, 0.9), \n",
    "        'bagging_freq': trial.suggest_int('bagging_freq', 5, 15),  \n",
    "        'verbose': -1, \n",
    "        'reg_alpha': trial.suggest_uniform('reg_alpha', 0.0, 100.0),\n",
    "        'reg_lambda': trial.suggest_uniform('reg_lambda', 0.0, 10.0) \n",
    "    }  \n",
    "       \n",
    "    lgb_train = lgb.Dataset(X_train, y_train)  \n",
    "    \n",
    "    gbm = lgb.train(params,    \n",
    "                 lgb_train,    \n",
    "                 num_boost_round=1500,  \n",
    "                 valid_sets=[lgb_train, lgb.Dataset(X_test, y_test)],  \n",
    "                 valid_names=['train', 'test'],    \n",
    "                 callbacks=[lgb.early_stopping(stopping_rounds=20)],  \n",
    "                 )  \n",
    "       \n",
    "    y_pred = gbm.predict(X_test, num_iteration=gbm.best_iteration)  \n",
    "    mae = mean_absolute_error(y_test, y_pred)\n",
    "    return mae\n",
    "\n",
    "study = optuna.create_study(direction='minimize')   \n",
    "study.optimize(objective, n_trials=50)  \n",
    "\n",
    "print(f'Best score: {study.best_value:.5f}')  \n",
    "print(f'Best params: {study.best_params}')"
   ]
  },
  {
   "cell_type": "markdown",
   "id": "3cd136fb-b703-4b16-a87a-542027f936ec",
   "metadata": {},
   "source": [
    "##### The best set of hyperparameters:"
   ]
  },
  {
   "cell_type": "code",
   "execution_count": null,
   "id": "4db44a4d-5dd6-4c4c-a153-a890595526e4",
   "metadata": {
    "tags": []
   },
   "outputs": [
    {
     "name": "stdout",
     "output_type": "stream",
     "text": [
      "Training until validation scores don't improve for 20 rounds\n",
      "Early stopping, best iteration is:\n",
      "[1393]\ttrain's l1: 70510.3\ttest's l1: 163887\n"
     ]
    }
   ],
   "source": [
    "X = train_data.drop(['价格','平米价格','log平米价格'], axis=1)\n",
    "y = train_data['价格']   \n",
    "X_train, X_test, y_train, y_test = train_test_split(X, y, test_size=0.2, random_state=111)  \n",
    "best_params = {\n",
    "    'num_leaves': 545,\n",
    "    'learning_rate': 0.02168855509952613,\n",
    "    'feature_fraction': 0.5190872898893777,\n",
    "    'bagging_fraction':  0.8982628743096552,\n",
    "    'bagging_freq': 11,\n",
    "    'reg_alpha': 38.80985157571134, \n",
    "    'reg_lambda': 4.950583639663283,\n",
    "    'objective': 'regression',  \n",
    "    'metric': 'mae',  \n",
    "    'verbose': -1  \n",
    "}\n",
    "\n",
    "lgb_train = lgb.Dataset(X_train, y_train)\n",
    "lgb_eval = lgb.Dataset(X_test, y_test, reference=lgb_train)\n",
    "\n",
    "gbm1 = lgb.train(best_params,\n",
    "                lgb_train,\n",
    "                num_boost_round=2500,  \n",
    "                valid_sets=[lgb_train, lgb_eval],\n",
    "                valid_names=['train', 'test'],\n",
    "                callbacks=[lgb.early_stopping(stopping_rounds=20)] \n",
    "                )"
   ]
  },
  {
   "cell_type": "markdown",
   "id": "098d6227-438d-48ad-be1a-7970682ac9fd",
   "metadata": {},
   "source": [
    "#### 4.4 CatBoost\n",
    "##### Same as XGB and LGB"
   ]
  },
  {
   "cell_type": "code",
   "execution_count": null,
   "id": "14d8074a-8fe6-49c8-884d-db6f86157b94",
   "metadata": {
    "tags": []
   },
   "outputs": [
    {
     "name": "stderr",
     "output_type": "stream",
     "text": [
      "[I 2024-06-03 20:43:24,911] A new study created in memory with name: no-name-7ed6f8a1-9fde-44b7-88c4-ad4252744d77\n",
      "[I 2024-06-03 20:59:59,812] Trial 0 finished with value: 165877.5021552125 and parameters: {'iterations': 2239, 'learning_rate': 0.08104982154164005, 'depth': 12, 'l2_leaf_reg': 0.038832046734689415, 'model_size_reg': 0.0076297899267269405}. Best is trial 0 with value: 165877.5021552125.\n",
      "[I 2024-06-03 21:00:55,266] Trial 1 finished with value: 175764.87247202665 and parameters: {'iterations': 1663, 'learning_rate': 0.06992288639264624, 'depth': 7, 'l2_leaf_reg': 0.046638310041608406, 'model_size_reg': 2.1274407895584937}. Best is trial 0 with value: 165877.5021552125.\n",
      "[I 2024-06-03 21:02:08,612] Trial 2 finished with value: 172576.02603448255 and parameters: {'iterations': 2763, 'learning_rate': 0.28130121297518346, 'depth': 6, 'l2_leaf_reg': 0.10199112931862049, 'model_size_reg': 0.24326159603668335}. Best is trial 0 with value: 165877.5021552125.\n",
      "[I 2024-06-03 21:09:40,475] Trial 3 finished with value: 183451.8791245135 and parameters: {'iterations': 2837, 'learning_rate': 0.37421446408094544, 'depth': 10, 'l2_leaf_reg': 0.3522917660677931, 'model_size_reg': 0.1546135043746362}. Best is trial 0 with value: 165877.5021552125.\n",
      "[I 2024-06-03 21:24:33,248] Trial 4 finished with value: 175046.92738348726 and parameters: {'iterations': 1919, 'learning_rate': 0.26695442374504325, 'depth': 12, 'l2_leaf_reg': 7.415648213490674, 'model_size_reg': 0.0010092279006938293}. Best is trial 0 with value: 165877.5021552125.\n",
      "[I 2024-06-03 21:25:22,353] Trial 5 finished with value: 172142.63143325117 and parameters: {'iterations': 1786, 'learning_rate': 0.15060016428021003, 'depth': 6, 'l2_leaf_reg': 0.1304975679375771, 'model_size_reg': 0.9587791057499595}. Best is trial 0 with value: 165877.5021552125.\n",
      "[I 2024-06-03 21:27:27,059] Trial 6 finished with value: 180056.4230124692 and parameters: {'iterations': 2469, 'learning_rate': 0.37780695708981626, 'depth': 8, 'l2_leaf_reg': 0.0029259851184933864, 'model_size_reg': 1.3110999477183978}. Best is trial 0 with value: 165877.5021552125.\n",
      "[I 2024-06-03 21:47:13,046] Trial 7 finished with value: 189643.46277173085 and parameters: {'iterations': 2700, 'learning_rate': 0.3992617328586194, 'depth': 12, 'l2_leaf_reg': 0.14635212950232726, 'model_size_reg': 0.005728364997196444}. Best is trial 0 with value: 165877.5021552125.\n",
      "[I 2024-06-03 21:54:26,713] Trial 8 finished with value: 180459.0762063317 and parameters: {'iterations': 1864, 'learning_rate': 0.3447741263799346, 'depth': 11, 'l2_leaf_reg': 4.255419514779726, 'model_size_reg': 0.01916192290477407}. Best is trial 0 with value: 165877.5021552125.\n",
      "[I 2024-06-03 21:56:02,218] Trial 9 finished with value: 175065.31998405335 and parameters: {'iterations': 2246, 'learning_rate': 0.3346138484661591, 'depth': 8, 'l2_leaf_reg': 1.4099126754855986, 'model_size_reg': 5.361666394634685}. Best is trial 0 with value: 165877.5021552125.\n",
      "[I 2024-06-03 23:46:10,331] Trial 10 finished with value: 168566.09615244117 and parameters: {'iterations': 2187, 'learning_rate': 0.012129884593000642, 'depth': 15, 'l2_leaf_reg': 0.009507150949716521, 'model_size_reg': 0.025226609293810327}. Best is trial 0 with value: 165877.5021552125.\n"
     ]
    }
   ],
   "source": [
    "X = train_data.drop(['价格','平米价格','log平米价格'], axis=1)  \n",
    "y = train_data['价格']  \n",
    "X_train, X_test, y_train, y_test = train_test_split(X, y, test_size=0.2, random_state=111)  \n",
    "def objective(trial):\n",
    "    params = {\n",
    "        'iterations': trial.suggest_int('iterations', 1600, 3000),\n",
    "        'learning_rate': trial.suggest_uniform('learning_rate', 0.01, 0.4 ),\n",
    "        'depth': trial.suggest_int('depth', 6, 15),\n",
    "        'l2_leaf_reg': trial.suggest_loguniform('l2_leaf_reg', 1e-3, 10),\n",
    "        'model_size_reg': trial.suggest_loguniform('model_size_reg', 1e-3, 10),         \n",
    "    }\n",
    "    \n",
    "    train_pool = cb.Pool(data=X_train, label=y_train)\n",
    "    catboost_model = cb.CatBoostRegressor(**params,  verbose=False)\n",
    "    catboost_model.fit(train_pool)\n",
    "    y_pred = catboost_model.predict(X_test)\n",
    "    mae = mean_absolute_error(y_test, y_pred)\n",
    "    return mae\n",
    "study = optuna.create_study(direction='minimize')\n",
    "study.optimize(objective, n_trials=30)\n",
    "print(f'Best MAE: {study.best_value:.2f}')\n",
    "print(f'Best params: {study.best_params}')"
   ]
  },
  {
   "cell_type": "markdown",
   "id": "af2ec1f3-ef40-44e0-a066-ec6bc56f65ad",
   "metadata": {},
   "source": [
    "#### 4.5 Neural Network\n",
    "##### 4.5.1 Ordinary ANN"
   ]
  },
  {
   "cell_type": "code",
   "execution_count": null,
   "id": "f409144a-fedd-44c3-a447-4ee8585ac54b",
   "metadata": {
    "tags": []
   },
   "outputs": [],
   "source": [
    "# standardize the data\n",
    "X = train_data.drop(['价格','平米价格','log平米价格'], axis=1)\n",
    "test_combined_reindexed = test_data.reindex(columns=X.columns, fill_value=0)\n",
    "\n",
    "scaler = StandardScaler()\n",
    "combined_data = pd.concat([X, test_combined_reindexed])\n",
    "combined_data_standardized = scaler.fit_transform(combined_data)\n",
    "combined_data_standardized_df = pd.DataFrame(combined_data_standardized, columns=combined_data.columns)\n",
    "train_size = len(X)\n",
    "train_data_standardized = combined_data_standardized_df[:train_size]\n",
    "test_data_standardized = combined_data_standardized_df[train_size:]\n"
   ]
  },
  {
   "cell_type": "code",
   "execution_count": null,
   "id": "7ad9f81b-ac4b-47ea-9a10-7937ce035f31",
   "metadata": {
    "tags": []
   },
   "outputs": [
    {
     "name": "stdout",
     "output_type": "stream",
     "text": [
      "Epoch 1/200\n",
      "\u001b[1m811/811\u001b[0m \u001b[32m━━━━━━━━━━━━━━━━━━━━\u001b[0m\u001b[37m\u001b[0m \u001b[1m4s\u001b[0m 3ms/step - loss: 1811727.8750 - mae: 1811727.8750 - val_loss: 1721515.0000 - val_mae: 1721346.8750\n",
      "Epoch 2/200\n",
      "\u001b[1m811/811\u001b[0m \u001b[32m━━━━━━━━━━━━━━━━━━━━\u001b[0m\u001b[37m\u001b[0m \u001b[1m3s\u001b[0m 3ms/step - loss: 1674508.8750 - mae: 1674510.0000 - val_loss: 1323416.1250 - val_mae: 1323242.1250\n",
      "Epoch 3/200\n",
      "\u001b[1m811/811\u001b[0m \u001b[32m━━━━━━━━━━━━━━━━━━━━\u001b[0m\u001b[37m\u001b[0m \u001b[1m3s\u001b[0m 3ms/step - loss: 1195264.8750 - mae: 1195266.0000 - val_loss: 842732.3750 - val_mae: 842482.8750\n",
      "Epoch 4/200\n",
      "\u001b[1m811/811\u001b[0m \u001b[32m━━━━━━━━━━━━━━━━━━━━\u001b[0m\u001b[37m\u001b[0m \u001b[1m3s\u001b[0m 3ms/step - loss: 784489.0625 - mae: 784487.5000 - val_loss: 531368.9375 - val_mae: 531117.0625\n",
      "Epoch 5/200\n",
      "\u001b[1m811/811\u001b[0m \u001b[32m━━━━━━━━━━━━━━━━━━━━\u001b[0m\u001b[37m\u001b[0m \u001b[1m3s\u001b[0m 3ms/step - loss: 512731.6875 - mae: 512731.7812 - val_loss: 412597.7812 - val_mae: 412312.1250\n",
      "Epoch 6/200\n",
      "\u001b[1m811/811\u001b[0m \u001b[32m━━━━━━━━━━━━━━━━━━━━\u001b[0m\u001b[37m\u001b[0m \u001b[1m3s\u001b[0m 3ms/step - loss: 409057.9375 - mae: 409058.5312 - val_loss: 353555.2812 - val_mae: 353242.2812\n",
      "Epoch 7/200\n",
      "\u001b[1m811/811\u001b[0m \u001b[32m━━━━━━━━━━━━━━━━━━━━\u001b[0m\u001b[37m\u001b[0m \u001b[1m3s\u001b[0m 3ms/step - loss: 358674.6250 - mae: 358675.1562 - val_loss: 318337.1875 - val_mae: 318050.4062\n",
      "Epoch 8/200\n",
      "\u001b[1m811/811\u001b[0m \u001b[32m━━━━━━━━━━━━━━━━━━━━\u001b[0m\u001b[37m\u001b[0m \u001b[1m3s\u001b[0m 3ms/step - loss: 319275.4062 - mae: 319275.3125 - val_loss: 298556.7188 - val_mae: 298312.3125\n",
      "Epoch 9/200\n",
      "\u001b[1m811/811\u001b[0m \u001b[32m━━━━━━━━━━━━━━━━━━━━\u001b[0m\u001b[37m\u001b[0m \u001b[1m2s\u001b[0m 3ms/step - loss: 295452.8750 - mae: 295453.1562 - val_loss: 280537.8125 - val_mae: 280325.2188\n",
      "Epoch 10/200\n",
      "\u001b[1m811/811\u001b[0m \u001b[32m━━━━━━━━━━━━━━━━━━━━\u001b[0m\u001b[37m\u001b[0m \u001b[1m2s\u001b[0m 3ms/step - loss: 274600.4375 - mae: 274600.8125 - val_loss: 273555.9062 - val_mae: 273328.0625\n",
      "Epoch 11/200\n",
      "\u001b[1m811/811\u001b[0m \u001b[32m━━━━━━━━━━━━━━━━━━━━\u001b[0m\u001b[37m\u001b[0m \u001b[1m3s\u001b[0m 3ms/step - loss: 264611.0625 - mae: 264611.6250 - val_loss: 265483.0312 - val_mae: 265315.7500\n",
      "Epoch 12/200\n",
      "\u001b[1m811/811\u001b[0m \u001b[32m━━━━━━━━━━━━━━━━━━━━\u001b[0m\u001b[37m\u001b[0m \u001b[1m3s\u001b[0m 3ms/step - loss: 254706.3750 - mae: 254706.3281 - val_loss: 260428.5000 - val_mae: 260267.9688\n",
      "Epoch 13/200\n",
      "\u001b[1m811/811\u001b[0m \u001b[32m━━━━━━━━━━━━━━━━━━━━\u001b[0m\u001b[37m\u001b[0m \u001b[1m2s\u001b[0m 3ms/step - loss: 249891.2812 - mae: 249891.3906 - val_loss: 250294.3906 - val_mae: 250102.5625\n",
      "Epoch 14/200\n",
      "\u001b[1m811/811\u001b[0m \u001b[32m━━━━━━━━━━━━━━━━━━━━\u001b[0m\u001b[37m\u001b[0m \u001b[1m3s\u001b[0m 3ms/step - loss: 243767.6094 - mae: 243767.5625 - val_loss: 245362.3438 - val_mae: 245245.6250\n",
      "Epoch 15/200\n",
      "\u001b[1m811/811\u001b[0m \u001b[32m━━━━━━━━━━━━━━━━━━━━\u001b[0m\u001b[37m\u001b[0m \u001b[1m3s\u001b[0m 3ms/step - loss: 236031.5625 - mae: 236031.7812 - val_loss: 240738.6562 - val_mae: 240621.9844\n",
      "Epoch 16/200\n",
      "\u001b[1m811/811\u001b[0m \u001b[32m━━━━━━━━━━━━━━━━━━━━\u001b[0m\u001b[37m\u001b[0m \u001b[1m3s\u001b[0m 3ms/step - loss: 230686.8594 - mae: 230686.4688 - val_loss: 237159.5312 - val_mae: 237007.8281\n",
      "Epoch 17/200\n",
      "\u001b[1m811/811\u001b[0m \u001b[32m━━━━━━━━━━━━━━━━━━━━\u001b[0m\u001b[37m\u001b[0m \u001b[1m3s\u001b[0m 3ms/step - loss: 226971.2656 - mae: 226971.5000 - val_loss: 234764.7656 - val_mae: 234648.2656\n",
      "Epoch 18/200\n",
      "\u001b[1m811/811\u001b[0m \u001b[32m━━━━━━━━━━━━━━━━━━━━\u001b[0m\u001b[37m\u001b[0m \u001b[1m3s\u001b[0m 3ms/step - loss: 221696.5781 - mae: 221696.2812 - val_loss: 232437.5625 - val_mae: 232369.0000\n",
      "Epoch 19/200\n",
      "\u001b[1m811/811\u001b[0m \u001b[32m━━━━━━━━━━━━━━━━━━━━\u001b[0m\u001b[37m\u001b[0m \u001b[1m3s\u001b[0m 3ms/step - loss: 217854.4062 - mae: 217854.7500 - val_loss: 232210.6250 - val_mae: 232092.8594\n",
      "Epoch 20/200\n",
      "\u001b[1m811/811\u001b[0m \u001b[32m━━━━━━━━━━━━━━━━━━━━\u001b[0m\u001b[37m\u001b[0m \u001b[1m3s\u001b[0m 3ms/step - loss: 213512.8438 - mae: 213512.8125 - val_loss: 232946.1094 - val_mae: 232786.5312\n",
      "Epoch 21/200\n",
      "\u001b[1m811/811\u001b[0m \u001b[32m━━━━━━━━━━━━━━━━━━━━\u001b[0m\u001b[37m\u001b[0m \u001b[1m3s\u001b[0m 3ms/step - loss: 212831.1562 - mae: 212831.4062 - val_loss: 231032.9062 - val_mae: 230934.7500\n",
      "Epoch 22/200\n",
      "\u001b[1m811/811\u001b[0m \u001b[32m━━━━━━━━━━━━━━━━━━━━\u001b[0m\u001b[37m\u001b[0m \u001b[1m3s\u001b[0m 3ms/step - loss: 207152.6094 - mae: 207152.5469 - val_loss: 226084.3750 - val_mae: 225942.3281\n",
      "Epoch 23/200\n",
      "\u001b[1m811/811\u001b[0m \u001b[32m━━━━━━━━━━━━━━━━━━━━\u001b[0m\u001b[37m\u001b[0m \u001b[1m3s\u001b[0m 3ms/step - loss: 202181.4688 - mae: 202179.5625 - val_loss: 226779.5000 - val_mae: 226688.8906\n",
      "Epoch 24/200\n",
      "\u001b[1m811/811\u001b[0m \u001b[32m━━━━━━━━━━━━━━━━━━━━\u001b[0m\u001b[37m\u001b[0m \u001b[1m3s\u001b[0m 3ms/step - loss: 205588.0469 - mae: 205588.0938 - val_loss: 229007.9062 - val_mae: 228868.4844\n",
      "Epoch 25/200\n",
      "\u001b[1m811/811\u001b[0m \u001b[32m━━━━━━━━━━━━━━━━━━━━\u001b[0m\u001b[37m\u001b[0m \u001b[1m3s\u001b[0m 3ms/step - loss: 200655.0312 - mae: 200654.9062 - val_loss: 222737.6875 - val_mae: 222619.0000\n",
      "Epoch 26/200\n",
      "\u001b[1m811/811\u001b[0m \u001b[32m━━━━━━━━━━━━━━━━━━━━\u001b[0m\u001b[37m\u001b[0m \u001b[1m3s\u001b[0m 3ms/step - loss: 203196.1094 - mae: 203196.3750 - val_loss: 225334.8906 - val_mae: 225231.5938\n",
      "Epoch 27/200\n",
      "\u001b[1m811/811\u001b[0m \u001b[32m━━━━━━━━━━━━━━━━━━━━\u001b[0m\u001b[37m\u001b[0m \u001b[1m3s\u001b[0m 3ms/step - loss: 195613.1719 - mae: 195613.0312 - val_loss: 222388.0156 - val_mae: 222301.0781\n",
      "Epoch 28/200\n",
      "\u001b[1m811/811\u001b[0m \u001b[32m━━━━━━━━━━━━━━━━━━━━\u001b[0m\u001b[37m\u001b[0m \u001b[1m3s\u001b[0m 3ms/step - loss: 192260.0312 - mae: 192259.9688 - val_loss: 219850.3594 - val_mae: 219778.9219\n",
      "Epoch 29/200\n",
      "\u001b[1m811/811\u001b[0m \u001b[32m━━━━━━━━━━━━━━━━━━━━\u001b[0m\u001b[37m\u001b[0m \u001b[1m3s\u001b[0m 3ms/step - loss: 190356.2031 - mae: 190356.2656 - val_loss: 220306.1406 - val_mae: 220153.3438\n",
      "Epoch 30/200\n",
      "\u001b[1m811/811\u001b[0m \u001b[32m━━━━━━━━━━━━━━━━━━━━\u001b[0m\u001b[37m\u001b[0m \u001b[1m3s\u001b[0m 3ms/step - loss: 189394.9688 - mae: 189395.0625 - val_loss: 219476.8594 - val_mae: 219338.7969\n",
      "Epoch 31/200\n",
      "\u001b[1m811/811\u001b[0m \u001b[32m━━━━━━━━━━━━━━━━━━━━\u001b[0m\u001b[37m\u001b[0m \u001b[1m3s\u001b[0m 3ms/step - loss: 186765.9688 - mae: 186766.0469 - val_loss: 221794.9531 - val_mae: 221637.4219\n",
      "Epoch 32/200\n",
      "\u001b[1m811/811\u001b[0m \u001b[32m━━━━━━━━━━━━━━━━━━━━\u001b[0m\u001b[37m\u001b[0m \u001b[1m3s\u001b[0m 3ms/step - loss: 192028.2344 - mae: 192028.3281 - val_loss: 217482.3438 - val_mae: 217319.7812\n",
      "Epoch 33/200\n",
      "\u001b[1m811/811\u001b[0m \u001b[32m━━━━━━━━━━━━━━━━━━━━\u001b[0m\u001b[37m\u001b[0m \u001b[1m3s\u001b[0m 3ms/step - loss: 186818.2500 - mae: 186818.3906 - val_loss: 219101.3125 - val_mae: 218951.2500\n",
      "Epoch 34/200\n",
      "\u001b[1m811/811\u001b[0m \u001b[32m━━━━━━━━━━━━━━━━━━━━\u001b[0m\u001b[37m\u001b[0m \u001b[1m3s\u001b[0m 3ms/step - loss: 181540.5625 - mae: 181540.6094 - val_loss: 218548.7344 - val_mae: 218403.4844\n",
      "Epoch 35/200\n",
      "\u001b[1m811/811\u001b[0m \u001b[32m━━━━━━━━━━━━━━━━━━━━\u001b[0m\u001b[37m\u001b[0m \u001b[1m3s\u001b[0m 3ms/step - loss: 181569.2500 - mae: 181568.8906 - val_loss: 217232.9844 - val_mae: 217039.2500\n",
      "Epoch 36/200\n",
      "\u001b[1m811/811\u001b[0m \u001b[32m━━━━━━━━━━━━━━━━━━━━\u001b[0m\u001b[37m\u001b[0m \u001b[1m3s\u001b[0m 3ms/step - loss: 177924.1875 - mae: 177924.3750 - val_loss: 218612.2812 - val_mae: 218521.4219\n",
      "Epoch 37/200\n",
      "\u001b[1m811/811\u001b[0m \u001b[32m━━━━━━━━━━━━━━━━━━━━\u001b[0m\u001b[37m\u001b[0m \u001b[1m3s\u001b[0m 3ms/step - loss: 179799.5469 - mae: 179799.8125 - val_loss: 216818.7656 - val_mae: 216741.6719\n",
      "Epoch 38/200\n",
      "\u001b[1m811/811\u001b[0m \u001b[32m━━━━━━━━━━━━━━━━━━━━\u001b[0m\u001b[37m\u001b[0m \u001b[1m3s\u001b[0m 3ms/step - loss: 174240.4219 - mae: 174240.7969 - val_loss: 214342.7812 - val_mae: 214214.4219\n",
      "Epoch 39/200\n",
      "\u001b[1m811/811\u001b[0m \u001b[32m━━━━━━━━━━━━━━━━━━━━\u001b[0m\u001b[37m\u001b[0m \u001b[1m3s\u001b[0m 3ms/step - loss: 176995.4531 - mae: 176995.5938 - val_loss: 213495.0312 - val_mae: 213392.4062\n",
      "Epoch 40/200\n",
      "\u001b[1m811/811\u001b[0m \u001b[32m━━━━━━━━━━━━━━━━━━━━\u001b[0m\u001b[37m\u001b[0m \u001b[1m3s\u001b[0m 3ms/step - loss: 174960.5781 - mae: 174960.3906 - val_loss: 213422.5000 - val_mae: 213293.7969\n",
      "Epoch 41/200\n",
      "\u001b[1m811/811\u001b[0m \u001b[32m━━━━━━━━━━━━━━━━━━━━\u001b[0m\u001b[37m\u001b[0m \u001b[1m3s\u001b[0m 3ms/step - loss: 173984.7656 - mae: 173984.7500 - val_loss: 213214.7031 - val_mae: 213071.2656\n",
      "Epoch 42/200\n",
      "\u001b[1m811/811\u001b[0m \u001b[32m━━━━━━━━━━━━━━━━━━━━\u001b[0m\u001b[37m\u001b[0m \u001b[1m3s\u001b[0m 3ms/step - loss: 172576.4375 - mae: 172576.7031 - val_loss: 213249.3594 - val_mae: 213129.8438\n",
      "Epoch 43/200\n",
      "\u001b[1m811/811\u001b[0m \u001b[32m━━━━━━━━━━━━━━━━━━━━\u001b[0m\u001b[37m\u001b[0m \u001b[1m3s\u001b[0m 3ms/step - loss: 171169.5000 - mae: 171169.6875 - val_loss: 213743.5469 - val_mae: 213648.1562\n",
      "Epoch 44/200\n",
      "\u001b[1m811/811\u001b[0m \u001b[32m━━━━━━━━━━━━━━━━━━━━\u001b[0m\u001b[37m\u001b[0m \u001b[1m3s\u001b[0m 3ms/step - loss: 169386.5781 - mae: 169386.7812 - val_loss: 212865.6094 - val_mae: 212781.4375\n",
      "Epoch 45/200\n",
      "\u001b[1m811/811\u001b[0m \u001b[32m━━━━━━━━━━━━━━━━━━━━\u001b[0m\u001b[37m\u001b[0m \u001b[1m3s\u001b[0m 3ms/step - loss: 168748.4375 - mae: 168748.6250 - val_loss: 213438.6562 - val_mae: 213300.9688\n",
      "Epoch 46/200\n",
      "\u001b[1m811/811\u001b[0m \u001b[32m━━━━━━━━━━━━━━━━━━━━\u001b[0m\u001b[37m\u001b[0m \u001b[1m3s\u001b[0m 3ms/step - loss: 171104.3438 - mae: 171104.4688 - val_loss: 212786.7969 - val_mae: 212626.1719\n",
      "Epoch 47/200\n",
      "\u001b[1m811/811\u001b[0m \u001b[32m━━━━━━━━━━━━━━━━━━━━\u001b[0m\u001b[37m\u001b[0m \u001b[1m3s\u001b[0m 3ms/step - loss: 169943.8125 - mae: 169943.9688 - val_loss: 211813.0625 - val_mae: 211683.7344\n",
      "Epoch 48/200\n",
      "\u001b[1m811/811\u001b[0m \u001b[32m━━━━━━━━━━━━━━━━━━━━\u001b[0m\u001b[37m\u001b[0m \u001b[1m3s\u001b[0m 3ms/step - loss: 164259.5781 - mae: 164259.7500 - val_loss: 210829.5781 - val_mae: 210716.9844\n",
      "Epoch 49/200\n",
      "\u001b[1m811/811\u001b[0m \u001b[32m━━━━━━━━━━━━━━━━━━━━\u001b[0m\u001b[37m\u001b[0m \u001b[1m3s\u001b[0m 3ms/step - loss: 165442.7188 - mae: 165442.8125 - val_loss: 213120.5469 - val_mae: 213026.3438\n",
      "Epoch 50/200\n",
      "\u001b[1m811/811\u001b[0m \u001b[32m━━━━━━━━━━━━━━━━━━━━\u001b[0m\u001b[37m\u001b[0m \u001b[1m3s\u001b[0m 3ms/step - loss: 166194.0781 - mae: 166194.1094 - val_loss: 212590.4062 - val_mae: 212486.0625\n",
      "Epoch 51/200\n",
      "\u001b[1m811/811\u001b[0m \u001b[32m━━━━━━━━━━━━━━━━━━━━\u001b[0m\u001b[37m\u001b[0m \u001b[1m3s\u001b[0m 3ms/step - loss: 164447.9062 - mae: 164448.0625 - val_loss: 213451.8594 - val_mae: 213344.8125\n",
      "Epoch 52/200\n",
      "\u001b[1m811/811\u001b[0m \u001b[32m━━━━━━━━━━━━━━━━━━━━\u001b[0m\u001b[37m\u001b[0m \u001b[1m3s\u001b[0m 3ms/step - loss: 166681.0469 - mae: 166681.2500 - val_loss: 210525.9375 - val_mae: 210448.5781\n",
      "Epoch 53/200\n",
      "\u001b[1m811/811\u001b[0m \u001b[32m━━━━━━━━━━━━━━━━━━━━\u001b[0m\u001b[37m\u001b[0m \u001b[1m3s\u001b[0m 3ms/step - loss: 160340.5625 - mae: 160340.8125 - val_loss: 213300.5000 - val_mae: 213187.8906\n",
      "Epoch 54/200\n",
      "\u001b[1m811/811\u001b[0m \u001b[32m━━━━━━━━━━━━━━━━━━━━\u001b[0m\u001b[37m\u001b[0m \u001b[1m3s\u001b[0m 3ms/step - loss: 164647.4688 - mae: 164647.4531 - val_loss: 213767.8594 - val_mae: 213681.7812\n",
      "Epoch 55/200\n",
      "\u001b[1m811/811\u001b[0m \u001b[32m━━━━━━━━━━━━━━━━━━━━\u001b[0m\u001b[37m\u001b[0m \u001b[1m3s\u001b[0m 3ms/step - loss: 162142.6094 - mae: 162142.7188 - val_loss: 212298.2344 - val_mae: 212217.4844\n",
      "Epoch 56/200\n",
      "\u001b[1m811/811\u001b[0m \u001b[32m━━━━━━━━━━━━━━━━━━━━\u001b[0m\u001b[37m\u001b[0m \u001b[1m3s\u001b[0m 3ms/step - loss: 163833.5312 - mae: 163833.5781 - val_loss: 214474.0156 - val_mae: 214407.7031\n",
      "Epoch 57/200\n",
      "\u001b[1m811/811\u001b[0m \u001b[32m━━━━━━━━━━━━━━━━━━━━\u001b[0m\u001b[37m\u001b[0m \u001b[1m3s\u001b[0m 3ms/step - loss: 161111.7188 - mae: 161111.9219 - val_loss: 215308.5781 - val_mae: 215266.6250\n",
      "Epoch 58/200\n",
      "\u001b[1m811/811\u001b[0m \u001b[32m━━━━━━━━━━━━━━━━━━━━\u001b[0m\u001b[37m\u001b[0m \u001b[1m3s\u001b[0m 4ms/step - loss: 157589.3438 - mae: 157589.4531 - val_loss: 213022.0625 - val_mae: 212913.1719\n",
      "Epoch 59/200\n",
      "\u001b[1m811/811\u001b[0m \u001b[32m━━━━━━━━━━━━━━━━━━━━\u001b[0m\u001b[37m\u001b[0m \u001b[1m3s\u001b[0m 3ms/step - loss: 162740.6562 - mae: 162740.4844 - val_loss: 211998.4375 - val_mae: 211931.3594\n",
      "Epoch 60/200\n",
      "\u001b[1m811/811\u001b[0m \u001b[32m━━━━━━━━━━━━━━━━━━━━\u001b[0m\u001b[37m\u001b[0m \u001b[1m3s\u001b[0m 3ms/step - loss: 159824.3281 - mae: 159824.4375 - val_loss: 210008.9688 - val_mae: 209908.4219\n",
      "Epoch 61/200\n",
      "\u001b[1m811/811\u001b[0m \u001b[32m━━━━━━━━━━━━━━━━━━━━\u001b[0m\u001b[37m\u001b[0m \u001b[1m3s\u001b[0m 3ms/step - loss: 157614.6250 - mae: 157614.8438 - val_loss: 215444.2031 - val_mae: 215328.6719\n",
      "Epoch 62/200\n",
      "\u001b[1m811/811\u001b[0m \u001b[32m━━━━━━━━━━━━━━━━━━━━\u001b[0m\u001b[37m\u001b[0m \u001b[1m3s\u001b[0m 3ms/step - loss: 159976.8594 - mae: 159976.5469 - val_loss: 212203.0938 - val_mae: 212163.8750\n",
      "Epoch 63/200\n",
      "\u001b[1m811/811\u001b[0m \u001b[32m━━━━━━━━━━━━━━━━━━━━\u001b[0m\u001b[37m\u001b[0m \u001b[1m3s\u001b[0m 3ms/step - loss: 153315.5312 - mae: 153315.7812 - val_loss: 214536.2969 - val_mae: 214434.1562\n",
      "Epoch 64/200\n",
      "\u001b[1m811/811\u001b[0m \u001b[32m━━━━━━━━━━━━━━━━━━━━\u001b[0m\u001b[37m\u001b[0m \u001b[1m3s\u001b[0m 4ms/step - loss: 156230.0000 - mae: 156230.0469 - val_loss: 212918.8594 - val_mae: 212837.0312\n",
      "Epoch 65/200\n",
      "\u001b[1m811/811\u001b[0m \u001b[32m━━━━━━━━━━━━━━━━━━━━\u001b[0m\u001b[37m\u001b[0m \u001b[1m3s\u001b[0m 3ms/step - loss: 152918.0938 - mae: 152917.9375 - val_loss: 212334.0312 - val_mae: 212235.7656\n",
      "Epoch 66/200\n",
      "\u001b[1m811/811\u001b[0m \u001b[32m━━━━━━━━━━━━━━━━━━━━\u001b[0m\u001b[37m\u001b[0m \u001b[1m3s\u001b[0m 4ms/step - loss: 156076.6406 - mae: 156076.7188 - val_loss: 214947.2344 - val_mae: 214894.3438\n",
      "Epoch 67/200\n",
      "\u001b[1m811/811\u001b[0m \u001b[32m━━━━━━━━━━━━━━━━━━━━\u001b[0m\u001b[37m\u001b[0m \u001b[1m3s\u001b[0m 3ms/step - loss: 156379.9219 - mae: 156379.9688 - val_loss: 213502.1406 - val_mae: 213505.1406\n",
      "Epoch 68/200\n",
      "\u001b[1m811/811\u001b[0m \u001b[32m━━━━━━━━━━━━━━━━━━━━\u001b[0m\u001b[37m\u001b[0m \u001b[1m3s\u001b[0m 4ms/step - loss: 156994.2969 - mae: 156994.2656 - val_loss: 213153.7500 - val_mae: 213074.7188\n",
      "Epoch 69/200\n",
      "\u001b[1m811/811\u001b[0m \u001b[32m━━━━━━━━━━━━━━━━━━━━\u001b[0m\u001b[37m\u001b[0m \u001b[1m3s\u001b[0m 4ms/step - loss: 155619.7969 - mae: 155619.1406 - val_loss: 213333.3750 - val_mae: 213307.1094\n",
      "Epoch 70/200\n",
      "\u001b[1m811/811\u001b[0m \u001b[32m━━━━━━━━━━━━━━━━━━━━\u001b[0m\u001b[37m\u001b[0m \u001b[1m3s\u001b[0m 4ms/step - loss: 152926.5000 - mae: 152926.5000 - val_loss: 215495.9844 - val_mae: 215468.7031\n"
     ]
    }
   ],
   "source": [
    "X = train_data_standardized\n",
    "y = train_data['价格']  \n",
    "X_train, X_test, y_train, y_test = train_test_split(X, y, test_size=0.2, random_state=111)\n",
    "ANN_model = models.Sequential()\n",
    "# Add the first hidden layer, which has 320 neurons, using the relu activation function\n",
    "ANN_model.add(layers.Dense(320, activation='relu', input_shape=(X_train.shape[1],)))\n",
    "\n",
    "# Add more hidden layers\n",
    "ANN_model.add(layers.Dense(160, activation='relu'))\n",
    "ANN_model.add(layers.Dense(80, activation='tanh'))\n",
    "ANN_model.add(layers.Dense(40, activation='relu'))\n",
    "ANN_model.add(layers.Dense(20, activation='relu'))\n",
    "\n",
    "ANN_model.add(layers.Dense(1))\n",
    "ANN_model.compile(optimizer='adam', loss='mae', metrics=['mae'])\n",
    "early_stopping = EarlyStopping(monitor='val_loss', patience=10)\n",
    "history=ANN_model.fit(X_train, y_train, epochs=200, batch_size=128, validation_data=(X_test, y_test), callbacks=[early_stopping])"
   ]
  },
  {
   "cell_type": "markdown",
   "id": "65b37ba0-5d2d-41a1-897c-4c931ea05d3d",
   "metadata": {},
   "source": [
    "#### 4.5.2 Wide&Deep Neural Network（inspired by Heng-Tze Cheng's 2016 paper）"
   ]
  },
  {
   "cell_type": "code",
   "execution_count": null,
   "id": "901a5290-0ffc-4503-bffd-dfcf380b6c83",
   "metadata": {},
   "outputs": [],
   "source": [
    "X = train_data_standardized\n",
    "y = train_data['价格']  \n",
    "X_train, X_test, y_train, y_test = train_test_split(X, y, test_size=0.2, random_state=111)\n",
    "ANN_wide_model = models.Sequential()\n",
    "ANN_wide_model.add(layers.Dense(320, activation='relu', input_shape=(X_train.shape[1],)))\n",
    "\n",
    "ANN_wide_model.add(layers.Dense(160, activation='relu'))\n",
    "ANN_wide_model.add(layers.Dense(80, activation='tanh'))\n",
    "ANN_wide_model.add(layers.Dense(40, activation='relu'))\n",
    "\n",
    "residual = layers.Input(shape=(X_train.shape[1],))  \n",
    "ANN_model = Add()([ANN_model, residual]) \n",
    "ANN_model.add(layers.Dense(20, activation='relu'))\n",
    "ANN_model.add(layers.Dense(1))\n",
    "ANN_model.compile(optimizer='adam', loss='mae', metrics=['mae'])\n",
    "\n",
    "early_stopping = EarlyStopping(monitor='val_loss', patience=10)\n",
    "history = ANN_model.fit(X_train, y_train, epochs=200, batch_size=128, \n",
    "                        validation_data=(X_test, y_test), \n",
    "                        callbacks=[early_stopping],\n",
    "                        initial_epoch=0)  "
   ]
  },
  {
   "cell_type": "markdown",
   "id": "ab238c6f-e008-460f-98bf-606c6e526708",
   "metadata": {},
   "source": [
    "#### 4.6 Model Blending"
   ]
  },
  {
   "cell_type": "code",
   "execution_count": 13,
   "id": "3b26c7d3-704f-4650-b493-ed7d1760b64f",
   "metadata": {
    "tags": []
   },
   "outputs": [
    {
     "name": "stdout",
     "output_type": "stream",
     "text": [
      "Mean Absolute Error: 160763.54957103287\n"
     ]
    }
   ],
   "source": [
    "X = train_data.drop(['价格','平米价格','log平米价格'], axis=1)  \n",
    "y = train_data['价格']  \n",
    "X_train, X_test, y_train, y_test = train_test_split(X, y, test_size=0.2, random_state=111)\n",
    "xg1_y_pred = xg1_model.predict(X_test)\n",
    "gbm1_y_pred = gbm1.predict(X_test)\n",
    "weighted_y_pred = 0.5*xg1_y_pred + 0.5*gbm1_y_pred\n",
    "mae = mean_absolute_error(y_test, weighted_y_pred)\n",
    "print(\"Mean Absolute Error:\", mae)"
   ]
  },
  {
   "cell_type": "markdown",
   "id": "79f42d98-5bac-493b-8709-001576de7d34",
   "metadata": {},
   "source": [
    "##### Model Blending was more effective than the baseline model."
   ]
  },
  {
   "cell_type": "markdown",
   "id": "a30972d2-f8d7-4f31-a031-c556d3bbf837",
   "metadata": {},
   "source": [
    "#### 4.7 Model Stacking"
   ]
  },
  {
   "cell_type": "code",
   "execution_count": 14,
   "id": "992a404a-f781-4cca-8ccc-a8c7f5453ad2",
   "metadata": {
    "tags": []
   },
   "outputs": [],
   "source": [
    "xg1_pred = xg1_model.predict(X)\n",
    "gbm1_pred = gbm1.predict(X)\n",
    "xg1_pred_df = pd.DataFrame(xg1_pred, columns=['xg1_pred'])\n",
    "gbm1_pred_df = pd.DataFrame(gbm1_pred, columns=['gbm1_pred'])\n",
    "X = pd.concat([X, xg1_pred_df, gbm1_pred_df], axis=1)"
   ]
  },
  {
   "cell_type": "code",
   "execution_count": null,
   "id": "33963b1d-ddac-421b-be2c-918eacbfdde6",
   "metadata": {
    "tags": []
   },
   "outputs": [
    {
     "name": "stdout",
     "output_type": "stream",
     "text": [
      "Mean Absolute Error: 165798.04755851463\n"
     ]
    }
   ],
   "source": [
    "X_train, X_test, y_train, y_test = train_test_split(X, y, test_size=0.2, random_state=111)  \n",
    "\n",
    "\n",
    "# define the model\n",
    "stack_xg_model = xgb.XGBRegressor(learning_rate =   0.02865, reg_lambda =0.28023920838984356, reg_alpha = 93.26922092010518, gamma = 9.926790504999932, n_estimators = 2991, \n",
    "                         max_depth = 9, min_child_weight = 2,subsample = 0.8661393983774751, colsample_bytree =0.7088349633953773)\n",
    "\n",
    "\n",
    "# fit the model on the training data\n",
    "stack_xg_model.fit(X_train, y_train)\n",
    "y_pred = stack_xg_model.predict(X_test)\n",
    "\n",
    "# calculate the mean squared error of the predictions\n",
    "mae = mean_absolute_error(y_test, y_pred)\n",
    "\n",
    "print(\"Mean Absolute Error:\", mae)"
   ]
  },
  {
   "cell_type": "markdown",
   "id": "ae7d29f9-3659-48ec-96bb-13a2a5f034de",
   "metadata": {},
   "source": [
    "#### 4.8 Idea: Draw on the White test learned in econometrics to further fit the residuals"
   ]
  },
  {
   "cell_type": "code",
   "execution_count": null,
   "id": "ee6c4bf9-4c35-46f5-9ff2-e5c1ab68bb82",
   "metadata": {
    "tags": []
   },
   "outputs": [],
   "source": [
    "X = train_data.drop(['价格','平米价格','log平米价格'], axis=1)\n",
    "y = train_data['价格']  \n",
    "X_train, X_test, y_train, y_test = train_test_split(X, y, test_size=0.2, random_state=111)  \n",
    "\n",
    "xg1_pred = xg1_model.predict(X)\n",
    "u_hat = y-xg1_pred"
   ]
  },
  {
   "cell_type": "code",
   "execution_count": 34,
   "id": "a29c78b9-2054-40ca-afd9-e60de6893876",
   "metadata": {
    "tags": []
   },
   "outputs": [],
   "source": [
    "xg1_pred_sq = xg1_pred**2\n",
    "ln_xg1_pred = np.log(xg1_pred)\n",
    "sin_xg1_pred = np.sin(xg1_pred)\n",
    "cos_xg1_pred = np.cos(xg1_pred)\n",
    "xg1_pred = pd.DataFrame(xg1_pred, columns=['xg1_pred'])\n",
    "xg1_pred_sq = pd.DataFrame(xg1_pred_sq, columns=['xg1_pred_sq'])\n",
    "ln_xg1_pred = pd.DataFrame(ln_xg1_pred, columns=['ln_xg1_pred'])\n",
    "sin_xg1_pred = pd.DataFrame(sin_xg1_pred, columns=['sin_xg1_pred'])\n",
    "cos_xg1_pred = pd.DataFrame(cos_xg1_pred, columns=['cos_xg1_pred'])\n",
    "X = pd.concat([X, xg1_pred, xg1_pred_sq,ln_xg1_pred,sin_xg1_pred,cos_xg1_pred], axis=1)"
   ]
  },
  {
   "cell_type": "code",
   "execution_count": null,
   "id": "15351985-1647-43e2-bfdc-93479ad64ba8",
   "metadata": {
    "tags": []
   },
   "outputs": [],
   "source": [
    "X = X[['xg1_pred','xg1_pred_sq','ln_xg1_pred','sin_xg1_pred','cos_xg1_pred']]\n",
    "y = u_hat\n",
    "X_train, X_test, y_train, y_test = train_test_split(X, y, test_size=0.2, random_state=111)  \n",
    "linear_model = LinearRegression()  \n",
    "lasso_model = Lasso()  \n",
    "ridge_model = Ridge()  \n",
    "elasticnet_model = ElasticNet()  \n",
    "\n",
    "linear_model.fit(X_train, y_train)  \n",
    "lasso_model.fit(X_train, y_train)  \n",
    "ridge_model.fit(X_train, y_train)  \n",
    "elasticnet_model.fit(X_train, y_train)  \n",
    "\n",
    "linear_pred = linear_model.predict(X_test)  \n",
    "lasso_pred = lasso_model.predict(X_test)  \n",
    "ridge_pred = ridge_model.predict(X_test)  \n",
    "elasticnet_pred = elasticnet_model.predict(X_test)  "
   ]
  },
  {
   "cell_type": "code",
   "execution_count": null,
   "id": "667e06cf-3802-430d-a4d5-994816a2afc8",
   "metadata": {
    "tags": []
   },
   "outputs": [
    {
     "name": "stdout",
     "output_type": "stream",
     "text": [
      "Linear Regression MAE: 161697.211425122\n"
     ]
    }
   ],
   "source": [
    "X = train_data.drop(['价格','平米价格','log平米价格'], axis=1)\n",
    "y = train_data['价格']  \n",
    "  \n",
    "X_train, X_test, y_train, y_test = train_test_split(X, y, test_size=0.2, random_state=111)  \n",
    "xg1_pred = xg1_model.predict(X_test)\n",
    "y_test_withredidual = xg1_pred + linear_pred\n",
    "linear_mae = mean_absolute_error(y_test, y_test_withredidual)  \n",
    "print(\"Linear Regression MAE:\", linear_mae)  "
   ]
  },
  {
   "cell_type": "code",
   "execution_count": null,
   "id": "20931147-a655-4d92-b88f-ee3ed4a4f11c",
   "metadata": {
    "tags": []
   },
   "outputs": [
    {
     "data": {
      "image/png": "[encoded data removed]",
      "text/plain": [
       "<Figure size 640x480 with 1 Axes>"
      ]
     },
     "metadata": {},
     "output_type": "display_data"
    }
   ],
   "source": [
    "X = train_data.drop(['价格','平米价格','log平米价格'], axis=1)\n",
    "y = train_data['价格']   \n",
    "X_train, X_test, y_train, y_test = train_test_split(X, y, test_size=0.2, random_state=111)  \n",
    "\n",
    "xg1_pred = xg1_model.predict(X_test)\n",
    "u_hat = y_test-xg1_pred\n",
    "plt.scatter(xg1_pred, u_hat)\n",
    "\n",
    "plt.title('Scatter plot of xg1_pred vs u_hat')\n",
    "plt.xlabel('xg1_pred')\n",
    "plt.ylabel('u_hat')\n",
    "plt.show()"
   ]
  },
  {
   "cell_type": "code",
   "execution_count": null,
   "id": "bf99231b-85cd-4dde-9c9b-321cf7f3b297",
   "metadata": {
    "tags": []
   },
   "outputs": [
    {
     "data": {
      "image/png": "[encoded data removed]",
      "text/plain": [
       "<Figure size 640x480 with 1 Axes>"
      ]
     },
     "metadata": {},
     "output_type": "display_data"
    }
   ],
   "source": [
    "time_grouped = train_data.groupby('时间')['价格'].mean().reset_index()\n",
    "\n",
    "plt.plot(time_grouped['时间'], time_grouped['价格'], 'o', markersize=5, color='blue')\n",
    "\n",
    "plt.title('Average Price over Time')\n",
    "plt.xlabel('Time')\n",
    "plt.ylabel('Average Price')\n",
    "\n",
    "plt.show()"
   ]
  },
  {
   "cell_type": "markdown",
   "id": "6b4f1e33-c0bc-4a24-88d4-5c7b95c01987",
   "metadata": {
    "tags": []
   },
   "source": [
    "### 5.Innovation\n",
    "#### 5.1: Use AutoGluon to conduct automated ml (https://arxiv.org/abs/2003.06505)"
   ]
  },
  {
   "cell_type": "code",
   "execution_count": 40,
   "id": "15fdb98d-dba0-47bf-a8fd-fa23b701f6c6",
   "metadata": {
    "tags": []
   },
   "outputs": [
    {
     "name": "stdout",
     "output_type": "stream",
     "text": [
      "('float', []) :  43 | ['建筑面积', '配备电梯', 'lon', 'lat', '房屋总数', ...]\n",
      "('int', [])   : 184 | ['价格', '年份', '停车位', '房屋户型_NA', '所在楼层_NA', ...]\n"
     ]
    }
   ],
   "source": [
    "X = train_data.drop(['平米价格','log平米价格'], axis=1)\n",
    "y = train_data['价格']\n",
    "X_train, X_test, y_train, y_test = train_test_split(X, y, test_size=0.2, random_state=111)\n",
    "feature_metadata = FeatureMetadata.from_df(X_train)\n",
    "print(feature_metadata)"
   ]
  },
  {
   "cell_type": "code",
   "execution_count": 41,
   "id": "0b71523c-2774-4185-aaef-53aac2677acf",
   "metadata": {
    "tags": []
   },
   "outputs": [
    {
     "name": "stderr",
     "output_type": "stream",
     "text": [
      "No path specified. Models will be saved in: \"AutogluonModels\\ag-20240604_044048\"\n",
      "No presets specified! To achieve strong results with AutoGluon, it is recommended to use the available presets.\n",
      "\tRecommended Presets (For more details refer to https://auto.gluon.ai/stable/tutorials/tabular/tabular-essentials.html#presets):\n",
      "\tpresets='best_quality'   : Maximize accuracy. Default time_limit=3600.\n",
      "\tpresets='high_quality'   : Strong accuracy with fast inference speed. Default time_limit=3600.\n",
      "\tpresets='good_quality'   : Good accuracy with very fast inference speed. Default time_limit=3600.\n",
      "\tpresets='medium_quality' : Fast training time, ideal for initial prototyping.\n",
      "Warning: Training may take a very long time because `time_limit` was not specified and `train_data` is large (103689 samples, 138.94 MB).\n",
      "\tConsider setting `time_limit` to ensure training finishes within an expected duration or experiment with a small portion of `train_data` to identify an ideal `presets` and `hyperparameters` configuration.\n",
      "Beginning AutoGluon training ...\n",
      "AutoGluon will save models to \"AutogluonModels\\ag-20240604_044048\"\n",
      "=================== System Info ===================\n",
      "AutoGluon Version:  1.1.0\n",
      "Python Version:     3.11.5\n",
      "Operating System:   Windows\n",
      "Platform Machine:   AMD64\n",
      "Platform Version:   10.0.22000\n",
      "CPU Count:          12\n",
      "Memory Avail:       6.09 GB / 15.23 GB (40.0%)\n",
      "Disk Space Avail:   110.37 GB / 475.69 GB (23.2%)\n",
      "===================================================\n",
      "Train Data Rows:    103689\n",
      "Train Data Columns: 226\n",
      "Label Column:       价格\n",
      "AutoGluon infers your prediction problem is: 'regression' (because dtype of label-column == int and many unique label-values observed).\n",
      "\tLabel info (max, min, mean, stddev): (47664470, 101640, 1818976.51969, 1480637.7199)\n",
      "\tIf 'regression' is not the correct problem_type, please manually specify the problem_type parameter during predictor init (You may specify problem_type as one of: ['binary', 'multiclass', 'regression'])\n",
      "Problem Type:       regression\n",
      "Preprocessing data ...\n",
      "Using Feature Generators to preprocess the data ...\n",
      "Fitting AutoMLPipelineFeatureGenerator...\n",
      "\tAvailable Memory:                    6016.92 MB\n",
      "\tTrain Data (Original)  Memory Usage: 130.92 MB (2.2% of available memory)\n",
      "\tStage 1 Generators:\n",
      "\t\tFitting AsTypeFeatureGenerator...\n",
      "\t\t\tNote: Converting 173 features to boolean dtype as they only contain 2 unique values.\n",
      "\tStage 2 Generators:\n",
      "\t\tFitting FillNaFeatureGenerator...\n",
      "\tStage 3 Generators:\n",
      "\t\tFitting IdentityFeatureGenerator...\n",
      "\tStage 4 Generators:\n",
      "\t\tFitting DropUniqueFeatureGenerator...\n",
      "\tStage 5 Generators:\n",
      "\t\tFitting DropDuplicatesFeatureGenerator...\n",
      "\tUseless Original Features (Count: 2): ['产权所属_NA', '区域_万州']\n",
      "\t\tThese features carry no predictive signal and should be manually investigated.\n",
      "\t\tThis is typically a feature which has the same value for all rows.\n",
      "\t\tThese features do not need to be present at inference time.\n",
      "\tUnused Original Features (Count: 16): ['所在楼层_NA', '产权描述_NA', '区域_宁河', '区域_平山', '区域_成安县', '区域_武安市', '区域_磁县', '区域_辛集市', '建筑结构_砖木结构', '交易权属_租售结合公租房', '房屋用途_公寓', '房屋用途_商业', '楼层位置_中楼层', '是否有儿童房', '是否民水民电', '是否急售']\n",
      "\t\tThese features were not used to generate any of the output features. Add a feature generator compatible with these features to utilize them.\n",
      "\t\tFeatures can also be unused if they carry very little information, such as being categorical but having almost entirely unique values or being duplicates of other features.\n",
      "\t\tThese features do not need to be present at inference time.\n",
      "\t\t('int', []) : 16 | ['所在楼层_NA', '产权描述_NA', '区域_宁河', '区域_平山', '区域_成安县', ...]\n",
      "\tTypes of features in original data (raw dtype, special dtypes):\n",
      "\t\t('float', []) :  43 | ['建筑面积', '配备电梯', 'lon', 'lat', '房屋总数', ...]\n",
      "\t\t('int', [])   : 165 | ['年份', '停车位', '房屋户型_NA', '建筑面积_NA', '套内面积_NA', ...]\n",
      "\tTypes of features in processed data (raw dtype, special dtypes):\n",
      "\t\t('float', [])     :  42 | ['建筑面积', 'lon', 'lat', '房屋总数', '楼栋总数', ...]\n",
      "\t\t('int', [])       :   9 | ['年份', '停车位', '交易时间差', '交易年份', '交易月份', ...]\n",
      "\t\t('int', ['bool']) : 157 | ['配备电梯', '房屋户型_NA', '建筑面积_NA', '套内面积_NA', '梯户比例_NA', ...]\n",
      "\t3.2s = Fit runtime\n",
      "\t208 features in original data used to generate 208 features in processed data.\n",
      "\tTrain Data (Processed) Memory Usage: 55.87 MB (0.9% of available memory)\n",
      "Data preprocessing and feature engineering runtime = 3.56s ...\n",
      "AutoGluon will gauge predictive performance using evaluation metric: 'root_mean_squared_error'\n",
      "\tThis metric's sign has been flipped to adhere to being higher_is_better. The metric score can be multiplied by -1 to get the metric value.\n",
      "\tTo change this, specify the eval_metric parameter of Predictor()\n",
      "Automatically generating train/validation split with holdout_frac=0.02411056139031141, Train Rows: 101189, Val Rows: 2500\n",
      "User-specified model hyperparameters to be fit:\n",
      "{\n",
      "\t'NN_TORCH': {},\n",
      "\t'GBM': [{}, {'extra_trees': True, 'ag_args': {'name_suffix': 'XT'}}, 'GBMLarge'],\n",
      "\t'CAT': {},\n",
      "\t'XGB': {},\n",
      "\t'AG_AUTOMM': {},\n",
      "\t'VW': {},\n",
      "}\n",
      "Fitting 8 L1 models ...\n",
      "Fitting model: LightGBM ...\n"
     ]
    },
    {
     "name": "stdout",
     "output_type": "stream",
     "text": [
      "[1000]\tvalid_set's rmse: 441364\n",
      "[2000]\tvalid_set's rmse: 415628\n",
      "[3000]\tvalid_set's rmse: 404534\n",
      "[4000]\tvalid_set's rmse: 398980\n",
      "[5000]\tvalid_set's rmse: 394826\n",
      "[6000]\tvalid_set's rmse: 392584\n",
      "[7000]\tvalid_set's rmse: 390763\n",
      "[8000]\tvalid_set's rmse: 388274\n",
      "[9000]\tvalid_set's rmse: 387299\n",
      "[10000]\tvalid_set's rmse: 386722\n"
     ]
    },
    {
     "name": "stderr",
     "output_type": "stream",
     "text": [
      "\t-386687.8022\t = Validation score   (-root_mean_squared_error)\n",
      "\t61.32s\t = Training   runtime\n",
      "\t0.57s\t = Validation runtime\n",
      "Fitting model: LightGBMXT ...\n"
     ]
    },
    {
     "name": "stdout",
     "output_type": "stream",
     "text": [
      "[1000]\tvalid_set's rmse: 481125\n",
      "[2000]\tvalid_set's rmse: 423736\n",
      "[3000]\tvalid_set's rmse: 398753\n",
      "[4000]\tvalid_set's rmse: 387398\n",
      "[5000]\tvalid_set's rmse: 380135\n",
      "[6000]\tvalid_set's rmse: 373840\n",
      "[7000]\tvalid_set's rmse: 369799\n",
      "[8000]\tvalid_set's rmse: 365395\n",
      "[9000]\tvalid_set's rmse: 362231\n",
      "[10000]\tvalid_set's rmse: 360696\n"
     ]
    },
    {
     "name": "stderr",
     "output_type": "stream",
     "text": [
      "\t-360695.7918\t = Validation score   (-root_mean_squared_error)\n",
      "\t61.0s\t = Training   runtime\n",
      "\t0.49s\t = Validation runtime\n",
      "Fitting model: CatBoost ...\n",
      "\t-369565.4536\t = Validation score   (-root_mean_squared_error)\n",
      "\t335.56s\t = Training   runtime\n",
      "\t0.02s\t = Validation runtime\n",
      "Fitting model: XGBoost ...\n",
      "\t-425303.4469\t = Validation score   (-root_mean_squared_error)\n",
      "\t26.96s\t = Training   runtime\n",
      "\t0.08s\t = Validation runtime\n",
      "Fitting model: NeuralNetTorch ...\n",
      "\t-532813.2585\t = Validation score   (-root_mean_squared_error)\n",
      "\t323.16s\t = Training   runtime\n",
      "\t0.05s\t = Validation runtime\n",
      "Fitting model: VowpalWabbit ...\n",
      "\tWarning: Exception caused VowpalWabbit to fail during training (ImportError)... Skipping this model.\n",
      "\t\t`import vowpalwabbit` failed.\n",
      "A quick tip is to install via `pip install vowpalwabbit>=9,<9.10\n",
      "Fitting model: LightGBMLarge ...\n"
     ]
    },
    {
     "name": "stdout",
     "output_type": "stream",
     "text": [
      "[1000]\tvalid_set's rmse: 392377\n",
      "[2000]\tvalid_set's rmse: 386783\n",
      "[3000]\tvalid_set's rmse: 386497\n"
     ]
    },
    {
     "name": "stderr",
     "output_type": "stream",
     "text": [
      "\t-386228.4584\t = Validation score   (-root_mean_squared_error)\n",
      "\t47.9s\t = Training   runtime\n",
      "\t0.21s\t = Validation runtime\n",
      "Fitting model: MultiModalPredictor ...\n",
      "\tWarning: Exception caused MultiModalPredictor to fail during training... Skipping this model.\n",
      "\t\tThe total system num_gpus=0 is less than minimum num_gpus=1 to fit MultiModalPredictorModel. Consider using a machine with more GPUs.\n",
      "Detailed Traceback:\n",
      "Traceback (most recent call last):\n",
      "  File \"C:\\Users\\Manager.Mo\\anaconda3\\Lib\\site-packages\\autogluon\\core\\trainer\\abstract_trainer.py\", line 1904, in _train_and_save\n",
      "    model = self._train_single(X, y, model, X_val, y_val, total_resources=total_resources, **model_fit_kwargs)\n",
      "            ^^^^^^^^^^^^^^^^^^^^^^^^^^^^^^^^^^^^^^^^^^^^^^^^^^^^^^^^^^^^^^^^^^^^^^^^^^^^^^^^^^^^^^^^^^^^^^^^^^\n",
      "  File \"C:\\Users\\Manager.Mo\\anaconda3\\Lib\\site-packages\\autogluon\\core\\trainer\\abstract_trainer.py\", line 1844, in _train_single\n",
      "    model = model.fit(X=X, y=y, X_val=X_val, y_val=y_val, total_resources=total_resources, **model_fit_kwargs)\n",
      "            ^^^^^^^^^^^^^^^^^^^^^^^^^^^^^^^^^^^^^^^^^^^^^^^^^^^^^^^^^^^^^^^^^^^^^^^^^^^^^^^^^^^^^^^^^^^^^^^^^^\n",
      "  File \"C:\\Users\\Manager.Mo\\anaconda3\\Lib\\site-packages\\autogluon\\core\\models\\abstract\\abstract_model.py\", line 847, in fit\n",
      "    kwargs = self._preprocess_fit_args(**kwargs)\n",
      "             ^^^^^^^^^^^^^^^^^^^^^^^^^^^^^^^^^^^\n",
      "  File \"C:\\Users\\Manager.Mo\\anaconda3\\Lib\\site-packages\\autogluon\\core\\models\\abstract\\abstract_model.py\", line 528, in _preprocess_fit_args\n",
      "    kwargs = self._preprocess_fit_resources(**kwargs)\n",
      "             ^^^^^^^^^^^^^^^^^^^^^^^^^^^^^^^^^^^^^^^^\n",
      "  File \"C:\\Users\\Manager.Mo\\anaconda3\\Lib\\site-packages\\autogluon\\core\\models\\abstract\\abstract_model.py\", line 759, in _preprocess_fit_resources\n",
      "    return self._calculate_total_resources(silent=silent, total_resources=total_resources, parallel_hpo=parallel_hpo, **kwargs)\n",
      "           ^^^^^^^^^^^^^^^^^^^^^^^^^^^^^^^^^^^^^^^^^^^^^^^^^^^^^^^^^^^^^^^^^^^^^^^^^^^^^^^^^^^^^^^^^^^^^^^^^^^^^^^^^^^^^^^^^^^^\n",
      "  File \"C:\\Users\\Manager.Mo\\anaconda3\\Lib\\site-packages\\autogluon\\core\\models\\abstract\\abstract_model.py\", line 704, in _calculate_total_resources\n",
      "    system_num_gpus >= minimum_model_num_gpus\n",
      "AssertionError: The total system num_gpus=0 is less than minimum num_gpus=1 to fit MultiModalPredictorModel. Consider using a machine with more GPUs.\n",
      "Fitting model: WeightedEnsemble_L2 ...\n",
      "\tEnsemble Weights: {'LightGBMXT': 0.5, 'CatBoost': 0.25, 'LightGBMLarge': 0.188, 'NeuralNetTorch': 0.062}\n",
      "\t-349499.4769\t = Validation score   (-root_mean_squared_error)\n",
      "\t0.02s\t = Training   runtime\n",
      "\t0.0s\t = Validation runtime\n",
      "AutoGluon training complete, total runtime = 863.68s ... Best model: \"WeightedEnsemble_L2\"\n",
      "TabularPredictor saved. To load, use: predictor = TabularPredictor.load(\"AutogluonModels\\ag-20240604_044048\")\n"
     ]
    }
   ],
   "source": [
    "hyperparameters = get_hyperparameter_config('multimodal')\n",
    "predictor = TabularPredictor(label=label).fit(\n",
    "    train_data=X_train,\n",
    "    hyperparameters=hyperparameters,\n",
    "    feature_metadata=feature_metadata,\n",
    ")"
   ]
  },
  {
   "cell_type": "code",
   "execution_count": 42,
   "id": "6e37a5d2-ac9f-4cae-9443-13a742d9df70",
   "metadata": {
    "tags": []
   },
   "outputs": [
    {
     "data": {
      "text/html": [
       "<div>\n",
       "<style scoped>\n",
       "    .dataframe tbody tr th:only-of-type {\n",
       "        vertical-align: middle;\n",
       "    }\n",
       "\n",
       "    .dataframe tbody tr th {\n",
       "        vertical-align: top;\n",
       "    }\n",
       "\n",
       "    .dataframe thead th {\n",
       "        text-align: right;\n",
       "    }\n",
       "</style>\n",
       "<table border=\"1\" class=\"dataframe\">\n",
       "  <thead>\n",
       "    <tr style=\"text-align: right;\">\n",
       "      <th></th>\n",
       "      <th>model</th>\n",
       "      <th>score_test</th>\n",
       "      <th>mean_absolute_error</th>\n",
       "      <th>median_absolute_error</th>\n",
       "      <th>score_val</th>\n",
       "      <th>eval_metric</th>\n",
       "      <th>pred_time_test</th>\n",
       "      <th>pred_time_val</th>\n",
       "      <th>fit_time</th>\n",
       "      <th>pred_time_test_marginal</th>\n",
       "      <th>pred_time_val_marginal</th>\n",
       "      <th>fit_time_marginal</th>\n",
       "      <th>stack_level</th>\n",
       "      <th>can_infer</th>\n",
       "      <th>fit_order</th>\n",
       "    </tr>\n",
       "  </thead>\n",
       "  <tbody>\n",
       "    <tr>\n",
       "      <th>0</th>\n",
       "      <td>WeightedEnsemble_L2</td>\n",
       "      <td>-384448.655802</td>\n",
       "      <td>-165726.258577</td>\n",
       "      <td>-98646.375</td>\n",
       "      <td>-349499.476946</td>\n",
       "      <td>root_mean_squared_error</td>\n",
       "      <td>9.545044</td>\n",
       "      <td>0.770544</td>\n",
       "      <td>767.640071</td>\n",
       "      <td>0.014005</td>\n",
       "      <td>0.000000</td>\n",
       "      <td>0.015627</td>\n",
       "      <td>2</td>\n",
       "      <td>True</td>\n",
       "      <td>7</td>\n",
       "    </tr>\n",
       "    <tr>\n",
       "      <th>1</th>\n",
       "      <td>CatBoost</td>\n",
       "      <td>-394208.383922</td>\n",
       "      <td>-167471.858996</td>\n",
       "      <td>-97608.250</td>\n",
       "      <td>-369565.453552</td>\n",
       "      <td>root_mean_squared_error</td>\n",
       "      <td>0.125431</td>\n",
       "      <td>0.015622</td>\n",
       "      <td>335.561285</td>\n",
       "      <td>0.125431</td>\n",
       "      <td>0.015622</td>\n",
       "      <td>335.561285</td>\n",
       "      <td>1</td>\n",
       "      <td>True</td>\n",
       "      <td>3</td>\n",
       "    </tr>\n",
       "    <tr>\n",
       "      <th>2</th>\n",
       "      <td>XGBoost</td>\n",
       "      <td>-395519.311909</td>\n",
       "      <td>-171186.838540</td>\n",
       "      <td>-98811.500</td>\n",
       "      <td>-425303.446860</td>\n",
       "      <td>root_mean_squared_error</td>\n",
       "      <td>0.591291</td>\n",
       "      <td>0.078173</td>\n",
       "      <td>26.960813</td>\n",
       "      <td>0.591291</td>\n",
       "      <td>0.078173</td>\n",
       "      <td>26.960813</td>\n",
       "      <td>1</td>\n",
       "      <td>True</td>\n",
       "      <td>4</td>\n",
       "    </tr>\n",
       "    <tr>\n",
       "      <th>3</th>\n",
       "      <td>LightGBM</td>\n",
       "      <td>-396489.554563</td>\n",
       "      <td>-165374.571170</td>\n",
       "      <td>-93215.375</td>\n",
       "      <td>-386687.802157</td>\n",
       "      <td>root_mean_squared_error</td>\n",
       "      <td>6.016023</td>\n",
       "      <td>0.566705</td>\n",
       "      <td>61.317749</td>\n",
       "      <td>6.016023</td>\n",
       "      <td>0.566705</td>\n",
       "      <td>61.317749</td>\n",
       "      <td>1</td>\n",
       "      <td>True</td>\n",
       "      <td>1</td>\n",
       "    </tr>\n",
       "    <tr>\n",
       "      <th>4</th>\n",
       "      <td>LightGBMXT</td>\n",
       "      <td>-403255.200412</td>\n",
       "      <td>-169315.389086</td>\n",
       "      <td>-96236.500</td>\n",
       "      <td>-360695.791788</td>\n",
       "      <td>root_mean_squared_error</td>\n",
       "      <td>6.247408</td>\n",
       "      <td>0.492435</td>\n",
       "      <td>61.003521</td>\n",
       "      <td>6.247408</td>\n",
       "      <td>0.492435</td>\n",
       "      <td>61.003521</td>\n",
       "      <td>1</td>\n",
       "      <td>True</td>\n",
       "      <td>2</td>\n",
       "    </tr>\n",
       "    <tr>\n",
       "      <th>5</th>\n",
       "      <td>LightGBMLarge</td>\n",
       "      <td>-415911.627047</td>\n",
       "      <td>-165765.570893</td>\n",
       "      <td>-92301.500</td>\n",
       "      <td>-386228.458389</td>\n",
       "      <td>root_mean_squared_error</td>\n",
       "      <td>2.765517</td>\n",
       "      <td>0.208096</td>\n",
       "      <td>47.901576</td>\n",
       "      <td>2.765517</td>\n",
       "      <td>0.208096</td>\n",
       "      <td>47.901576</td>\n",
       "      <td>1</td>\n",
       "      <td>True</td>\n",
       "      <td>6</td>\n",
       "    </tr>\n",
       "    <tr>\n",
       "      <th>6</th>\n",
       "      <td>NeuralNetTorch</td>\n",
       "      <td>-525442.809957</td>\n",
       "      <td>-390631.599147</td>\n",
       "      <td>-354830.125</td>\n",
       "      <td>-532813.258495</td>\n",
       "      <td>root_mean_squared_error</td>\n",
       "      <td>0.392684</td>\n",
       "      <td>0.054391</td>\n",
       "      <td>323.158062</td>\n",
       "      <td>0.392684</td>\n",
       "      <td>0.054391</td>\n",
       "      <td>323.158062</td>\n",
       "      <td>1</td>\n",
       "      <td>True</td>\n",
       "      <td>5</td>\n",
       "    </tr>\n",
       "  </tbody>\n",
       "</table>\n",
       "</div>"
      ],
      "text/plain": [
       "                 model     score_test  mean_absolute_error  \\\n",
       "0  WeightedEnsemble_L2 -384448.655802       -165726.258577   \n",
       "1             CatBoost -394208.383922       -167471.858996   \n",
       "2              XGBoost -395519.311909       -171186.838540   \n",
       "3             LightGBM -396489.554563       -165374.571170   \n",
       "4           LightGBMXT -403255.200412       -169315.389086   \n",
       "5        LightGBMLarge -415911.627047       -165765.570893   \n",
       "6       NeuralNetTorch -525442.809957       -390631.599147   \n",
       "\n",
       "   median_absolute_error      score_val              eval_metric  \\\n",
       "0             -98646.375 -349499.476946  root_mean_squared_error   \n",
       "1             -97608.250 -369565.453552  root_mean_squared_error   \n",
       "2             -98811.500 -425303.446860  root_mean_squared_error   \n",
       "3             -93215.375 -386687.802157  root_mean_squared_error   \n",
       "4             -96236.500 -360695.791788  root_mean_squared_error   \n",
       "5             -92301.500 -386228.458389  root_mean_squared_error   \n",
       "6            -354830.125 -532813.258495  root_mean_squared_error   \n",
       "\n",
       "   pred_time_test  pred_time_val    fit_time  pred_time_test_marginal  \\\n",
       "0        9.545044       0.770544  767.640071                 0.014005   \n",
       "1        0.125431       0.015622  335.561285                 0.125431   \n",
       "2        0.591291       0.078173   26.960813                 0.591291   \n",
       "3        6.016023       0.566705   61.317749                 6.016023   \n",
       "4        6.247408       0.492435   61.003521                 6.247408   \n",
       "5        2.765517       0.208096   47.901576                 2.765517   \n",
       "6        0.392684       0.054391  323.158062                 0.392684   \n",
       "\n",
       "   pred_time_val_marginal  fit_time_marginal  stack_level  can_infer  \\\n",
       "0                0.000000           0.015627            2       True   \n",
       "1                0.015622         335.561285            1       True   \n",
       "2                0.078173          26.960813            1       True   \n",
       "3                0.566705          61.317749            1       True   \n",
       "4                0.492435          61.003521            1       True   \n",
       "5                0.208096          47.901576            1       True   \n",
       "6                0.054391         323.158062            1       True   \n",
       "\n",
       "   fit_order  \n",
       "0          7  \n",
       "1          3  \n",
       "2          4  \n",
       "3          1  \n",
       "4          2  \n",
       "5          6  \n",
       "6          5  "
      ]
     },
     "execution_count": 42,
     "metadata": {},
     "output_type": "execute_result"
    }
   ],
   "source": [
    "predictor.leaderboard(X_test,extra_metrics=['mean_absolute_error','median_absolute_error'],silent=True)"
   ]
  },
  {
   "cell_type": "markdown",
   "id": "b1ff3ac8-8182-4f53-aaa7-da0e545b3ae4",
   "metadata": {},
   "source": [
    "#### 5.2 Use OpenFE to generate Deep Features (https://arxiv.org/abs/2211.12507)"
   ]
  },
  {
   "cell_type": "code",
   "execution_count": null,
   "id": "e8652542-ee86-4b8b-8470-318746d0e69c",
   "metadata": {
    "tags": []
   },
   "outputs": [
    {
     "data": {
      "image/png": "[encoded data removed]",
      "text/plain": [
       "<Figure size 640x480 with 1 Axes>"
      ]
     },
     "metadata": {},
     "output_type": "display_data"
    }
   ],
   "source": [
    "result = permutation_importance(xg1_model, X_test, y_test, n_repeats=10, random_state=111)\n",
    "\n",
    "# draw the feature importance\n",
    "importances = result.importances_mean\n",
    "\n",
    "feature_names = X_train.columns\n",
    "\n",
    "plt.barh(range(len(importances)), importances, color='blue', ecolor='black', capsize=3)\n",
    "plt.yticks(range(len(importances)), feature_names)\n",
    "plt.xlabel('Permutation Importance')\n",
    "plt.title('Permutation Importance of Features')\n",
    "plt.show()"
   ]
  },
  {
   "cell_type": "code",
   "execution_count": null,
   "id": "d5d1f849-988a-4035-b499-5444cb5151cd",
   "metadata": {
    "tags": []
   },
   "outputs": [
    {
     "data": {
      "image/png": "[encoded data removed]",
      "text/plain": [
       "<Figure size 640x480 with 1 Axes>"
      ]
     },
     "metadata": {},
     "output_type": "display_data"
    }
   ],
   "source": [
    "top_feature_idxs = np.argsort(importances)[::-1][:10]\n",
    "\n",
    "# select the top 10 features\n",
    "top_importances = importances[top_feature_idxs]\n",
    "top_feature_names = [feature_names[i] for i in top_feature_idxs]\n",
    "\n",
    "plt.barh(range(len(top_importances)), top_importances, color='blue', ecolor='black', capsize=3)\n",
    "plt.yticks(range(len(top_importances)), top_feature_names)\n",
    "plt.xlabel('Permutation Importance')\n",
    "plt.title('Top 10 Permutation Importance of Features')\n",
    "plt.show()"
   ]
  },
  {
   "cell_type": "code",
   "execution_count": null,
   "id": "2148f6f4-922c-452f-9af9-af4b619c2d26",
   "metadata": {
    "tags": []
   },
   "outputs": [
    {
     "name": "stdout",
     "output_type": "stream",
     "text": [
      "[('lon', 272.0), ('物 业 费', 222.0), ('距离', 205.0), ('lonlat', 183.0), ('建筑面积', 172.0), ('建筑面积_lat', 143.0), ('房屋总数', 126.0), ('lat', 115.0), ('容 积 率', 104.0), ('角度', 104.0), ('卧室', 100.0), ('建筑面积_distance', 93.0), ('停车位', 91.0), ('指数户梯比', 86.0), ('总楼层数', 79.0), ('建筑面积_lon', 77.0), ('楼栋总数', 66.0), ('建筑面积_lonlat', 63.0), ('distance', 60.0), ('绿 化 率', 54.0), ('交易时间差', 54.0), ('卫生间', 48.0), ('户', 44.0), ('停车费用', 40.0), ('燃气费', 39.0), ('梯户比', 34.0), ('区域_南开', 31.0), ('梯', 27.0), ('预期上涨占比', 27.0), ('供热费', 25.0), ('区域_和平', 24.0), ('建筑面积平方', 24.0), ('地铁', 22.0), ('区域_河西', 22.0), ('净上涨积分', 20.0), ('房贷环比变动', 20.0), ('客厅', 19.0), ('时间', 18.0), ('个人住房贷款', 18.0), ('北', 17.0), ('楼层位置_高楼层 ', 17.0), ('物业办公电话_NA', 16.0), ('交易月份', 16.0), ('环比下降城市数', 15.0), ('区域_长寿', 15.0), ('供暖_集中供暖', 15.0), ('建筑面积_NA', 13.0), ('南', 13.0), ('装修情况_毛坯', 13.0), ('配备电梯', 12.0), ('西', 11.0), ('区域_开发区', 10.0), ('区域_津南', 10.0), ('是否有医疗设施', 10.0), ('物业公司_NA', 9.0), ('国房景气指数', 9.0), ('企业景气指数', 9.0), ('个人住房贷款利率', 9.0), ('装修情况_精装', 9.0), ('供水_商水/民水', 9.0), ('年份', 8.0), ('开发商_NA', 8.0), ('东', 7.0), ('区域_渝北', 7.0), ('区域_燕郊', 7.0), ('供电_商电/民电', 7.0), ('供电_民电', 7.0), ('是否靠近公交站', 7.0), ('房屋年限_满两年', 6.0), ('楼层位置_中楼层 ', 6.0), ('供暖_集中供暖/自采暖', 6.0), ('是否有娱乐休闲', 6.0), ('别墅梯户比', 6.0), ('梯户比例_NA', 5.0), ('交易年份', 5.0), ('个贷同比变动', 5.0), ('个贷环比变动', 5.0), ('区域_河北', 5.0), ('区域_西青', 5.0), ('建筑结构_砖混结构', 5.0), ('楼层位置_低楼层 ', 5.0), ('厨房', 4.0), ('配备电梯_NA', 4.0), ('供热费_NA', 4.0), ('房地产贷款', 4.0), ('城市_津门市', 4.0), ('区域_固安', 4.0), ('区域_河东', 4.0), ('区域_渝中', 4.0), ('建筑结构_未知结构', 4.0), ('建筑结构_混合结构', 4.0), ('装修情况_其他', 4.0), ('交易权属_商品房', 4.0), ('房屋用途_别墅', 4.0), ('产权所属_共有', 4.0), ('供水_民水', 4.0), ('物业类别_NA', 3.0), ('燃气费_NA', 3.0), ('建筑结构_钢混结构', 3.0), ('别墅类型_独栋', 3.0)]\n"
     ]
    }
   ],
   "source": [
    "X = train_data.drop(['价格','平米价格','log平米价格'], axis=1)\n",
    "y = train_data['价格']  \n",
    "X_train, X_test, y_train, y_test = train_test_split(X, y, test_size=0.2, random_state=111)\n",
    "\n",
    "dtrain = xgb.DMatrix(X_train, label=y_train)\n",
    "dtest = xgb.DMatrix(X_test)\n",
    "\n",
    "params = {\n",
    "    'n_estimators': 2991, 'max_depth': 9, 'learning_rate': 0.02865,\n",
    "    'subsample': 0.8661393983774751, 'colsample_bytree':  0.7088349633953773,\n",
    "    'gamma': 9.926790504999932, 'reg_alpha': 93.26922092010518, \n",
    "    'reg_lambda': 0.28023920838984356, 'min_child_weight': 2\n",
    "}\n",
    "\n",
    "model = xgb.train(params=params, dtrain=dtrain)\n",
    "\n",
    "# Output the top 100 variables in terms of feature importance\n",
    "print(sorted(model.get_score(importance_type='weight').items(), key=lambda x: x[1], reverse=True)[:100])"
   ]
  },
  {
   "cell_type": "code",
   "execution_count": 24,
   "id": "c23a5b7e-dfc4-4187-832e-9c59ce6e1ba1",
   "metadata": {
    "tags": []
   },
   "outputs": [
    {
     "name": "stdout",
     "output_type": "stream",
     "text": [
      "['lon', '物 业 费', '距离', 'lonlat', '建筑面积', '建筑面积_lat', '房屋总数', 'lat', '容 积 率', '角度', '卧室', '建筑面积_distance', '停车位', '指数户梯比', '总楼层数', '建筑面积_lon', '楼栋总数', '建筑面积_lonlat', 'distance', '绿 化 率', '交易时间差', '卫生间', '户', '停车费用', '燃气费', '梯户比', '区域_南开', '梯', '预期上涨占比', '供热费', '区域_和平', '建筑面积平方', '地铁', '区域_河西', '净上涨积分', '房贷环比变动', '客厅', '时间', '个人住房贷款', '北', '楼层位置_高楼层 ', '物业办公电话_NA', '交易月份', '环比下降城市数', '区域_长寿', '供暖_集中供暖', '建筑面积_NA', '南', '装修情况_毛坯', '配备电梯', '西', '区域_开发区', '区域_津南', '是否有医疗设施', '物业公司_NA', '国房景气指数', '企业景气指数', '个人住房贷款利率', '装修情况_精装', '供水_商水/民水', '年份', '开发商_NA', '东', '区域_渝北', '区域_燕郊', '供电_商电/民电', '供电_民电', '是否靠近公交站', '房屋年限_满两年', '楼层位置_中楼层 ', '供暖_集中供暖/自采暖', '是否有娱乐休闲', '别墅梯户比', '梯户比例_NA', '交易年份', '个贷同比变动', '个贷环比变动', '区域_河北', '区域_西青', '建筑结构_砖混结构', '楼层位置_低楼层 ', '厨房', '配备电梯_NA', '供热费_NA', '房地产贷款', '城市_津门市', '区域_固安', '区域_河东', '区域_渝中', '建筑结构_未知结构', '建筑结构_混合结构', '装修情况_其他', '交易权属_商品房', '房屋用途_别墅', '产权所属_共有', '供水_民水', '物业类别_NA', '燃气费_NA', '建筑结构_钢混结构', '别墅类型_独栋']\n"
     ]
    }
   ],
   "source": [
    "important_fs = [('lon', 272.0), ('物 业 费', 222.0), ('距离', 205.0), ('lonlat', 183.0), ('建筑面积', 172.0), ('建筑面积_lat', 143.0), ('房屋总数', 126.0), ('lat', 115.0), ('容 积 率', 104.0), ('角度', 104.0), ('卧室', 100.0), ('建筑面积_distance', 93.0), ('停车位', 91.0), ('指数户梯比', 86.0), ('总楼层数', 79.0), ('建筑面积_lon', 77.0), ('楼栋总数', 66.0), ('建筑面积_lonlat', 63.0), ('distance', 60.0), ('绿 化 率', 54.0), ('交易时间差', 54.0), ('卫生间', 48.0), ('户', 44.0), ('停车费用', 40.0), ('燃气费', 39.0), ('梯户比', 34.0), ('区域_南开', 31.0), ('梯', 27.0), ('预期上涨占比', 27.0), ('供热费', 25.0), ('区域_和平', 24.0), ('建筑面积平方', 24.0), ('地铁', 22.0), ('区域_河西', 22.0), ('净上涨积分', 20.0), ('房贷环比变动', 20.0), ('客厅', 19.0), ('时间', 18.0), ('个人住房贷款', 18.0), ('北', 17.0), ('楼层位置_高楼层 ', 17.0), ('物业办公电话_NA', 16.0), ('交易月份', 16.0), ('环比下降城市数', 15.0), ('区域_长寿', 15.0), ('供暖_集中供暖', 15.0), ('建筑面积_NA', 13.0), ('南', 13.0), ('装修情况_毛坯', 13.0), ('配备电梯', 12.0), ('西', 11.0), ('区域_开发区', 10.0), ('区域_津南', 10.0), ('是否有医疗设施', 10.0), ('物业公司_NA', 9.0), ('国房景气指数', 9.0), ('企业景气指数', 9.0), ('个人住房贷款利率', 9.0), ('装修情况_精装', 9.0), ('供水_商水/民水', 9.0), ('年份', 8.0), ('开发商_NA', 8.0), ('东', 7.0), ('区域_渝北', 7.0), ('区域_燕郊', 7.0), ('供电_商电/民电', 7.0), ('供电_民电', 7.0), ('是否靠近公交站', 7.0), ('房屋年限_满两年', 6.0), ('楼层位置_中楼层 ', 6.0), ('供暖_集中供暖/自采暖', 6.0), ('是否有娱乐休闲', 6.0), ('别墅梯户比', 6.0), ('梯户比例_NA', 5.0), ('交易年份', 5.0), ('个贷同比变动', 5.0), ('个贷环比变动', 5.0), ('区域_河北', 5.0), ('区域_西青', 5.0), ('建筑结构_砖混结构', 5.0), ('楼层位置_低楼层 ', 5.0), ('厨房', 4.0), ('配备电梯_NA', 4.0), ('供热费_NA', 4.0), ('房地产贷款', 4.0), ('城市_津门市', 4.0), ('区域_固安', 4.0), ('区域_河东', 4.0), ('区域_渝中', 4.0), ('建筑结构_未知结构', 4.0), ('建筑结构_混合结构', 4.0), ('装修情况_其他', 4.0), ('交易权属_商品房', 4.0), ('房屋用途_别墅', 4.0), ('产权所属_共有', 4.0), ('供水_民水', 4.0), ('物业类别_NA', 3.0), ('燃气费_NA', 3.0), ('建筑结构_钢混结构', 3.0), ('别墅类型_独栋', 3.0)]\n",
    "important_fs = [i[0] for i in important_fs]\n",
    "print(important_fs)"
   ]
  },
  {
   "cell_type": "code",
   "execution_count": null,
   "id": "7b82de0a-b1eb-4b6f-a9d6-e3949ce703a0",
   "metadata": {
    "tags": []
   },
   "outputs": [
    {
     "data": {
      "image/png": "[encoded data removed]",
      "text/plain": [
       "<Figure size 600x400 with 1 Axes>"
      ]
     },
     "metadata": {},
     "output_type": "display_data"
    }
   ],
   "source": [
    "data = [('lon', 272.0), ('物 业 费', 222.0), ('距离', 205.0), ('lonlat', 183.0),\n",
    "        ('建筑面积', 172.0), ('建筑面积_lat', 143.0), ('房屋总数', 126.0),\n",
    "        ('lat', 115.0), ('容 积 率', 104.0), ('角度', 104.0)]\n",
    "\n",
    "sorted_data = sorted(data, key=lambda x: x[1], reverse=True)\n",
    "\n",
    "features, importances = zip(*sorted_data[:10])\n",
    "\n",
    "plt.figure(figsize=(6, 4))  \n",
    "plt.barh(range(len(importances)), importances, color='skyblue', edgecolor='black')\n",
    "plt.yticks(range(len(importances)), features)\n",
    "plt.xlabel('Importance')\n",
    "plt.title('Top 10 Feature Importances')\n",
    "\n",
    "plt.show()"
   ]
  },
  {
   "cell_type": "code",
   "execution_count": 26,
   "id": "5f1aee21-046d-433f-b837-59ee26b72cfb",
   "metadata": {
    "tags": []
   },
   "outputs": [
    {
     "name": "stdout",
     "output_type": "stream",
     "text": [
      "The number of candidate features is 88922\n",
      "Start stage I selection.\n"
     ]
    },
    {
     "name": "stderr",
     "output_type": "stream",
     "text": [
      "100%|█████████████████████████████████████████████████████████████████████████████████| 16/16 [43:15<00:00, 162.23s/it]\n"
     ]
    },
    {
     "name": "stdout",
     "output_type": "stream",
     "text": [
      "52090 same features have been deleted.\n"
     ]
    },
    {
     "name": "stderr",
     "output_type": "stream",
     "text": [
      "100%|██████████████████████████████████████████████████████████████████████████████████| 16/16 [10:58<00:00, 41.14s/it]\n",
      "100%|██████████████████████████████████████████████████████████████████████████████████| 16/16 [09:26<00:00, 35.38s/it]\n",
      "100%|██████████████████████████████████████████████████████████████████████████████████| 16/16 [09:34<00:00, 35.94s/it]\n"
     ]
    },
    {
     "name": "stdout",
     "output_type": "stream",
     "text": [
      "The number of remaining candidate features is 4604\n",
      "Start stage II selection.\n"
     ]
    },
    {
     "name": "stderr",
     "output_type": "stream",
     "text": [
      "100%|██████████████████████████████████████████████████████████████████████████████████| 16/16 [03:14<00:00, 12.16s/it]\n"
     ]
    },
    {
     "name": "stdout",
     "output_type": "stream",
     "text": [
      "Finish data processing.\n",
      "[LightGBM] [Warning] Found whitespace in feature_names, replace with underlines\n",
      "[LightGBM] [Info] Auto-choosing col-wise multi-threading, the overhead of testing was 6.082383 seconds.\n",
      "You can set `force_col_wise=true` to remove the overhead.\n",
      "[LightGBM] [Info] Total Bins 862244\n",
      "[LightGBM] [Info] Number of data points in the train set: 82951, number of used features: 4704\n",
      "[LightGBM] [Warning] Found whitespace in feature_names, replace with underlines\n"
     ]
    },
    {
     "ename": "NameError",
     "evalue": "name 'features' is not defined",
     "output_type": "error",
     "traceback": [
      "\u001b[1;31m---------------------------------------------------------------------------\u001b[0m",
      "\u001b[1;31mNameError\u001b[0m                                 Traceback (most recent call last)",
      "Cell \u001b[1;32mIn[26], line 6\u001b[0m\n\u001b[0;32m      4\u001b[0m ofe \u001b[38;5;241m=\u001b[39m OpenFE()\n\u001b[0;32m      5\u001b[0m ofe\u001b[38;5;241m.\u001b[39mfit(data\u001b[38;5;241m=\u001b[39mX_train, label \u001b[38;5;241m=\u001b[39m y_train, n_jobs \u001b[38;5;241m=\u001b[39m\u001b[38;5;241m4\u001b[39m)\n\u001b[1;32m----> 6\u001b[0m X_train,X_test \u001b[38;5;241m=\u001b[39m transform(X_train,X_test,features,n_jobs \u001b[38;5;241m=\u001b[39m\u001b[38;5;241m4\u001b[39m)\n",
      "\u001b[1;31mNameError\u001b[0m: name 'features' is not defined"
     ]
    }
   ],
   "source": [
    "X = train_data[important_fs]\n",
    "y = train_data['价格']  \n",
    "X_train, X_test, y_train, y_test = train_test_split(X, y, test_size=0.2, random_state=111)\n",
    "ofe = OpenFE()\n",
    "ofe.fit(data=X_train, label = y_train, n_jobs =4)\n",
    "X_train,X_test = transform(X_train,X_test,features,n_jobs =4)"
   ]
  },
  {
   "cell_type": "code",
   "execution_count": 27,
   "id": "605686c2-c9bf-4e57-b154-502af4ac3648",
   "metadata": {
    "tags": []
   },
   "outputs": [],
   "source": [
    "X_train, X_test = transform(X_train, X_test, ofe.new_features_list[:50], n_jobs=4) # transform the train and test data according to generated features."
   ]
  },
  {
   "cell_type": "code",
   "execution_count": 29,
   "id": "75d2fc97-e8e6-4a0d-bb2c-2fc803f33a71",
   "metadata": {
    "tags": []
   },
   "outputs": [
    {
     "name": "stdout",
     "output_type": "stream",
     "text": [
      "Mean Absolute Error: 158042.7501060834\n"
     ]
    }
   ],
   "source": [
    "# define the model\n",
    "ofe_xg1_model = xgb.XGBRegressor(learning_rate =   0.02865, reg_lambda =0.28023920838984356, reg_alpha = 93.26922092010518, gamma = 9.926790504999932, n_estimators = 2991, \n",
    "                         max_depth = 9, min_child_weight = 2,subsample = 0.8661393983774751, colsample_bytree =0.7088349633953773)\n",
    "\n",
    "\n",
    "# fit the model on the training data\n",
    "ofe_xg1_model.fit(X_train, y_train)\n",
    "y_pred = ofe_xg1_model.predict(X_test)\n",
    "\n",
    "# calculate the mean squared error of the predictions\n",
    "mae = mean_absolute_error(y_test, y_pred)\n",
    "\n",
    "print(\"Mean Absolute Error:\", mae)"
   ]
  },
  {
   "cell_type": "markdown",
   "id": "8d9c6446-23cb-4bcc-9982-c87a90e9da93",
   "metadata": {},
   "source": [
    "##### It can be seen that after using OpenFE to filter features, the effect has been significantly improved"
   ]
  }
 ],
 "metadata": {
  "kernelspec": {
   "display_name": "Python 3 (ipykernel)",
   "language": "python",
   "name": "python3"
  },
  "language_info": {
   "codemirror_mode": {
    "name": "ipython",
    "version": 3
   },
   "file_extension": ".py",
   "mimetype": "text/x-python",
   "name": "python",
   "nbconvert_exporter": "python",
   "pygments_lexer": "ipython3",
   "version": "3.11.5"
  }
 },
 "nbformat": 4,
 "nbformat_minor": 5
}
